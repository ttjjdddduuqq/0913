{
  "nbformat": 4,
  "nbformat_minor": 0,
  "metadata": {
    "colab": {
      "provenance": [],
      "authorship_tag": "ABX9TyOKhn8X4UE5NkBLEyC4u5ZB",
      "include_colab_link": true
    },
    "kernelspec": {
      "name": "python3",
      "display_name": "Python 3"
    },
    "language_info": {
      "name": "python"
    }
  },
  "cells": [
    {
      "cell_type": "markdown",
      "metadata": {
        "id": "view-in-github",
        "colab_type": "text"
      },
      "source": [
        "<a href=\"https://colab.research.google.com/github/ttjjdddduuqq/0913/blob/main/python06.ipynb\" target=\"_parent\"><img src=\"https://colab.research.google.com/assets/colab-badge.svg\" alt=\"Open In Colab\"/></a>"
      ]
    },
    {
      "cell_type": "markdown",
      "source": [
        "# 리스트(List)"
      ],
      "metadata": {
        "id": "TBbwicYoQ9Xq"
      }
    },
    {
      "cell_type": "markdown",
      "source": [
        "*  `list`: 여러 개의 값들을 하나의 변수에 저장하기 위한 데이터 타입.\n",
        "*   element(원소,요소): 리스트에 저장된 각각의 값.\n",
        "*   index(인덱스): 리스트에서 각각의 원소들이 저장된 위치(번호).\n",
        "    *   리스트의 인덱스는  0 부터 시작.\n",
        "    *   리스트의 마지막 인덱스는 (원소 개수 - 1).\n",
        "*   리스트는 원소들을 변경(추가, 삭제)할 수 있음.\n",
        "    *   `tuple` 과 다른점!  \\"
      ],
      "metadata": {
        "id": "ZAs9ib7YRQda"
      }
    },
    {
      "cell_type": "code",
      "source": [
        "# 숫자들을 저장하는  list\n",
        "numbers = [1, 2, 10, 20, -1, -2]\n",
        "print(type(numbers))\n",
        "print(numbers)"
      ],
      "metadata": {
        "colab": {
          "base_uri": "https://localhost:8080/"
        },
        "id": "Ua22Z_2BSzCR",
        "outputId": "5d45b10f-aeed-482d-cda9-67fa96dd2ef6"
      },
      "execution_count": null,
      "outputs": [
        {
          "output_type": "stream",
          "name": "stdout",
          "text": [
            "<class 'list'>\n",
            "[1, 2, 10, 20, -1, -2]\n"
          ]
        }
      ]
    },
    {
      "cell_type": "code",
      "source": [
        "# 여러가지 타입의 원소들을 저장하는  list\n",
        "values =[1, 2, 'hello', '안녕', True, False]\n",
        "print(type(values))\n",
        "print(values)"
      ],
      "metadata": {
        "colab": {
          "base_uri": "https://localhost:8080/"
        },
        "id": "2EptIAL0TqMq",
        "outputId": "06f21af0-72fa-4e37-97cf-d128e647414e"
      },
      "execution_count": null,
      "outputs": [
        {
          "output_type": "stream",
          "name": "stdout",
          "text": [
            "<class 'list'>\n",
            "[1, 2, 'hello', '안녕', True, False]\n"
          ]
        }
      ]
    },
    {
      "cell_type": "markdown",
      "source": [
        "## Indexing"
      ],
      "metadata": {
        "id": "aVEInBBjUMl6"
      }
    },
    {
      "cell_type": "markdown",
      "source": [
        "인덱스를 사용해서 리스트의 원소를 사용하는 방법."
      ],
      "metadata": {
        "id": "8xS16tT6UR4T"
      }
    },
    {
      "cell_type": "code",
      "source": [
        "numbers = [1, 2, 10, 20, -1, -2]"
      ],
      "metadata": {
        "id": "qiB3Swo5Uaa6"
      },
      "execution_count": null,
      "outputs": []
    },
    {
      "cell_type": "code",
      "source": [
        "numbers[0]    # 리스트 numbers의 첫번째 원소"
      ],
      "metadata": {
        "colab": {
          "base_uri": "https://localhost:8080/"
        },
        "id": "0Qv-TAfQVg46",
        "outputId": "99be2623-f3c2-4765-bd24-63490a7274b9"
      },
      "execution_count": null,
      "outputs": [
        {
          "output_type": "execute_result",
          "data": {
            "text/plain": [
              "1"
            ]
          },
          "metadata": {},
          "execution_count": 5
        }
      ]
    },
    {
      "cell_type": "code",
      "source": [
        "numbers[5]    # 리스트 numbers의 다섯번째 원소"
      ],
      "metadata": {
        "colab": {
          "base_uri": "https://localhost:8080/"
        },
        "id": "RT4xGGv0WM0C",
        "outputId": "b5014a39-1feb-42ec-a137-cabde09d2d0b"
      },
      "execution_count": null,
      "outputs": [
        {
          "output_type": "execute_result",
          "data": {
            "text/plain": [
              "-2"
            ]
          },
          "metadata": {},
          "execution_count": 6
        }
      ]
    },
    {
      "cell_type": "code",
      "source": [
        "numbers[3]    # 리스트 numbers의 세번째 원소"
      ],
      "metadata": {
        "colab": {
          "base_uri": "https://localhost:8080/"
        },
        "id": "Y4bbNIWNWbuT",
        "outputId": "21bf3b6e-5288-4bb7-85a0-82ab4d9a13c8"
      },
      "execution_count": null,
      "outputs": [
        {
          "output_type": "execute_result",
          "data": {
            "text/plain": [
              "20"
            ]
          },
          "metadata": {},
          "execution_count": 7
        }
      ]
    },
    {
      "cell_type": "code",
      "source": [
        "numbers[-1]  # 리스트 numbers의 마지막 원소"
      ],
      "metadata": {
        "colab": {
          "base_uri": "https://localhost:8080/"
        },
        "id": "1pvqervRXUY5",
        "outputId": "b1efa556-91b8-43a2-ea48-6f14be81d0db"
      },
      "execution_count": null,
      "outputs": [
        {
          "output_type": "execute_result",
          "data": {
            "text/plain": [
              "-2"
            ]
          },
          "metadata": {},
          "execution_count": 8
        }
      ]
    },
    {
      "cell_type": "code",
      "source": [
        "numbers[-2]  #리스트 numbers의 끝에서 두번째 원소"
      ],
      "metadata": {
        "colab": {
          "base_uri": "https://localhost:8080/"
        },
        "id": "qrylNJYuXbRL",
        "outputId": "798357c1-09a7-403a-b368-d3f0c528d563"
      },
      "execution_count": null,
      "outputs": [
        {
          "output_type": "execute_result",
          "data": {
            "text/plain": [
              "-1"
            ]
          },
          "metadata": {},
          "execution_count": 9
        }
      ]
    },
    {
      "cell_type": "markdown",
      "source": [
        "## slicing"
      ],
      "metadata": {
        "id": "0o0oeNzhcJGC"
      }
    },
    {
      "cell_type": "markdown",
      "source": [
        "`list[start:end]`\n",
        "\n",
        "*  list에서 인덱스가 start <= index < end 범위의 원소들을 잘라내는 방법.\n",
        "*  시작 인덱스 start를 생략하면, 시작 인덱스는 0번\n",
        "*  마지막 인덱스 end를 생략하면, 리스트의 마지막 원소까지 잘라냄.\n",
        "*  slicing의 결과는 **새로운 리스트!**"
      ],
      "metadata": {
        "id": "5Mi2VkcScSfh"
      }
    },
    {
      "cell_type": "code",
      "source": [
        "numbers = [1, 2, 10, 20, -1, -2]"
      ],
      "metadata": {
        "id": "gS7pbdlbpuhf"
      },
      "execution_count": null,
      "outputs": []
    },
    {
      "cell_type": "code",
      "source": [
        "numbers[1:4]"
      ],
      "metadata": {
        "colab": {
          "base_uri": "https://localhost:8080/"
        },
        "id": "5mhtExsQcNPB",
        "outputId": "4e2d2ae0-3ecd-4bd6-8929-628d1b8d28c2"
      },
      "execution_count": null,
      "outputs": [
        {
          "output_type": "execute_result",
          "data": {
            "text/plain": [
              "[2, 10, 20]"
            ]
          },
          "metadata": {},
          "execution_count": 12
        }
      ]
    },
    {
      "cell_type": "code",
      "source": [
        "numbers[:3]"
      ],
      "metadata": {
        "colab": {
          "base_uri": "https://localhost:8080/"
        },
        "id": "7evdUQk3eHnD",
        "outputId": "86ac0854-2515-4f78-98af-6e781209b4fc"
      },
      "execution_count": null,
      "outputs": [
        {
          "output_type": "execute_result",
          "data": {
            "text/plain": [
              "[1, 2, 10]"
            ]
          },
          "metadata": {},
          "execution_count": 11
        }
      ]
    },
    {
      "cell_type": "code",
      "source": [
        "numbers[3:]"
      ],
      "metadata": {
        "colab": {
          "base_uri": "https://localhost:8080/"
        },
        "id": "wR0T3mV4ecjb",
        "outputId": "47325d49-d407-412a-c052-a8bc67e9f614"
      },
      "execution_count": null,
      "outputs": [
        {
          "output_type": "execute_result",
          "data": {
            "text/plain": [
              "[20, -1, -2]"
            ]
          },
          "metadata": {},
          "execution_count": 45
        }
      ]
    },
    {
      "cell_type": "code",
      "source": [
        "numbers[:]    #numbers의 리스트는 그대로 있고"
      ],
      "metadata": {
        "colab": {
          "base_uri": "https://localhost:8080/"
        },
        "id": "mJt9T0J7en9L",
        "outputId": "c67f495d-96e9-4441-8c26-01c8be893618"
      },
      "execution_count": null,
      "outputs": [
        {
          "output_type": "execute_result",
          "data": {
            "text/plain": [
              "[1, 2, 10, 20, -1, -2]"
            ]
          },
          "metadata": {},
          "execution_count": 46
        }
      ]
    },
    {
      "cell_type": "code",
      "source": [
        " # 리스트 numbers에서 마지막 2개 원소만 선택(slicing)\n",
        " numbers[-2:]"
      ],
      "metadata": {
        "colab": {
          "base_uri": "https://localhost:8080/"
        },
        "id": "lCi0CymEfgsr",
        "outputId": "c6189bbb-649a-4d8d-8e4d-0e7cb181372e"
      },
      "execution_count": null,
      "outputs": [
        {
          "output_type": "execute_result",
          "data": {
            "text/plain": [
              "[-1, -2]"
            ]
          },
          "metadata": {},
          "execution_count": 48
        }
      ]
    },
    {
      "cell_type": "code",
      "source": [
        "print(numbers[0])    # indexing: 리스트에서 해당 인덱스의 원소(값) 1개를 찾음 -> 숫자 1\n",
        "print(numbers[0:1])  # slicing: 리스트에서 일부분을 잘라낸 리스트. -> 리스트 [1]"
      ],
      "metadata": {
        "colab": {
          "base_uri": "https://localhost:8080/"
        },
        "id": "LtwJ08GGgGRM",
        "outputId": "f8b04ef9-0267-44ca-bdee-547505143191"
      },
      "execution_count": null,
      "outputs": [
        {
          "output_type": "stream",
          "name": "stdout",
          "text": [
            "1\n",
            "[1]\n"
          ]
        }
      ]
    },
    {
      "cell_type": "markdown",
      "source": [
        "## 문자열(string)"
      ],
      "metadata": {
        "id": "zSpMLIm8hEzj"
      }
    },
    {
      "cell_type": "markdown",
      "source": [
        "문자열 : 문자들의 리스트.\n",
        "\n",
        "*  인덱스를 사용할 수 있음.\n",
        "    *   indexing: 해당 인덱스의 문자 1개를 선택.\n",
        "    *   slicing  문자열의 일부를 잘라냄."
      ],
      "metadata": {
        "id": "jThpO8johLez"
      }
    },
    {
      "cell_type": "code",
      "source": [
        "message = '안녕, python!'  # 문자 11개를 갖는 문자열. 11개의 문자들을 원소로 갖는 리스트"
      ],
      "metadata": {
        "id": "lU7l3z9jhsjz"
      },
      "execution_count": null,
      "outputs": []
    },
    {
      "cell_type": "code",
      "source": [
        "#  문자열 message에서 첫번째 문자를 선택\n",
        "message[0]"
      ],
      "metadata": {
        "colab": {
          "base_uri": "https://localhost:8080/",
          "height": 35
        },
        "id": "aEGhY5SoiD_7",
        "outputId": "724bd346-cf3b-44db-8f52-be134ed6d558"
      },
      "execution_count": null,
      "outputs": [
        {
          "output_type": "execute_result",
          "data": {
            "text/plain": [
              "'안'"
            ],
            "application/vnd.google.colaboratory.intrinsic+json": {
              "type": "string"
            }
          },
          "metadata": {},
          "execution_count": 54
        }
      ]
    },
    {
      "cell_type": "code",
      "source": [
        "#  문자열 message에서 마지막 문자\n",
        "message[-1]"
      ],
      "metadata": {
        "colab": {
          "base_uri": "https://localhost:8080/",
          "height": 35
        },
        "id": "EdqudamyiSd8",
        "outputId": "90335658-8b7e-45c2-9393-979de6ab8653"
      },
      "execution_count": null,
      "outputs": [
        {
          "output_type": "execute_result",
          "data": {
            "text/plain": [
              "'!'"
            ],
            "application/vnd.google.colaboratory.intrinsic+json": {
              "type": "string"
            }
          },
          "metadata": {},
          "execution_count": 56
        }
      ]
    },
    {
      "cell_type": "code",
      "source": [
        "# 문자열 message에서 첫 두글자\n",
        "message[:2]"
      ],
      "metadata": {
        "colab": {
          "base_uri": "https://localhost:8080/",
          "height": 35
        },
        "id": "5xczqqpCijgc",
        "outputId": "4ca9f42f-6ab0-4f72-e6f7-1b768dbc4876"
      },
      "execution_count": null,
      "outputs": [
        {
          "output_type": "execute_result",
          "data": {
            "text/plain": [
              "'안녕'"
            ],
            "application/vnd.google.colaboratory.intrinsic+json": {
              "type": "string"
            }
          },
          "metadata": {},
          "execution_count": 61
        }
      ]
    },
    {
      "cell_type": "code",
      "source": [
        "# 문자열 message에서 마지막 세글자\n",
        "message[-3:]"
      ],
      "metadata": {
        "colab": {
          "base_uri": "https://localhost:8080/",
          "height": 35
        },
        "id": "LTa2fjtei0oT",
        "outputId": "aa160da4-8f00-4840-aff7-e5e598ccbd4e"
      },
      "execution_count": null,
      "outputs": [
        {
          "output_type": "execute_result",
          "data": {
            "text/plain": [
              "'on!'"
            ],
            "application/vnd.google.colaboratory.intrinsic+json": {
              "type": "string"
            }
          },
          "metadata": {},
          "execution_count": 60
        }
      ]
    },
    {
      "cell_type": "markdown",
      "source": [
        "## list의 산술 연산"
      ],
      "metadata": {
        "id": "DQPgiZkfjW-j"
      }
    },
    {
      "cell_type": "code",
      "source": [
        "# 문자열의 +\n",
        "'hello' + '안녕'"
      ],
      "metadata": {
        "colab": {
          "base_uri": "https://localhost:8080/",
          "height": 35
        },
        "id": "-Gc9Mv0qjZ7n",
        "outputId": "4043e8ea-ab07-4826-b1f3-72b652eafc46"
      },
      "execution_count": null,
      "outputs": [
        {
          "output_type": "execute_result",
          "data": {
            "text/plain": [
              "'hello안녕'"
            ],
            "application/vnd.google.colaboratory.intrinsic+json": {
              "type": "string"
            }
          },
          "metadata": {},
          "execution_count": 63
        }
      ]
    },
    {
      "cell_type": "code",
      "source": [
        "# list 의 +\n",
        "[1,2,3] + [100, 200]"
      ],
      "metadata": {
        "colab": {
          "base_uri": "https://localhost:8080/"
        },
        "id": "IHEzsYjzj7RT",
        "outputId": "8598ed05-6f82-4a72-b9d7-4c2d4e4cd198"
      },
      "execution_count": null,
      "outputs": [
        {
          "output_type": "execute_result",
          "data": {
            "text/plain": [
              "[1, 2, 3, 100, 200]"
            ]
          },
          "metadata": {},
          "execution_count": 68
        }
      ]
    },
    {
      "cell_type": "code",
      "source": [
        "# 문자열의 *\n",
        "'안녕' * 5"
      ],
      "metadata": {
        "colab": {
          "base_uri": "https://localhost:8080/",
          "height": 35
        },
        "id": "4zYTOukPkINL",
        "outputId": "81b3268e-ab3d-4320-ac81-7b24870f879b"
      },
      "execution_count": null,
      "outputs": [
        {
          "output_type": "execute_result",
          "data": {
            "text/plain": [
              "'안녕안녕안녕안녕안녕'"
            ],
            "application/vnd.google.colaboratory.intrinsic+json": {
              "type": "string"
            }
          },
          "metadata": {},
          "execution_count": 70
        }
      ]
    },
    {
      "cell_type": "code",
      "source": [
        "# list의 *\n",
        "[1,2,3,] * 5"
      ],
      "metadata": {
        "colab": {
          "base_uri": "https://localhost:8080/"
        },
        "id": "hOsidqEYkTf6",
        "outputId": "0060c3e9-a05f-41af-bfaf-51dd4224ef8c"
      },
      "execution_count": null,
      "outputs": [
        {
          "output_type": "execute_result",
          "data": {
            "text/plain": [
              "[1, 2, 3, 1, 2, 3, 1, 2, 3, 1, 2, 3, 1, 2, 3]"
            ]
          },
          "metadata": {},
          "execution_count": 71
        }
      ]
    },
    {
      "cell_type": "markdown",
      "source": [
        "# list의 기능들 - 함수(메서드)"
      ],
      "metadata": {
        "id": "z6At2M4NHcL5"
      }
    },
    {
      "cell_type": "markdown",
      "source": [
        "## 원소 추가"
      ],
      "metadata": {
        "id": "WlzSogIwHxDh"
      }
    },
    {
      "cell_type": "code",
      "source": [
        "numbers = [1, 2, 3, 4, 5]\n",
        "print(numbers)"
      ],
      "metadata": {
        "colab": {
          "base_uri": "https://localhost:8080/"
        },
        "id": "2o7f_UdKH1NE",
        "outputId": "749c988c-a4fe-4479-9874-fd6fa95c0679"
      },
      "execution_count": null,
      "outputs": [
        {
          "output_type": "stream",
          "name": "stdout",
          "text": [
            "[1, 2, 3, 4, 5]\n"
          ]
        }
      ]
    },
    {
      "cell_type": "code",
      "source": [
        "# list.append(값): 값을 list의 가장 마지막 위치에 추가\n",
        "numbers.append(100)\n",
        "print(numbers)"
      ],
      "metadata": {
        "colab": {
          "base_uri": "https://localhost:8080/"
        },
        "id": "cMRZ16L3IEPi",
        "outputId": "38d51621-2b6c-45a4-8db8-314a2338c17a"
      },
      "execution_count": null,
      "outputs": [
        {
          "output_type": "stream",
          "name": "stdout",
          "text": [
            "[1, 2, 3, 4, 5, 100]\n"
          ]
        }
      ]
    },
    {
      "cell_type": "code",
      "source": [
        "# list.insert(index, object) : list의 index 위치에 object를 삽입\n",
        "numbers.insert(0, 123)\n",
        "print(numbers)"
      ],
      "metadata": {
        "colab": {
          "base_uri": "https://localhost:8080/"
        },
        "id": "eTN-4oynJV3E",
        "outputId": "532dafbb-fa2d-4e55-e69f-1ce2a8916bbe"
      },
      "execution_count": null,
      "outputs": [
        {
          "output_type": "stream",
          "name": "stdout",
          "text": [
            "[123, 1, 2, 3, 4, 5, 100]\n"
          ]
        }
      ]
    },
    {
      "cell_type": "code",
      "source": [
        "#list.extend(iterable) : iterable 타입 객체의 원소들을 하나씩 list에 추가\n",
        "# numbers = numbers + [-1, -2, -3]\n",
        "numbers.extend([-1, -2, -3])\n",
        "print(numbers)"
      ],
      "metadata": {
        "colab": {
          "base_uri": "https://localhost:8080/"
        },
        "id": "ZTNIALIyKZWa",
        "outputId": "073aa668-2fc4-468d-bceb-abeff7951e33"
      },
      "execution_count": null,
      "outputs": [
        {
          "output_type": "stream",
          "name": "stdout",
          "text": [
            "[123, 1, 2, 3, 4, 5, 100, -1, -2, -3]\n"
          ]
        }
      ]
    },
    {
      "cell_type": "code",
      "source": [
        "numbers.append([111,222])\n",
        "print(numbers)# list.append(another_list) :another_list의 가장 마지막에 추가. extend() 함수의 결과와 다름!"
      ],
      "metadata": {
        "colab": {
          "base_uri": "https://localhost:8080/"
        },
        "id": "FznNvDhbMMYA",
        "outputId": "93d53a0f-f71b-4545-e954-932b184b429b"
      },
      "execution_count": null,
      "outputs": [
        {
          "output_type": "stream",
          "name": "stdout",
          "text": [
            "[123, 1, 2, 3, 4, 5, 100, -1, -2, -3, [111, 222]]\n"
          ]
        }
      ]
    },
    {
      "cell_type": "markdown",
      "source": [
        "## 원소 삭제"
      ],
      "metadata": {
        "id": "Vuj-IFBBNOxh"
      }
    },
    {
      "cell_type": "code",
      "source": [
        "numbers = [1,2,3,10,20,30,1,2,3,]\n",
        "print(numbers)"
      ],
      "metadata": {
        "colab": {
          "base_uri": "https://localhost:8080/"
        },
        "id": "veof-P0CNRkE",
        "outputId": "16d1bb95-0fef-4070-b495-57d8c30b956a"
      },
      "execution_count": null,
      "outputs": [
        {
          "output_type": "stream",
          "name": "stdout",
          "text": [
            "[1, 2, 3, 10, 20, 30, 1, 2, 3]\n"
          ]
        }
      ]
    },
    {
      "cell_type": "code",
      "source": [
        "# list.pop() : list의 가장 마지막 원소를 삭제\n",
        "numbers.pop()\n",
        "print(numbers)"
      ],
      "metadata": {
        "colab": {
          "base_uri": "https://localhost:8080/"
        },
        "id": "7UZqotkONhZJ",
        "outputId": "72d223ec-e0ea-4cd7-e5bb-485bc81ca3c0"
      },
      "execution_count": null,
      "outputs": [
        {
          "output_type": "stream",
          "name": "stdout",
          "text": [
            "[1, 2, 3, 10, 20, 30, 1, 2]\n"
          ]
        }
      ]
    },
    {
      "cell_type": "code",
      "source": [
        "# list.pop(index) : 해당 index 위치의 원소를 삭제\n",
        "# index 파라미터의 기본값은 -1 이기 떄문에, 아규먼트를 전달하지 않으면 가장 마지막 원소가 삭제됨\n",
        "numbers.pop(1)\n",
        "print(numbers)"
      ],
      "metadata": {
        "colab": {
          "base_uri": "https://localhost:8080/"
        },
        "id": "XCi12vXNOKwy",
        "outputId": "a556b5ac-1093-44d4-94ea-b0ffff1bf505"
      },
      "execution_count": null,
      "outputs": [
        {
          "output_type": "stream",
          "name": "stdout",
          "text": [
            "[1, 3, 10, 20, 30, 1, 2]\n"
          ]
        }
      ]
    },
    {
      "cell_type": "code",
      "source": [
        "# list.remove(value) : list의 원소들 중에서 가장 먼저 나오는 value를 삭제.\n",
        "numbers.remove(2)\n",
        "print(numbers)"
      ],
      "metadata": {
        "colab": {
          "base_uri": "https://localhost:8080/"
        },
        "id": "98nQE7FDO6Eh",
        "outputId": "9972e693-4b7a-4aac-b78c-185384bc3f63"
      },
      "execution_count": null,
      "outputs": [
        {
          "output_type": "stream",
          "name": "stdout",
          "text": [
            "[1, 3, 10, 20, 30, 1, 2, 3]\n"
          ]
        }
      ]
    },
    {
      "cell_type": "code",
      "source": [
        "# list.clear() : list의 모든 원소들을 삭제\n",
        "numbers.clear()\n",
        "print(numbers)"
      ],
      "metadata": {
        "colab": {
          "base_uri": "https://localhost:8080/"
        },
        "id": "31uma4CcPmdB",
        "outputId": "6850114c-b4c9-47cc-f239-a701560700ff"
      },
      "execution_count": null,
      "outputs": [
        {
          "output_type": "stream",
          "name": "stdout",
          "text": [
            "[]\n"
          ]
        }
      ]
    },
    {
      "cell_type": "markdown",
      "source": [
        "## 특정 인덱스의 원소 변경"
      ],
      "metadata": {
        "id": "niv3jdFzVbxS"
      }
    },
    {
      "cell_type": "code",
      "source": [
        "names =['홍길동', 'scott', 'tiger']\n",
        "print(names)"
      ],
      "metadata": {
        "colab": {
          "base_uri": "https://localhost:8080/"
        },
        "id": "IbtaCkZuVf9C",
        "outputId": "221e2f37-b95e-47bc-9070-63e8a98e1146"
      },
      "execution_count": null,
      "outputs": [
        {
          "output_type": "stream",
          "name": "stdout",
          "text": [
            "['홍길동', 'scott', 'tiger']\n"
          ]
        }
      ]
    },
    {
      "cell_type": "code",
      "source": [
        "# list[index] = value: list에서 index 위치의 값을 value로 변경.\n",
        "names[2] = '오쌤'\n",
        "print(names)"
      ],
      "metadata": {
        "colab": {
          "base_uri": "https://localhost:8080/"
        },
        "id": "naoxRvcSVwbB",
        "outputId": "2a713f20-35cd-465d-fafc-8bd0025234de"
      },
      "execution_count": null,
      "outputs": [
        {
          "output_type": "stream",
          "name": "stdout",
          "text": [
            "['홍길동', 'scott', '오쌤']\n"
          ]
        }
      ]
    },
    {
      "cell_type": "markdown",
      "source": [
        "# list와 for 반복문"
      ],
      "metadata": {
        "id": "ian3TcIEWYuB"
      }
    },
    {
      "cell_type": "code",
      "source": [
        "numbers = [1, 2, 3, 10, 20, 30]\n",
        "# list의 아이템(값)들을 순서대로 반복:\n",
        "for x in numbers:\n",
        "    print(x)"
      ],
      "metadata": {
        "colab": {
          "base_uri": "https://localhost:8080/"
        },
        "id": "cCsj1CQGWcQ8",
        "outputId": "109e23a3-2bff-454e-85e0-b18ec2ee5413"
      },
      "execution_count": null,
      "outputs": [
        {
          "output_type": "stream",
          "name": "stdout",
          "text": [
            "1\n",
            "2\n",
            "3\n",
            "10\n",
            "20\n",
            "30\n"
          ]
        }
      ]
    },
    {
      "cell_type": "code",
      "source": [
        "# list의 인덱스와 아이템(값)들을 순서대로 반복:\n",
        "for index, value in enumerate(numbers):\n",
        "    print(index, ':', value)"
      ],
      "metadata": {
        "colab": {
          "base_uri": "https://localhost:8080/"
        },
        "id": "TH6kML7aXpw6",
        "outputId": "86c8f8a6-7b85-453a-fd62-c7ee5226941e"
      },
      "execution_count": null,
      "outputs": [
        {
          "output_type": "stream",
          "name": "stdout",
          "text": [
            "0 : 1\n",
            "1 : 2\n",
            "2 : 3\n",
            "3 : 10\n",
            "4 : 20\n",
            "5 : 30\n"
          ]
        }
      ]
    },
    {
      "cell_type": "markdown",
      "source": [
        "연습문제\n",
        "*  빈 리스트 numbers를 만듦.\n",
        "*  리스트 numbers에 10 미만의 정수 난수 10개를 저장. 난수 append for\n",
        "*  numbers를 출력 print\n",
        "*  numbers의 원소들 중에서 짝수들만 찾아서 새로운 리스트 evens를 만들고 출력\n",
        "numbers로 반복 if사용해서 어펜드\n",
        "  numbers 의 원소들 중에서 홀수들만 찾아서 새로운 리스트 odds를 만들고 출력"
      ],
      "metadata": {
        "id": "GHGFaQDIZCYK"
      }
    },
    {
      "cell_type": "code",
      "source": [
        "numbers = []\n",
        "evens = []\n",
        "odds = []\n",
        "import random\n",
        "numbers = [random.randrange(1,10)]\n",
        "for x in range(0,10):\n",
        "    numbers.append(random.randrange(1,10))\n",
        "print(f'numbers {numbers}')\n",
        "\n",
        "for y in numbers(1,10):\n",
        "    evens.append(random.randrange(1,10))\n",
        "    if y % 2 == 0:\n",
        "print(f'evens {evens}')\n",
        "\n",
        "for z in range(1,10):\n",
        "    odds.append(random.randrange(1,10))\n",
        "    if z % 2 == 0:\n",
        "        print(f'odds {odds}')"
      ],
      "metadata": {
        "colab": {
          "base_uri": "https://localhost:8080/",
          "height": 110
        },
        "id": "qS6axU-waicS",
        "outputId": "5d0ece1f-81c0-4ae1-d505-533e51df28b7"
      },
      "execution_count": null,
      "outputs": [
        {
          "output_type": "error",
          "ename": "IndentationError",
          "evalue": "expected an indented block after 'if' statement on line 12 (<ipython-input-4-329cc8ca90f4>, line 13)",
          "traceback": [
            "\u001b[0;36m  File \u001b[0;32m\"<ipython-input-4-329cc8ca90f4>\"\u001b[0;36m, line \u001b[0;32m13\u001b[0m\n\u001b[0;31m    print(f'evens {evens}')\u001b[0m\n\u001b[0m                           ^\u001b[0m\n\u001b[0;31mIndentationError\u001b[0m\u001b[0;31m:\u001b[0m expected an indented block after 'if' statement on line 12\n"
          ]
        }
      ]
    },
    {
      "cell_type": "code",
      "source": [
        "import random\n",
        "numbers = []\n",
        "#for _ in range(stop) ; range()의 값들을 반복 사용안할때 (underscore) _ 사용하기도 함\n",
        "for _ in range(10):   # 10번 반복 ,     변수 자리 사용안하니까 빈칸으로 남기지 말고 _ 사용\n",
        "    rand_number = random.randrange(10)  # 0 이상 10ㅇ미만의 정수 난수 만듦\n",
        "    numbers.append(rand_number)    #난수를 리스트에 추가.\n",
        "print(numbers)\n",
        "\n",
        "\n",
        "evens = []\n",
        "for x in numbers:    #numbers의 아이템을 순서대로 하나씩 반복하면서\n",
        "    if x % 2 == 0:\n",
        "        evens.append(x)\n",
        "print(evens)\n",
        "\n",
        "\n",
        "odds = []\n",
        "for x in numbers:    #numbers의 아이템을 순서대로 하나씩 반복하면서\n",
        "    if x % 2:        # y를 2로 나눈 나머지가 있으면(y가 홀수이면)\n",
        "        odds.append(x)\n",
        "print(odds)"
      ],
      "metadata": {
        "colab": {
          "base_uri": "https://localhost:8080/"
        },
        "id": "FPsQcbGqhz3S",
        "outputId": "25c1e396-f273-48f4-bdc9-a01f24c9da95"
      },
      "execution_count": null,
      "outputs": [
        {
          "output_type": "stream",
          "name": "stdout",
          "text": [
            "[0, 9, 8, 1, 4, 9, 4, 9, 5, 3]\n",
            "[0, 8, 4, 4]\n",
            "[9, 1, 9, 9, 5, 3]\n"
          ]
        }
      ]
    },
    {
      "cell_type": "markdown",
      "source": [
        "*  integers 이름의 빈 리스트를 만듦\n",
        "*  리스트 integers에 -10 이상 10 이하의 정수 난수 10개를 저장 출력\n",
        "*  is_positives 이름의 빈 리스트를 만듦\n",
        "*  integers의 원소가 양수이면 True 그렇지 않으면 False를 is_positives에 저장 출력"
      ],
      "metadata": {
        "id": "bAGD8BZrl-pp"
      }
    },
    {
      "cell_type": "code",
      "source": [
        "import random\n",
        "integers = []\n",
        "for _ in range(10):\n",
        "    integers.append(random.randrange(-10,11))\n",
        "print(integers)\n",
        "\n",
        "is_positive = []\n",
        "for x in integers:\n",
        "    if x > 0:\n",
        "        is_positive.append(True)\n",
        "    else:\n",
        "        is_positive.append(False)\n",
        "print(is_positive)"
      ],
      "metadata": {
        "colab": {
          "base_uri": "https://localhost:8080/"
        },
        "id": "pJHU7Um2pBri",
        "outputId": "f7e874cb-ab87-4d8d-8b94-d85d7a3f9b8d"
      },
      "execution_count": null,
      "outputs": [
        {
          "output_type": "stream",
          "name": "stdout",
          "text": [
            "[0, 4, -5, 1, -7, -8, 7, 9, 5, 7]\n",
            "[False, True, False, True, False, False, True, True, True, True]\n"
          ]
        }
      ]
    },
    {
      "cell_type": "markdown",
      "source": [
        "## List Comprehension"
      ],
      "metadata": {
        "id": "NRFQm_6u6-0c"
      }
    },
    {
      "cell_type": "code",
      "source": [
        "numbers =[]\n",
        "for x in range(1,11):\n",
        "    numbers.append(x)\n",
        "print(numbers)"
      ],
      "metadata": {
        "colab": {
          "base_uri": "https://localhost:8080/"
        },
        "id": "EF3tuWIB7Lrc",
        "outputId": "27982bf0-2522-4016-f003-c7ee0020147a"
      },
      "execution_count": null,
      "outputs": [
        {
          "output_type": "stream",
          "name": "stdout",
          "text": [
            "[1, 2, 3, 4, 5, 6, 7, 8, 9, 10]\n"
          ]
        }
      ]
    },
    {
      "cell_type": "code",
      "source": [
        "numbers = [x for x in range(1,11)] # x 를 append 한다 for x in range(1,11)\n",
        "print(numbers)"
      ],
      "metadata": {
        "colab": {
          "base_uri": "https://localhost:8080/"
        },
        "id": "DxiDIwQt7yqM",
        "outputId": "e5683044-f4d7-495a-a541-b66a494afa03"
      },
      "execution_count": null,
      "outputs": [
        {
          "output_type": "stream",
          "name": "stdout",
          "text": [
            "[1, 2, 3, 4, 5, 6, 7, 8, 9, 10]\n"
          ]
        }
      ]
    },
    {
      "cell_type": "markdown",
      "source": [
        "1~10 까지 정수들의 제곱을 저장하는 리스트를 만들고 출력"
      ],
      "metadata": {
        "id": "jgLQJRZm8h4s"
      }
    },
    {
      "cell_type": "code",
      "source": [
        "squares = []\n",
        "for x in range(1,11):\n",
        "    squares.append(x ** 2)\n",
        "print(squares)"
      ],
      "metadata": {
        "colab": {
          "base_uri": "https://localhost:8080/"
        },
        "id": "2wEqlm9M8gtD",
        "outputId": "72c1e139-e762-46a5-d746-8f561cac52b7"
      },
      "execution_count": null,
      "outputs": [
        {
          "output_type": "stream",
          "name": "stdout",
          "text": [
            "[1, 4, 9, 16, 25, 36, 49, 64, 81, 100]\n"
          ]
        }
      ]
    },
    {
      "cell_type": "code",
      "source": [
        "squares = [x ** 2 for x in range(1,11)]\n",
        "print(squares)"
      ],
      "metadata": {
        "colab": {
          "base_uri": "https://localhost:8080/"
        },
        "id": "qVIEeXfo9-K0",
        "outputId": "cb827a6c-f7b5-45fc-8f2c-af53bce20455"
      },
      "execution_count": null,
      "outputs": [
        {
          "output_type": "stream",
          "name": "stdout",
          "text": [
            "[1, 4, 9, 16, 25, 36, 49, 64, 81, 100]\n"
          ]
        }
      ]
    },
    {
      "cell_type": "markdown",
      "source": [
        "100 미만의 정수 난수 10개를 저장 리스트 출력"
      ],
      "metadata": {
        "id": "2NPLCAgS-Q7V"
      }
    },
    {
      "cell_type": "code",
      "source": [
        "rand_numbers = [random.randrange(100) for _ in range(10)]\n",
        "print(rand_numbers)"
      ],
      "metadata": {
        "colab": {
          "base_uri": "https://localhost:8080/"
        },
        "id": "akiMpzg9-Ut7",
        "outputId": "15b8361a-9e66-4d9a-879f-eafbdc8625dc"
      },
      "execution_count": null,
      "outputs": [
        {
          "output_type": "stream",
          "name": "stdout",
          "text": [
            "[90, 82, 68, 57, 93, 56, 63, 74, 62, 94]\n"
          ]
        }
      ]
    },
    {
      "cell_type": "markdown",
      "source": [
        "rand_numbers에서 짝수들만 선택해서 새로운 리스트 만들고 출력\n",
        "홀수도 만들고 출력"
      ],
      "metadata": {
        "id": "Y5OsoChi_sHN"
      }
    },
    {
      "cell_type": "code",
      "source": [
        "evens = [x for x in rand_numbers if x % 2 == 0]\n",
        "print(evens)"
      ],
      "metadata": {
        "colab": {
          "base_uri": "https://localhost:8080/"
        },
        "id": "5eZis3LQ_ztE",
        "outputId": "9aa362ad-86ef-4851-ddc4-e9675a49f11a"
      },
      "execution_count": null,
      "outputs": [
        {
          "output_type": "stream",
          "name": "stdout",
          "text": [
            "[90, 82, 68, 56, 74, 62, 94]\n"
          ]
        }
      ]
    },
    {
      "cell_type": "code",
      "source": [
        "odds = [x for x in rand_numbers if x % 2]    #  for~rand_numbers까지 범위에서 if 가 만족하면 x를 append\n",
        "print(odds)"
      ],
      "metadata": {
        "colab": {
          "base_uri": "https://localhost:8080/"
        },
        "id": "VUoSLLe7Bqtk",
        "outputId": "84fbcccc-8171-4e15-a7db-99ec648d956a"
      },
      "execution_count": null,
      "outputs": [
        {
          "output_type": "stream",
          "name": "stdout",
          "text": [
            "[57, 93, 63]\n"
          ]
        }
      ]
    },
    {
      "cell_type": "markdown",
      "source": [
        "if-else 표현식\n",
        "\n",
        "```\n",
        "vlaue if condition else value\n",
        "값1 if 조건식 else 값2\n",
        "```\n",
        "\n",
        "조건식을 만족하면 (값1)을 선택, 그렇지 않으면 (값2) 를 선택"
      ],
      "metadata": {
        "id": "bpFB1toeCVj8"
      }
    },
    {
      "cell_type": "code",
      "source": [
        "x = 1\n",
        "is_even = True if x % 2 == 0 else False\n",
        "print(is_even)\n"
      ],
      "metadata": {
        "colab": {
          "base_uri": "https://localhost:8080/"
        },
        "id": "toMFeF8cCsnl",
        "outputId": "cb5e04cb-fd2a-4685-9863-d58849a19221"
      },
      "execution_count": null,
      "outputs": [
        {
          "output_type": "stream",
          "name": "stdout",
          "text": [
            "False\n"
          ]
        }
      ]
    },
    {
      "cell_type": "markdown",
      "source": [
        "rand_numbers의 값이 짝수이면 True , 그렇지않으면 False 리스트를 만들고 출력\n",
        "\n",
        "---\n",
        "\n"
      ],
      "metadata": {
        "id": "I5y7rCCqDyJc"
      }
    },
    {
      "cell_type": "code",
      "source": [
        "is_evens = [True if x % 2 == 0 else False for x in rand_numbers]  # if 조건이 맞으면 True 틀리면 False  for~rand_numbers 범위에서\n",
        "print(is_evens)"
      ],
      "metadata": {
        "colab": {
          "base_uri": "https://localhost:8080/"
        },
        "id": "IpJsZXsYD9f0",
        "outputId": "d4666307-3eee-44ee-87e0-821a684cd6db"
      },
      "execution_count": null,
      "outputs": [
        {
          "output_type": "stream",
          "name": "stdout",
          "text": [
            "[True, True, True, False, False, True, False, True, True, True]\n"
          ]
        }
      ]
    },
    {
      "cell_type": "markdown",
      "source": [
        "# 다차원 리스트"
      ],
      "metadata": {
        "id": "OwDCrctRLDxb"
      }
    },
    {
      "cell_type": "markdown",
      "source": [
        "다차원 리스트 : 리스트들을 아이템(원소)로 갖는 리스트"
      ],
      "metadata": {
        "id": "HbxpN2rtLKRV"
      }
    },
    {
      "cell_type": "code",
      "source": [
        "matrix = [\n",
        "    [1,2,3,4],\n",
        "    [4,5,6,7],\n",
        "    [7,8,9,10]\n",
        "]"
      ],
      "metadata": {
        "id": "luuVbpk6KkvU"
      },
      "execution_count": null,
      "outputs": []
    },
    {
      "cell_type": "code",
      "source": [
        "len(matrix)    # len(object) : obj가 갖고 있는 아이템들의 개수를 리턴"
      ],
      "metadata": {
        "colab": {
          "base_uri": "https://localhost:8080/"
        },
        "id": "E4TdBpVQLlys",
        "outputId": "ee039660-0be1-4f19-cbc0-59cf01892b2c"
      },
      "execution_count": null,
      "outputs": [
        {
          "output_type": "execute_result",
          "data": {
            "text/plain": [
              "3"
            ]
          },
          "metadata": {},
          "execution_count": 50
        }
      ]
    },
    {
      "cell_type": "code",
      "source": [
        "matrix[0]"
      ],
      "metadata": {
        "colab": {
          "base_uri": "https://localhost:8080/"
        },
        "id": "B3LBHAMUMrI9",
        "outputId": "504b5f44-0a29-45e0-8daf-5c129c03e6f4"
      },
      "execution_count": null,
      "outputs": [
        {
          "output_type": "execute_result",
          "data": {
            "text/plain": [
              "[1, 2, 3, 4]"
            ]
          },
          "metadata": {},
          "execution_count": 53
        }
      ]
    },
    {
      "cell_type": "code",
      "source": [
        "matrix[0][0]"
      ],
      "metadata": {
        "colab": {
          "base_uri": "https://localhost:8080/"
        },
        "id": "K2cp-eHqM7Vd",
        "outputId": "d8425f92-642d-4431-9128-1808a3398935"
      },
      "execution_count": null,
      "outputs": [
        {
          "output_type": "execute_result",
          "data": {
            "text/plain": [
              "1"
            ]
          },
          "metadata": {},
          "execution_count": 54
        }
      ]
    },
    {
      "cell_type": "markdown",
      "source": [
        "## 다차원 배열과 for 반복문"
      ],
      "metadata": {
        "id": "Vn3yOdwJNV9V"
      }
    },
    {
      "cell_type": "code",
      "source": [
        "for row in matrix:\n",
        "    print(row)"
      ],
      "metadata": {
        "colab": {
          "base_uri": "https://localhost:8080/"
        },
        "id": "LcLn04rWNZ33",
        "outputId": "4f51b82c-e019-43a0-883e-ad461bde46e8"
      },
      "execution_count": null,
      "outputs": [
        {
          "output_type": "stream",
          "name": "stdout",
          "text": [
            "[1, 2, 3, 4]\n",
            "[4, 5, 6, 7]\n",
            "[7, 8, 9, 10]\n"
          ]
        }
      ]
    },
    {
      "cell_type": "code",
      "source": [
        "for row in matrix:\n",
        "    for x in row:\n",
        "        print(x)"
      ],
      "metadata": {
        "colab": {
          "base_uri": "https://localhost:8080/"
        },
        "id": "jfojVlaON5el",
        "outputId": "30b63c3e-0007-458f-dfc2-d7f6e97a88e2"
      },
      "execution_count": null,
      "outputs": [
        {
          "output_type": "stream",
          "name": "stdout",
          "text": [
            "1\n",
            "2\n",
            "3\n",
            "4\n",
            "4\n",
            "5\n",
            "6\n",
            "7\n",
            "7\n",
            "8\n",
            "9\n",
            "10\n"
          ]
        }
      ]
    },
    {
      "cell_type": "code",
      "source": [
        "for row in matrix:\n",
        "    for x in row:\n",
        "        print(x, end= '\\t')\n",
        "    print()"
      ],
      "metadata": {
        "colab": {
          "base_uri": "https://localhost:8080/"
        },
        "id": "jfTU3OiDOtRN",
        "outputId": "41f04a7e-5fb7-464b-c96d-b5935014cb83"
      },
      "execution_count": null,
      "outputs": [
        {
          "output_type": "stream",
          "name": "stdout",
          "text": [
            "1\t2\t3\t4\t\n",
            "4\t5\t6\t7\t\n",
            "7\t8\t9\t10\t\n"
          ]
        }
      ]
    },
    {
      "cell_type": "markdown",
      "source": [
        "# 'zip()' 함수와 for 반복문"
      ],
      "metadata": {
        "id": "2fXKXJCePd3d"
      }
    },
    {
      "cell_type": "markdown",
      "source": [],
      "metadata": {
        "id": "7hU3oUIzPpaf"
      }
    },
    {
      "cell_type": "code",
      "source": [
        "numbers1 = [1, 2, 3, 4, 5]\n",
        "numbers2 = [1, 3, 5, 7, 9]\n",
        "\n",
        "# adds = []\n",
        "# for x in range(5):\n",
        "#     adds.append(numbers1[x] + numbers2[x])\n",
        "\n",
        "adds = [numbers1[x] + numbers2[x] for x in range(5)]   # 이건 위에 len(아이템 개수)가 같아야함\n",
        "print(adds)\n"
      ],
      "metadata": {
        "colab": {
          "base_uri": "https://localhost:8080/"
        },
        "id": "EuMGh6WiPo4f",
        "outputId": "2f5d7044-5f96-4ecc-babe-945eb8f6769d"
      },
      "execution_count": null,
      "outputs": [
        {
          "output_type": "stream",
          "name": "stdout",
          "text": [
            "[2, 5, 8, 11, 14]\n"
          ]
        }
      ]
    },
    {
      "cell_type": "code",
      "source": [
        "# adds2 = []\n",
        "# for x, y in zip(numbers1,numbers2):\n",
        "#     adds2.append(x + y)\n",
        "# print(adds2)\n",
        "\n",
        "adds2 = [x + y for x, y in zip(numbers1, numbers2)]\n",
        "print(adds2)"
      ],
      "metadata": {
        "colab": {
          "base_uri": "https://localhost:8080/"
        },
        "id": "JMGTIJFjT6CG",
        "outputId": "1a90edb7-fd1b-4e29-eba7-4a6b702f92df"
      },
      "execution_count": null,
      "outputs": [
        {
          "output_type": "stream",
          "name": "stdout",
          "text": [
            "[2, 5, 8, 11, 14]\n"
          ]
        }
      ]
    }
  ]
}