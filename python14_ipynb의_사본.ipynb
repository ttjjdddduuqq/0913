{
  "nbformat": 4,
  "nbformat_minor": 0,
  "metadata": {
    "colab": {
      "provenance": [],
      "include_colab_link": true
    },
    "kernelspec": {
      "name": "python3",
      "display_name": "Python 3"
    },
    "language_info": {
      "name": "python"
    }
  },
  "cells": [
    {
      "cell_type": "markdown",
      "metadata": {
        "id": "view-in-github",
        "colab_type": "text"
      },
      "source": [
        "<a href=\"https://colab.research.google.com/github/ttjjdddduuqq/0913/blob/main/python14_ipynb%EC%9D%98_%EC%82%AC%EB%B3%B8.ipynb\" target=\"_parent\"><img src=\"https://colab.research.google.com/assets/colab-badge.svg\" alt=\"Open In Colab\"/></a>"
      ]
    },
    {
      "cell_type": "markdown",
      "source": [
        "# Ex1. Score 클래스"
      ],
      "metadata": {
        "id": "5pCNBhum9Sx8"
      }
    },
    {
      "cell_type": "markdown",
      "source": [
        "*   속성(attributes):\n",
        "    *   국어, 영어, 수학 점수\n",
        "    *   국어, 영어, 수학 점수의 기본값은 0.\n",
        "*   기능(functionality):\n",
        "    *   `__str__`: `Score(korean=100, english=100, math=100)` 포맷의 문자열을 리턴\n",
        "    *   `__repr__`: `점수(국어=100, 영어=100, 수학=100)` 포맷의 문자열을 리턴\n",
        "    *   `calculate_sum`: 세 과목의 총점 리턴\n",
        "    *   `calculate_mean`: 세 과목의 평균 리턴\n"
      ],
      "metadata": {
        "id": "hN0J3esd9VaT"
      }
    },
    {
      "cell_type": "code",
      "source": [
        "class Score:\n",
        "\n",
        "    def __init__(self, korean=0, english=0, math=0):\n",
        "        self.korean = korean\n",
        "        self.english = english\n",
        "        self.math = math\n",
        "\n",
        "    def __str__(self):\n",
        "        return f'score(korean= {self.korean}, english= {self.english}, math= {self.math})'\n",
        "\n",
        "\n",
        "    def __repr__(self):\n",
        "        return f'점수(국어 = {self.korean}, 영어 = {self.english}, 수학 = {self.math})'\n",
        "\n",
        "    def calculate_sum(self):\n",
        "         return self.korean + self.english + self.math\n",
        "\n",
        "    def calculate_mean(self):\n",
        "        return self.calculate_sum() / 3"
      ],
      "metadata": {
        "id": "ynAbqa5rB0h9"
      },
      "execution_count": null,
      "outputs": []
    },
    {
      "cell_type": "code",
      "source": [
        "score1 = Score(100,95,88)\n",
        "print(score1)    # __str__() 결과\n",
        "print('korean:', score1.korean)\n",
        "print('english:', score1.english)\n",
        "print('math:', score1.math)\n",
        "print('총점:', score1.calculate_sum())\n",
        "print('평균:', score1.calculate_mean())\n",
        "score1  #  식(expression) 출력 : __repr__() 메서드 반환값"
      ],
      "metadata": {
        "colab": {
          "base_uri": "https://localhost:8080/"
        },
        "id": "KZ6vfl77DqXn",
        "outputId": "2c549fd1-dbbf-4256-9113-ce86f05cb181"
      },
      "execution_count": null,
      "outputs": [
        {
          "output_type": "stream",
          "name": "stdout",
          "text": [
            "score(korean= 100, english= 95, math= 88)\n",
            "korean: 100\n",
            "english: 95\n",
            "math: 88\n",
            "총점: 283\n",
            "평균: 94.33333333333333\n"
          ]
        },
        {
          "output_type": "execute_result",
          "data": {
            "text/plain": [
              "점수(국어 = 100, 영어 = 95, 수학 = 88)"
            ]
          },
          "metadata": {},
          "execution_count": 109
        }
      ]
    },
    {
      "cell_type": "code",
      "source": [
        "score1 = Score(100,95,88)\n",
        "print(score1)"
      ],
      "metadata": {
        "colab": {
          "base_uri": "https://localhost:8080/"
        },
        "id": "T4r-sfHqPyUH",
        "outputId": "f2b7099a-79fc-45d1-e5f4-54eb71b76aa2"
      },
      "execution_count": null,
      "outputs": [
        {
          "output_type": "stream",
          "name": "stdout",
          "text": [
            "score(korean= 100, english= 95, math= 88)\n"
          ]
        }
      ]
    },
    {
      "cell_type": "markdown",
      "source": [
        "`print(object)` 호출하면, `object.__str__()`메서드가 리턴하는 문자열을 출력."
      ],
      "metadata": {
        "id": "lmG2OnZUPign"
      }
    },
    {
      "cell_type": "code",
      "source": [
        "score1"
      ],
      "metadata": {
        "colab": {
          "base_uri": "https://localhost:8080/"
        },
        "id": "_NxzItQJQZLo",
        "outputId": "e0c1efda-7ff9-4cf0-80af-153f9a43d910"
      },
      "execution_count": null,
      "outputs": [
        {
          "output_type": "execute_result",
          "data": {
            "text/plain": [
              "점수(국어 = 100, 영어 = 95, 수학 = 88)"
            ]
          },
          "metadata": {},
          "execution_count": 112
        }
      ]
    },
    {
      "cell_type": "markdown",
      "source": [
        "파이썬 노트북(*,ipynb 파일)의 코드 셀은 가장 마지막 라인의 변수 혹은 식(expression)을 자동으로 출력해 주는 기능을 가지고 있음. 가장 마지막 라인이 객체인 경우, 그 객체의 `__repr__()` 메서드가 리턴하는 문자열을 출력."
      ],
      "metadata": {
        "id": "lU30ohebP8sH"
      }
    },
    {
      "cell_type": "markdown",
      "source": [
        "# Ex2. Student 클래스"
      ],
      "metadata": {
        "id": "fhiJxz9K9tSE"
      }
    },
    {
      "cell_type": "markdown",
      "source": [
        "*   속성(attributes):\n",
        "    *   학생 번호, 학생 이름, 점수(Score 객체)\n",
        "*   기능(functionality):\n",
        "    *   `__str__`: `Student(name: 홍길동, score: Score(korean=100, english=100, math=100))` 포맷의 문자열을 리턴\n",
        "    *   `__repr__`: `학생(name: 홍길동, score: 점수(국어=100, 영어=100, 수학=100))` 포맷의 문자열을 리턴\n",
        "*   테스트\n",
        "    *   Student 객체(인스턴스)를 생성.\n",
        "    *   Student 인스턴스를 출력.\n",
        "    *   생성된 객체에서 총점, 평균을 계산하는 메서드를 호출."
      ],
      "metadata": {
        "id": "4TqrYaM49yUL"
      }
    },
    {
      "cell_type": "code",
      "source": [
        "class Student:\n",
        "    def __init__(self, no, name, score):\n",
        "        self.no = no\n",
        "        self.name = name\n",
        "        self.score = score\n",
        "\n",
        "    def __str__(self):\n",
        "        # f'{object}' 사용하면, object.__str__ () 메서드가 리턴하는 문자열로 만들어짐.\n",
        "        return f'student(no = {self.no}, name = {self.name}, score = {self.score})'\n",
        "\n",
        "    def __repr__(self):\n",
        "         return f'학생(no= {self.no}, name= {self.name}, score={self.score.__repr__()})'\n"
      ],
      "metadata": {
        "id": "k129el1BHxEH"
      },
      "execution_count": null,
      "outputs": []
    },
    {
      "cell_type": "code",
      "source": [
        "student1 = Student(1001, '오쌤', score1)\n",
        "print(student1)\n",
        "print('총점:', student1.score.calculate_sum())\n",
        "print('평균:', student1.score.calculate_mean())\n",
        "student1"
      ],
      "metadata": {
        "colab": {
          "base_uri": "https://localhost:8080/"
        },
        "id": "Fx3X0uyFS4UH",
        "outputId": "6a9d7c56-a352-46bb-eb07-d63f306b0aec"
      },
      "execution_count": null,
      "outputs": [
        {
          "output_type": "stream",
          "name": "stdout",
          "text": [
            "student(no = 1001, name = 오쌤, score = score(korean= 100, english= 95, math= 88))\n",
            "총점: 283\n",
            "평균: 94.33333333333333\n"
          ]
        },
        {
          "output_type": "execute_result",
          "data": {
            "text/plain": [
              "학생(no= 1001, name= 오쌤, score=점수(국어 = 100, 영어 = 95, 수학 = 88))"
            ]
          },
          "metadata": {},
          "execution_count": 125
        }
      ]
    },
    {
      "cell_type": "code",
      "source": [
        "student3 = Student(2001, 'Scott', Score(99, 85, 98))\n",
        "print(student3)\n",
        "print(student3.score.calculate_sum())\n",
        "print(student3.score.calculate_mean())"
      ],
      "metadata": {
        "colab": {
          "base_uri": "https://localhost:8080/"
        },
        "id": "Lm2Rtm3jVvBA",
        "outputId": "49a87e18-084c-4ff5-d91f-f0217c7ee43b"
      },
      "execution_count": null,
      "outputs": [
        {
          "output_type": "stream",
          "name": "stdout",
          "text": [
            "student(no = 2001, name = Scott, score = score(korean= 99, english= 85, math= 98))\n",
            "282\n",
            "94.0\n"
          ]
        }
      ]
    },
    {
      "cell_type": "code",
      "source": [],
      "metadata": {
        "id": "PAI5OoPSWmRY"
      },
      "execution_count": null,
      "outputs": []
    }
  ]
}