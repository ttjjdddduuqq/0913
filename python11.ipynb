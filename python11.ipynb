{
  "nbformat": 4,
  "nbformat_minor": 0,
  "metadata": {
    "colab": {
      "provenance": [],
      "authorship_tag": "ABX9TyPRo7jH0TQtK1yKXwQuvthI",
      "include_colab_link": true
    },
    "kernelspec": {
      "name": "python3",
      "display_name": "Python 3"
    },
    "language_info": {
      "name": "python"
    }
  },
  "cells": [
    {
      "cell_type": "markdown",
      "metadata": {
        "id": "view-in-github",
        "colab_type": "text"
      },
      "source": [
        "<a href=\"https://colab.research.google.com/github/ttjjdddduuqq/0913/blob/main/python11.ipynb\" target=\"_parent\"><img src=\"https://colab.research.google.com/assets/colab-badge.svg\" alt=\"Open In Colab\"/></a>"
      ]
    },
    {
      "cell_type": "markdown",
      "source": [
        "# 함수 (function)"
      ],
      "metadata": {
        "id": "xrgKXcxbzM8O"
      }
    },
    {
      "cell_type": "markdown",
      "source": [
        "*   **함수(function)**: 기능을 수행하는 코드 블록.\n",
        "*   **인수(arguement)**: 함수가 기능을 수행하기 위해서 값이 필요한 경우, 함수를 호출할때 함수에게 전달해 주는 값.      \n",
        "*   **매개변수(parameter)**: 아규먼트를 저장하기 위해서, 함수를 정의할 때 선언하는 변수,  함수내부에서 저장하고 있는 값\n",
        "*   **반환값(return value)**: 함수가 기능을 수행한 후에 그 결과로 함수를 호출한 곳에 되돌려 주는 값.\n",
        "    *   함수에 따라서 반환값이 있는 함수도 있고, 없는 함수도 있음.\n",
        "        * ex) print() 함수는 반환값이 없음.  "
      ],
      "metadata": {
        "id": "m8ogkgFkzUat"
      }
    },
    {
      "cell_type": "code",
      "execution_count": null,
      "metadata": {
        "colab": {
          "base_uri": "https://localhost:8080/"
        },
        "id": "ZYblKBe3zIvG",
        "outputId": "afc9a847-5b56-4d4b-9174-e58b9d6afc6e"
      },
      "outputs": [
        {
          "output_type": "stream",
          "name": "stdout",
          "text": [
            "5\n"
          ]
        }
      ],
      "source": [
        "result = len('안녕하세요')\n",
        "print(result)\n",
        "\n",
        "# 함수 이름 : len\n",
        "# arguement : '안녕하세요'             함수에 넣어주는 값\n",
        "# 함수 호출 : len('안녕하세요')\n",
        "#반환값 : 6"
      ]
    },
    {
      "cell_type": "markdown",
      "source": [
        "## 함수 선언 (정의)"
      ],
      "metadata": {
        "id": "P2DC2X6p3MwW"
      }
    },
    {
      "cell_type": "markdown",
      "source": [
        "```                                                []대괄호안에 있는건 생략 가능\n",
        "def function_name([parameter1, parameter2, ...]):\n",
        "    [\"\"\"문서화 주석(documentation comments): 함수에 대한 설명 \"\"\"]\n",
        "    함수가 수행항 기능을 코드 블록으로 작성\n",
        "    [return 반환값]\n",
        "```"
      ],
      "metadata": {
        "id": "EqS38KU-3Q1G"
      }
    },
    {
      "cell_type": "code",
      "source": [
        "def subtract(x,y):\n",
        "    \"\"\"x - y를 리턴하는 함수\"\"\"\n",
        "    return x - y"
      ],
      "metadata": {
        "id": "H2viWXEe4Vjf"
      },
      "execution_count": null,
      "outputs": []
    },
    {
      "cell_type": "code",
      "source": [
        "# subtract() 함수를 호출.\n",
        "result = subtract(1,2)\n",
        "print(result)"
      ],
      "metadata": {
        "colab": {
          "base_uri": "https://localhost:8080/"
        },
        "id": "F-Isdit64vte",
        "outputId": "8c508063-2ed9-4748-9cee-363707b0cfac"
      },
      "execution_count": null,
      "outputs": [
        {
          "output_type": "stream",
          "name": "stdout",
          "text": [
            "-1\n"
          ]
        }
      ]
    },
    {
      "cell_type": "markdown",
      "source": [
        "## 값을 반환하지 않는 함수 선언"
      ],
      "metadata": {
        "id": "uGkdDhXY-Lc2"
      }
    },
    {
      "cell_type": "code",
      "source": [
        "def repeat_massage(msg, n):\n",
        "    \"\"\"\n",
        "    msg를 n번 반복해서 출력하는 함수.\n",
        "\n",
        "    @param msg - 출력할 메시지. 문자열 타입.\n",
        "    @param n - 출력할 횟수. 0 또는 양의 정수.\n",
        "    @return None\n",
        "    \"\"\"\n",
        "    for _ in range(n):\n",
        "        print(msg)\n",
        "\n",
        "    # return None  #생략 가능"
      ],
      "metadata": {
        "id": "0osJ4NlM-XW4"
      },
      "execution_count": null,
      "outputs": []
    },
    {
      "cell_type": "code",
      "source": [
        "repeat_massage('안녕하세요', 3)"
      ],
      "metadata": {
        "colab": {
          "base_uri": "https://localhost:8080/"
        },
        "id": "BEnsCzrxAfRm",
        "outputId": "fc144e63-a472-4a97-a4f9-6c95b33e0348"
      },
      "execution_count": null,
      "outputs": [
        {
          "output_type": "stream",
          "name": "stdout",
          "text": [
            "안녕하세요\n",
            "안녕하세요\n",
            "안녕하세요\n"
          ]
        }
      ]
    },
    {
      "cell_type": "code",
      "source": [
        "repeat_massage('Hello, python', 5)"
      ],
      "metadata": {
        "colab": {
          "base_uri": "https://localhost:8080/"
        },
        "id": "SYK-rSxJA3H2",
        "outputId": "4b543f52-09bb-41e7-f351-e0c4bafca724"
      },
      "execution_count": null,
      "outputs": [
        {
          "output_type": "stream",
          "name": "stdout",
          "text": [
            "Hello, python\n",
            "Hello, python\n",
            "Hello, python\n",
            "Hello, python\n",
            "Hello, python\n"
          ]
        }
      ]
    },
    {
      "cell_type": "markdown",
      "source": [
        "## 2개 이상의 값을 반환하는 함수 선언"
      ],
      "metadata": {
        "id": "yUaI5oszBkAW"
      }
    },
    {
      "cell_type": "code",
      "source": [
        "def plus_and_minus(x, y):\n",
        "    \"\"\"\n",
        "    두 숫자들의 덧셈과 뺄셈 결과를 반환하는 함수.\n",
        "\n",
        "    @param x = 숫자 타입(int 또는 float)\n",
        "    @param y = 숫자 타입(int 또는 float)\n",
        "    @return x + y, x- y\n",
        "    \"\"\"\n",
        "    return x + y, x - y"
      ],
      "metadata": {
        "id": "_gBGPxa4BoWu"
      },
      "execution_count": null,
      "outputs": []
    },
    {
      "cell_type": "code",
      "source": [
        "a, b = plus_and_minus(1, 2)\n",
        "print(a, b)"
      ],
      "metadata": {
        "colab": {
          "base_uri": "https://localhost:8080/"
        },
        "id": "u4wC8cziC3s_",
        "outputId": "a846924a-2c86-4de6-f3b4-e84cd7419729"
      },
      "execution_count": null,
      "outputs": [
        {
          "output_type": "stream",
          "name": "stdout",
          "text": [
            "3 -1\n"
          ]
        }
      ]
    },
    {
      "cell_type": "code",
      "source": [
        "result = plus_and_minus(1,2)   #리턴값들을 아이템으로 갖는 tuple이 저장됨\n",
        "print(result)\n",
        "\n",
        "# 변수를 각각 선언하면 각 각의 형태로 저장\n",
        "# 변수를 하나로 선언하면 ()형태의 tuple이 저장됨"
      ],
      "metadata": {
        "colab": {
          "base_uri": "https://localhost:8080/"
        },
        "id": "Vcf2ERYmDkbv",
        "outputId": "1258343d-669c-47ff-9e93-0d550ded0551"
      },
      "execution_count": null,
      "outputs": [
        {
          "output_type": "stream",
          "name": "stdout",
          "text": [
            "(3, -1)\n"
          ]
        }
      ]
    },
    {
      "cell_type": "code",
      "source": [
        "import random"
      ],
      "metadata": {
        "id": "uW1Al16ddKjq"
      },
      "execution_count": null,
      "outputs": []
    },
    {
      "cell_type": "markdown",
      "source": [
        "#연습문제 1"
      ],
      "metadata": {
        "id": "BLL9QTk8bISC"
      }
    },
    {
      "cell_type": "markdown",
      "source": [
        "* 함수이름 : make_list\n",
        "* 기능 : [start, end) 범위의 정수 난수 n 개를 갖는 리스트를 리턴  \n",
        "# [x, y)    x<=, x>          (x, y]  x < , y >=\n",
        "* 파라미터 :  start(정수), end(정수), n(0 또는 양의 정수)"
      ],
      "metadata": {
        "id": "9A5u4XYjbP6p"
      }
    },
    {
      "cell_type": "code",
      "source": [
        "def make_list(start, end, n):\n",
        "    \"\"\"\n",
        "    [start, end) 범위의 정수 난수 n 개를 갖는 리스트\n",
        "\n",
        "    @param start = int, 난수의 시작 범위\n",
        "    @param end = int, 난수의 끝 범위\n",
        "    @param n = 0 또는 양의 정수. 난수 개수. 리스트의 크기\n",
        "    @return = [start, end) 범위의 정수 난수 n 개를 갖는 리스트\n",
        "\n",
        "    \"\"\"\n",
        "    # array = []   # 빈 리스트\n",
        "    # for _ in range(n):    # n 번 반복\n",
        "    #     array.append(random.randrange(start, end))   # [start, end) 범위의 난수 리스트에 추가]\n",
        "\n",
        "    # return array\n",
        "\n",
        "    return [random.randrange(start, end) for _ in range(n)]"
      ],
      "metadata": {
        "id": "j2CaKLtjcRJi"
      },
      "execution_count": null,
      "outputs": []
    },
    {
      "cell_type": "code",
      "source": [
        "my_list = make_list(1,10,5)\n",
        "print(my_list)"
      ],
      "metadata": {
        "colab": {
          "base_uri": "https://localhost:8080/"
        },
        "id": "eonBG1vFjC3y",
        "outputId": "9a37407d-a11a-4b6f-9dee-6f77d0bda007"
      },
      "execution_count": null,
      "outputs": [
        {
          "output_type": "stream",
          "name": "stdout",
          "text": [
            "[3, 5, 9, 3, 9]\n"
          ]
        }
      ]
    },
    {
      "cell_type": "markdown",
      "source": [
        "## 연습문제 2\n"
      ],
      "metadata": {
        "id": "6YGIWgxGcV7R"
      }
    },
    {
      "cell_type": "markdown",
      "source": [
        "* 함수 이름 : calculate_sum\n",
        "* 기능 : 숫자(정수, 실수  포함)들을 원소로 갖는 리스트를 전달받아서, 그 리스트의 모든 원소들의 합계를 리턴\n",
        "* 파라미터 : array (리스트) 1개"
      ],
      "metadata": {
        "id": "zGVzhS5hcYKB"
      }
    },
    {
      "cell_type": "code",
      "source": [
        "def calculate_sum(array):\n",
        "    \"\"\"\n",
        "    숫자(정수, 실수 포함)들을 원소로 갖는 리스트를 전달받아서, 그 리스트의 모든 원소들의 합계를 리턴\n",
        "\n",
        "    @param array  = 숫자 타입(int 또는 float)\n",
        "    (= :arg array)\n",
        "    : return : 리스트의 모든 원소들의 합계\n",
        "    \"\"\"\n",
        "\n",
        "    result = 0\n",
        "    for x in array:\n",
        "        result += x\n",
        "\n",
        "    return result"
      ],
      "metadata": {
        "id": "6eSROQh-d33Z"
      },
      "execution_count": null,
      "outputs": []
    },
    {
      "cell_type": "code",
      "source": [
        "my_list = make_list(0, 10, 5)\n",
        "print(my_list)\n",
        "total = calculate_sum(my_list)\n",
        "print(total)"
      ],
      "metadata": {
        "colab": {
          "base_uri": "https://localhost:8080/"
        },
        "id": "imsC8uo6ll4b",
        "outputId": "c459c2ed-0d27-43a8-f6a6-61d97dba7a8b"
      },
      "execution_count": null,
      "outputs": [
        {
          "output_type": "stream",
          "name": "stdout",
          "text": [
            "[1, 6, 7, 1, 8]\n",
            "23\n"
          ]
        }
      ]
    },
    {
      "cell_type": "markdown",
      "source": [
        "## 연습문제 3"
      ],
      "metadata": {
        "id": "y6HjA2VucxZq"
      }
    },
    {
      "cell_type": "markdown",
      "source": [
        "* 함수 이름 : calculate_mean\n",
        "* 기능 : 숫자들을 원소로 갖는 리스트의 원소들의 평균을 리턴.\n",
        "* 파라미터 : array(리스트)"
      ],
      "metadata": {
        "id": "yjh0sGi3czvR"
      }
    },
    {
      "cell_type": "code",
      "source": [
        "def calculate_mean(array):\n",
        "    \"\"\"\n",
        "    숫자들을 원소로 갖는 리스트 array의  모든 원소들의 평균을 리턴.\n",
        "\n",
        "    :arg array: 숫자들을 원소로 갖는 리스트.\n",
        "    :return: 리스트의 모든 원소들의  평균\n",
        "\n",
        "\n",
        "    \"\"\"\n",
        "    total = calculate_sum(array)\n",
        "    mean = total / len(array)\n",
        "\n",
        "    return mean\n"
      ],
      "metadata": {
        "id": "1GHWgur2eB7B"
      },
      "execution_count": null,
      "outputs": []
    },
    {
      "cell_type": "code",
      "source": [
        "my_list = make_list(0, 10, 5)\n",
        "print(my_list)\n",
        "total = calculate_sum(my_list)\n",
        "print('total =', total)\n",
        "mean = calculate_mean(my_list)\n",
        "print('mean =', mean)"
      ],
      "metadata": {
        "colab": {
          "base_uri": "https://localhost:8080/"
        },
        "id": "2KyAr2WarvfU",
        "outputId": "95071ce9-f12d-44b7-e692-eb13de2960eb"
      },
      "execution_count": null,
      "outputs": [
        {
          "output_type": "stream",
          "name": "stdout",
          "text": [
            "[4, 8, 1, 9, 2]\n",
            "total = 24\n",
            "mean = 4.8\n"
          ]
        }
      ]
    },
    {
      "cell_type": "markdown",
      "source": [
        "## 연습문제 4"
      ],
      "metadata": {
        "id": "sDjJAMcHsYi0"
      }
    },
    {
      "cell_type": "markdown",
      "source": [
        "* 함수 이름 : find_min_and_max\n",
        "* 기능 : 숫자들을 원소로 갖는 리스트를 아규먼트로 전달받아서, 리스트의 최솟값과 최댓값을 리턴"
      ],
      "metadata": {
        "id": "joHlxiI_saeL"
      }
    },
    {
      "cell_type": "code",
      "source": [
        "def find_min_and_max(array):\n",
        "    \"\"\"\n",
        "    숫자들을 원소로 갖는 리스트를 아규먼트로 전달받아서, 리스트의 최솟값과 최댓값을 리턴\n",
        "\n",
        "    :arg array: 숫자들을 원소로 갖는 리스트\n",
        "    return: 리스트의 최솟값과 최댓값\n",
        "\n",
        "    \"\"\"\n",
        "    min_array = 0                 # 리스트의 첫번재 원소를 최솟값으로 가정\n",
        "    max_array = 0                # 리스트의 첫번재 원소를 최댓값으로 가정\n",
        "\n",
        "    for x in array:              # 리스트의 모든 원소들을 순서대로 반복하면서\n",
        "        if x < min_array:        # 리스트에서 찾은 값이 최솟값보다 작다면\n",
        "            min_array = x        # 최솟값을 리스트에서 찾은 값으로 변경\n",
        "        if x > max_array:        #                      최댓값보다 크다면\n",
        "            max_array = x        # 최댓값을 리스트에서 찾은 값으로 변경\n",
        "\n",
        "\n",
        "\n",
        "\n",
        "    return min_array, max_array   # min(array), max(array)"
      ],
      "metadata": {
        "id": "LPZIr-Juss_T"
      },
      "execution_count": null,
      "outputs": []
    },
    {
      "cell_type": "code",
      "source": [
        "my_list = make_list(-100, 100, 10)\n",
        "print(my_list)\n",
        "min_my_list,max_my_list = find_min_and_max(my_list)\n",
        "print(min_my_list, max_my_list)"
      ],
      "metadata": {
        "colab": {
          "base_uri": "https://localhost:8080/"
        },
        "id": "mEpeMNo4uGZ8",
        "outputId": "7cc600f3-2fee-41d2-e64f-c9e62345b1fa"
      },
      "execution_count": null,
      "outputs": [
        {
          "output_type": "stream",
          "name": "stdout",
          "text": [
            "[-74, 41, -53, 56, 21, 84, 5, 88, -64, -48]\n",
            "-74 88\n"
          ]
        }
      ]
    },
    {
      "cell_type": "code",
      "source": [
        "# sorted(list): list를 (오름차순) 정렬된 새로운 리스트를 리턴\n",
        "sorted(my_list)"
      ],
      "metadata": {
        "colab": {
          "base_uri": "https://localhost:8080/"
        },
        "id": "k7BrRjWbw1S8",
        "outputId": "7d7c0001-eff2-4736-874f-2936126e71b2"
      },
      "execution_count": null,
      "outputs": [
        {
          "output_type": "execute_result",
          "data": {
            "text/plain": [
              "[-74, -64, -53, -48, 5, 21, 41, 56, 84, 88]"
            ]
          },
          "metadata": {},
          "execution_count": 60
        }
      ]
    },
    {
      "cell_type": "code",
      "source": [
        "def find_min_and_max2(array):\n",
        "    sorted_array = sorted(array)\n",
        "    return sorted_array[0], sorted_array[-1]"
      ],
      "metadata": {
        "id": "TAlxa7aUxN9l"
      },
      "execution_count": null,
      "outputs": []
    },
    {
      "cell_type": "code",
      "source": [
        "find_min_and_max2(my_list)"
      ],
      "metadata": {
        "colab": {
          "base_uri": "https://localhost:8080/"
        },
        "id": "Ff85GRQixlf8",
        "outputId": "40fd270f-d551-42e0-9ecc-b6dcff77e71d"
      },
      "execution_count": null,
      "outputs": [
        {
          "output_type": "execute_result",
          "data": {
            "text/plain": [
              "(-74, 88)"
            ]
          },
          "metadata": {},
          "execution_count": 66
        }
      ]
    },
    {
      "cell_type": "code",
      "source": [
        "# sorted(literable, reverse=False) -> 오름차순\n",
        "# sorted(literable, reverse=True) -> 내림차순\n",
        "sorted(my_list, reverse=True)"
      ],
      "metadata": {
        "colab": {
          "base_uri": "https://localhost:8080/"
        },
        "id": "b8sU47972Wo_",
        "outputId": "22f72e76-ace4-4a83-b0b7-4a39e165a4df"
      },
      "execution_count": null,
      "outputs": [
        {
          "output_type": "execute_result",
          "data": {
            "text/plain": [
              "[88, 84, 56, 41, 21, 5, -48, -53, -64, -74]"
            ]
          },
          "metadata": {},
          "execution_count": 67
        }
      ]
    },
    {
      "cell_type": "markdown",
      "source": [
        "# Default Argument(기본인수)"
      ],
      "metadata": {
        "id": "3twsNYBf3EYV"
      }
    },
    {
      "cell_type": "markdown",
      "source": [
        "기본 인수(default argument):\n",
        "\n",
        "*   함수를 선언할 때 파라미터에 설정하는 기본값을.\n",
        "    * default parameter : 기본값이 설정된 파라미터(매개변수).\n",
        "*   함수를 호출할 때 default parameter에 값을 전달하지 않으면, default argument가 기본값으로 사용됨\n",
        "*   함수를 호출할 때 default parameter에 값을 전달하면, 기본값은 무시되고 전달한 아규먼트가 사용됨."
      ],
      "metadata": {
        "id": "RkkyEKDQ3LmE"
      }
    },
    {
      "cell_type": "code",
      "source": [
        "def repeat_message2(msg, n=1):\n",
        "    for _ in range(n):\n",
        "        print(msg)"
      ],
      "metadata": {
        "id": "_RPytFat4Eie"
      },
      "execution_count": null,
      "outputs": []
    },
    {
      "cell_type": "code",
      "source": [
        "# default parameter에 값을 전달하지 않는 경우:\n",
        "repeat_message2('안녕하세요!')"
      ],
      "metadata": {
        "colab": {
          "base_uri": "https://localhost:8080/"
        },
        "id": "SLt2lkpz4wvt",
        "outputId": "14df1783-e9a8-4bb3-f34b-72c425c2942e"
      },
      "execution_count": null,
      "outputs": [
        {
          "output_type": "stream",
          "name": "stdout",
          "text": [
            "안녕하세요!\n"
          ]
        }
      ]
    },
    {
      "cell_type": "code",
      "source": [
        "# default parameter에 값을 전달하는 경우:\n",
        "repeat_message2('Hello!', 5)\n",
        "# n=1"
      ],
      "metadata": {
        "colab": {
          "base_uri": "https://localhost:8080/"
        },
        "id": "QwDKZtas5PKN",
        "outputId": "30d410b1-0843-4661-da21-b2d317be1443"
      },
      "execution_count": null,
      "outputs": [
        {
          "output_type": "stream",
          "name": "stdout",
          "text": [
            "Hello!\n",
            "Hello!\n",
            "Hello!\n",
            "Hello!\n",
            "Hello!\n"
          ]
        }
      ]
    },
    {
      "cell_type": "markdown",
      "source": [
        "**(주의)** default parameter들은 반드시 기본값을 갖지 않는 파라미터들 뒤에 선언해야함.\n",
        "\n",
        "기본값을 갖는 파라미터가 기본값을 갖지 않는 파라미터보다 먼저 선언되면 문법 오류가 발생함.\n",
        "\n",
        "default parameter를 기본값을 갖는 파라미터와 갖지 않는 파라미터 둘다 선언하는건 가능\n",
        " (하나만 아규먼트를 주면 앞에 들어감)"
      ],
      "metadata": {
        "id": "BMyq7FK86J8l"
      }
    },
    {
      "cell_type": "code",
      "source": [
        "def test(x, y=1):\n",
        "    pass"
      ],
      "metadata": {
        "id": "Awgge1no6fG1"
      },
      "execution_count": null,
      "outputs": []
    },
    {
      "cell_type": "code",
      "source": [
        "def test_error(x=1, y):\n",
        "    pass"
      ],
      "metadata": {
        "colab": {
          "base_uri": "https://localhost:8080/",
          "height": 110
        },
        "id": "FH50oF-z6xsO",
        "outputId": "e6f50a5a-46c4-441a-f111-25e3d897c7c8"
      },
      "execution_count": null,
      "outputs": [
        {
          "output_type": "error",
          "ename": "SyntaxError",
          "evalue": "non-default argument follows default argument (<ipython-input-75-f9868d64c4b2>, line 1)",
          "traceback": [
            "\u001b[0;36m  File \u001b[0;32m\"<ipython-input-75-f9868d64c4b2>\"\u001b[0;36m, line \u001b[0;32m1\u001b[0m\n\u001b[0;31m    def test_error(x=1, y):\u001b[0m\n\u001b[0m                        ^\u001b[0m\n\u001b[0;31mSyntaxError\u001b[0m\u001b[0;31m:\u001b[0m non-default argument follows default argument\n"
          ]
        }
      ]
    },
    {
      "cell_type": "code",
      "source": [
        "def test2(x = 0, y = 0):\n",
        "    print(f'x ={x}, y = {y}')\n",
        "test2()"
      ],
      "metadata": {
        "colab": {
          "base_uri": "https://localhost:8080/"
        },
        "id": "Fti4_pEg7KjF",
        "outputId": "d530529b-dbef-4506-8dc3-14531134ae0e"
      },
      "execution_count": null,
      "outputs": [
        {
          "output_type": "stream",
          "name": "stdout",
          "text": [
            "x =0, y = 0\n"
          ]
        }
      ]
    },
    {
      "cell_type": "code",
      "source": [
        "test2(1)"
      ],
      "metadata": {
        "colab": {
          "base_uri": "https://localhost:8080/"
        },
        "id": "Dd5LeAzl7wWd",
        "outputId": "130e2083-a105-48fe-92dd-cb90662ff814"
      },
      "execution_count": null,
      "outputs": [
        {
          "output_type": "stream",
          "name": "stdout",
          "text": [
            "x =1, y = 0\n"
          ]
        }
      ]
    },
    {
      "cell_type": "code",
      "source": [
        "test2(0,1)"
      ],
      "metadata": {
        "colab": {
          "base_uri": "https://localhost:8080/"
        },
        "id": "SAsN-Daj8F_u",
        "outputId": "e04f283e-dc8c-4d9f-c7d2-511a6abca781"
      },
      "execution_count": null,
      "outputs": [
        {
          "output_type": "stream",
          "name": "stdout",
          "text": [
            "x =0, y = 1\n"
          ]
        }
      ]
    },
    {
      "cell_type": "code",
      "source": [
        "test2(y=1)"
      ],
      "metadata": {
        "colab": {
          "base_uri": "https://localhost:8080/"
        },
        "id": "9cg2Miom8Lul",
        "outputId": "98e9603f-33ae-4919-e662-b49ccc70a709"
      },
      "execution_count": null,
      "outputs": [
        {
          "output_type": "stream",
          "name": "stdout",
          "text": [
            "x =0, y = 1\n"
          ]
        }
      ]
    },
    {
      "cell_type": "code",
      "source": [
        "test2(y =1,x = -1)"
      ],
      "metadata": {
        "colab": {
          "base_uri": "https://localhost:8080/"
        },
        "id": "11ZylBuN95BN",
        "outputId": "ab212a75-b606-46a7-df02-53aefbed6bdd"
      },
      "execution_count": null,
      "outputs": [
        {
          "output_type": "stream",
          "name": "stdout",
          "text": [
            "x =-1, y = 1\n"
          ]
        }
      ]
    },
    {
      "cell_type": "markdown",
      "source": [
        "아규먼트 전달 방법: 함수를 호출할 때 아규먼트(들)을 넘겨주는 방법\n",
        "\n",
        "*   postitional argument: 선언된 파라미터 순서대로 아규먼트들을 전달  (위에 1,2,3번째 코드)\n",
        "*   keyword argument: param_name=value 형식으로 아규먼트를 전달하는 방식. (위에 4, 5번째 코드)\n",
        "    *   keyword argument 방식을 사용할 떄는 파라미터 순서를 지키지 않아도 됨.\n",
        "* **(주의)** : 함수를 호출할 때 positional 방식과 keyword 방식을 함께 사용하는 경우에는, 반드시 positional argument를 먼저 전달하고 keyword argument들은 나중에 positional 방식이 모두 끝난 후에 사용해야 함. (밑에 1번, 2번 코드 확인)"
      ],
      "metadata": {
        "id": "hkM-SCgy8pkl"
      }
    },
    {
      "cell_type": "code",
      "source": [
        "test2(1, y=100)"
      ],
      "metadata": {
        "colab": {
          "base_uri": "https://localhost:8080/"
        },
        "id": "O3UpGvVm9ljG",
        "outputId": "9ed34319-74f1-4596-9f17-6e34a9d13707"
      },
      "execution_count": null,
      "outputs": [
        {
          "output_type": "stream",
          "name": "stdout",
          "text": [
            "x =1, y = 100\n"
          ]
        }
      ]
    },
    {
      "cell_type": "code",
      "source": [
        "test2(x=1, 100)"
      ],
      "metadata": {
        "colab": {
          "base_uri": "https://localhost:8080/",
          "height": 110
        },
        "id": "bnZQgXs4-q6G",
        "outputId": "6267d828-8449-4427-f6d7-6fae9aed9b13"
      },
      "execution_count": null,
      "outputs": [
        {
          "output_type": "error",
          "ename": "SyntaxError",
          "evalue": "positional argument follows keyword argument (<ipython-input-100-a5fb75baab46>, line 1)",
          "traceback": [
            "\u001b[0;36m  File \u001b[0;32m\"<ipython-input-100-a5fb75baab46>\"\u001b[0;36m, line \u001b[0;32m1\u001b[0m\n\u001b[0;31m    test2(x=1, 100)\u001b[0m\n\u001b[0m                  ^\u001b[0m\n\u001b[0;31mSyntaxError\u001b[0m\u001b[0;31m:\u001b[0m positional argument follows keyword argument\n"
          ]
        }
      ]
    },
    {
      "cell_type": "markdown",
      "source": [
        "# variable-length argument(가변길이 인수) ex) *args"
      ],
      "metadata": {
        "id": "nAS7TqTEWOOR"
      }
    },
    {
      "cell_type": "markdown",
      "source": [
        "*   함수의 아규먼트 개수가 임의로 변할 수 있는 것. 함수를 호출할 때 아규먼트를 몇 개를 전달해도 됨.\n",
        "    *   아규먼트를 한 개도 전달하지 않아도 됨.\n",
        "*   함수를 선언할 때 파라미터 이름 앞에 '*'를 사용하면 가변길이 인수를  의미.\n",
        "*   함수 내부에서 가변길이 인수는 튜플(tuple)로 취급됨.\n",
        "    *   가변길이 인수는 인덱스를 가짐.\n",
        "    *   가변길이 인수는 for-in 구문에서 사용할 수 있음.\n",
        "*   가변길이 인수는 keyword argument 방식으로 값을 전달할 수 없음!\n",
        "*   함수를 선언할 때 가변길이 인수를 저장하는 파라미터는 오직 1개만 선언할 수 있음.\n",
        "*   가변길이 인수를 갖는 파라미터 뒤에 선언된 파라미터들에는 오직 keyword argument 방식으로만 값을 전달할 수 있음!"
      ],
      "metadata": {
        "id": "Z4OGqFVzWVfw"
      }
    },
    {
      "cell_type": "code",
      "source": [
        "print('안녕')  #아규먼트 1개를 전달"
      ],
      "metadata": {
        "colab": {
          "base_uri": "https://localhost:8080/"
        },
        "id": "2UFP8sKNVt7Y",
        "outputId": "e281f5cb-51ad-471c-8634-8507d732bd06"
      },
      "execution_count": null,
      "outputs": [
        {
          "output_type": "stream",
          "name": "stdout",
          "text": [
            "안녕\n"
          ]
        }
      ]
    },
    {
      "cell_type": "code",
      "source": [
        "print()  # 아규먼트를 전달하지 않음.\n",
        "print('안녕!', 'hello' ,'파이썬')  #아규먼트 3개 전달"
      ],
      "metadata": {
        "colab": {
          "base_uri": "https://localhost:8080/"
        },
        "id": "j6ghBqn6X2e4",
        "outputId": "9dc0884e-c41c-4458-beb6-78d443b11687"
      },
      "execution_count": null,
      "outputs": [
        {
          "output_type": "stream",
          "name": "stdout",
          "text": [
            "\n",
            "안녕! hello 파이썬\n"
          ]
        }
      ]
    },
    {
      "cell_type": "code",
      "source": [
        "def add_all(*args):\n",
        "    \"\"\"\n",
        "    아규먼트로 전달된 모든 숫자들의 합계를 리턴, 아규먼트가 없는 경우에는 0을 리턴\n",
        "    \"\"\"\n",
        "    result = 0\n",
        "    for x in args:\n",
        "        result += x\n",
        "\n",
        "    return result"
      ],
      "metadata": {
        "id": "Tna3Z0x7YEBp"
      },
      "execution_count": null,
      "outputs": []
    },
    {
      "cell_type": "code",
      "source": [
        "add_all()"
      ],
      "metadata": {
        "colab": {
          "base_uri": "https://localhost:8080/"
        },
        "id": "J0_2H32SZ_EQ",
        "outputId": "3edf5f9e-e809-4f43-d1c9-81db23576128"
      },
      "execution_count": null,
      "outputs": [
        {
          "output_type": "execute_result",
          "data": {
            "text/plain": [
              "0"
            ]
          },
          "metadata": {},
          "execution_count": 110
        }
      ]
    },
    {
      "cell_type": "code",
      "source": [
        "add_all(1, 2, 3, 4, 5)"
      ],
      "metadata": {
        "colab": {
          "base_uri": "https://localhost:8080/"
        },
        "id": "CKfV-rjmaWLx",
        "outputId": "393ba95a-d672-4c2d-a075-329bd44a478f"
      },
      "execution_count": null,
      "outputs": [
        {
          "output_type": "execute_result",
          "data": {
            "text/plain": [
              "15"
            ]
          },
          "metadata": {},
          "execution_count": 112
        }
      ]
    },
    {
      "cell_type": "code",
      "source": [
        "def fn_test(x, *y):\n",
        "    print('x=', x)\n",
        "    print('y=', y)\n"
      ],
      "metadata": {
        "id": "_A0Zp9QEabgA"
      },
      "execution_count": null,
      "outputs": []
    },
    {
      "cell_type": "code",
      "source": [
        "# fn_test()  # -> TypeError 발생 - 파라미터 x에는 반드시 값(아규먼트)를 전달해야 하기 때문에\n",
        "fn_test(1)  # -> 가변길이 인수 y에는 값을 전달하지 않아도 됨.\n",
        "fn_test(x=100)\n",
        "# fn_test(x =1. 2) # -> SyntaxError(문법 오류)발생 - keyword argument는 positional argument보다 먼저 사용될 수 없음\n",
        "# fn_test(x=1,y=(1,2,3)) -> TypeError - 가변길이 인수는 keyword방식으로 전달할 수 없음\n",
        "fn_test(1,1,2,3,4)\n",
        "fn_test(1)"
      ],
      "metadata": {
        "colab": {
          "base_uri": "https://localhost:8080/"
        },
        "id": "auB4U0LGf0oK",
        "outputId": "026041e9-81aa-45d7-cb74-1430b6ac1efa"
      },
      "execution_count": null,
      "outputs": [
        {
          "output_type": "stream",
          "name": "stdout",
          "text": [
            "x= 1\n",
            "y= ()\n",
            "x= 100\n",
            "y= ()\n",
            "x= 1\n",
            "y= (1, 2, 3, 4)\n",
            "x= 1\n",
            "y= ()\n"
          ]
        }
      ]
    },
    {
      "cell_type": "code",
      "source": [
        "def fn_error(*x, *y)  # *x  가변길이 인수는 한번만 사용가능"
      ],
      "metadata": {
        "colab": {
          "base_uri": "https://localhost:8080/",
          "height": 110
        },
        "id": "veaNb2lMirnJ",
        "outputId": "f75cefbc-0365-43e4-d7b3-b67eec285dc8"
      },
      "execution_count": null,
      "outputs": [
        {
          "output_type": "error",
          "ename": "SyntaxError",
          "evalue": "* argument may appear only once (<ipython-input-143-b91b894fcba2>, line 1)",
          "traceback": [
            "\u001b[0;36m  File \u001b[0;32m\"<ipython-input-143-b91b894fcba2>\"\u001b[0;36m, line \u001b[0;32m1\u001b[0m\n\u001b[0;31m    def fn_error(*x, *y)  # *x  가변길이 인수는 한번만 사용가능\u001b[0m\n\u001b[0m                     ^\u001b[0m\n\u001b[0;31mSyntaxError\u001b[0m\u001b[0;31m:\u001b[0m * argument may appear only once\n"
          ]
        }
      ]
    },
    {
      "cell_type": "code",
      "source": [
        "def fn_test2(*args, x):\n",
        "    print('*args=', args)\n",
        "    print('x=', x)"
      ],
      "metadata": {
        "id": "R5lYunfKi881"
      },
      "execution_count": null,
      "outputs": []
    },
    {
      "cell_type": "code",
      "source": [
        "fn_test2(1,2,3,4,5)"
      ],
      "metadata": {
        "colab": {
          "base_uri": "https://localhost:8080/",
          "height": 147
        },
        "id": "uaxuBzXnjKsq",
        "outputId": "724651b3-9466-4f17-b834-155f96e184b5"
      },
      "execution_count": null,
      "outputs": [
        {
          "output_type": "error",
          "ename": "TypeError",
          "evalue": "fn_test2() missing 1 required keyword-only argument: 'x'",
          "traceback": [
            "\u001b[0;31m---------------------------------------------------------------------------\u001b[0m",
            "\u001b[0;31mTypeError\u001b[0m                                 Traceback (most recent call last)",
            "\u001b[0;32m<ipython-input-148-fce307f86636>\u001b[0m in \u001b[0;36m<cell line: 0>\u001b[0;34m()\u001b[0m\n\u001b[0;32m----> 1\u001b[0;31m \u001b[0mfn_test2\u001b[0m\u001b[0;34m(\u001b[0m\u001b[0;36m1\u001b[0m\u001b[0;34m,\u001b[0m\u001b[0;36m2\u001b[0m\u001b[0;34m,\u001b[0m\u001b[0;36m3\u001b[0m\u001b[0;34m,\u001b[0m\u001b[0;36m4\u001b[0m\u001b[0;34m,\u001b[0m\u001b[0;36m5\u001b[0m\u001b[0;34m)\u001b[0m\u001b[0;34m\u001b[0m\u001b[0;34m\u001b[0m\u001b[0m\n\u001b[0m",
            "\u001b[0;31mTypeError\u001b[0m: fn_test2() missing 1 required keyword-only argument: 'x'"
          ]
        }
      ]
    },
    {
      "cell_type": "code",
      "source": [
        "fn_test2(1,2,3,4,x=5)"
      ],
      "metadata": {
        "colab": {
          "base_uri": "https://localhost:8080/"
        },
        "id": "a_vocLV3jkaq",
        "outputId": "20605c95-fdef-4d39-8455-48994413f65e"
      },
      "execution_count": null,
      "outputs": [
        {
          "output_type": "stream",
          "name": "stdout",
          "text": [
            "*args= (1, 2, 3, 4)\n",
            "x= 5\n"
          ]
        }
      ]
    },
    {
      "cell_type": "code",
      "source": [
        "print(1,2,3, sep= ':')"
      ],
      "metadata": {
        "colab": {
          "base_uri": "https://localhost:8080/"
        },
        "id": "lpzUKk8Kj165",
        "outputId": "a08949b6-eaf3-4c8f-8fa2-dd5032968567"
      },
      "execution_count": null,
      "outputs": [
        {
          "output_type": "stream",
          "name": "stdout",
          "text": [
            "1:2:3\n"
          ]
        }
      ]
    },
    {
      "cell_type": "markdown",
      "source": [
        "## 연습문제"
      ],
      "metadata": {
        "id": "TmZPH_D2kVFL"
      }
    },
    {
      "cell_type": "code",
      "source": [
        "def calculate(*values, op):\n",
        "    \"\"\"\n",
        "    op가 '+'인 경우, values에 전달된 모든 숫자들의 합을 리턴. values가 없으면 0을 리턴.\n",
        "    op가 '*'인 경우, values에 전달된 모든 숫자들의 곱을 리턴. values가 없으면 1을 리턴.\n",
        "    op가 '+'도 아니고 '*'도 아닌 경우에는 ValueError를 발생(Value TypeError().\n",
        "\n",
        "    \"\"\"\n",
        "    if op =='+':\n",
        "        result = 0\n",
        "        for x in values:\n",
        "            result += x\n",
        "    elif op == '*':\n",
        "        result = 1\n",
        "        for x in values:\n",
        "            result *= x\n",
        "    else:\n",
        "        raise ValueError(\"op의 값은 '+' 또는 '*'만 가능합니다\")\n",
        "\n",
        "    return result\n",
        "\n"
      ],
      "metadata": {
        "id": "_XNg3uzKkT_S"
      },
      "execution_count": null,
      "outputs": []
    },
    {
      "cell_type": "code",
      "source": [
        "calculate(1,2,3,op= '+')"
      ],
      "metadata": {
        "colab": {
          "base_uri": "https://localhost:8080/"
        },
        "id": "QuYu0yxwmqRj",
        "outputId": "43a1ae6f-7b5a-4fd3-e0e5-1e5dc776f149"
      },
      "execution_count": null,
      "outputs": [
        {
          "output_type": "execute_result",
          "data": {
            "text/plain": [
              "6"
            ]
          },
          "metadata": {},
          "execution_count": 182
        }
      ]
    },
    {
      "cell_type": "code",
      "source": [
        "calculate(1,2,3,4,5, op='*')"
      ],
      "metadata": {
        "colab": {
          "base_uri": "https://localhost:8080/"
        },
        "id": "fIzs8TFLoT6D",
        "outputId": "7be4613a-528c-476f-d4cf-bab6b9147f2d"
      },
      "execution_count": null,
      "outputs": [
        {
          "output_type": "execute_result",
          "data": {
            "text/plain": [
              "120"
            ]
          },
          "metadata": {},
          "execution_count": 183
        }
      ]
    },
    {
      "cell_type": "code",
      "source": [
        "calculate(1,2,3, op='/')"
      ],
      "metadata": {
        "colab": {
          "base_uri": "https://localhost:8080/",
          "height": 276
        },
        "id": "m1VPPpeBoZjK",
        "outputId": "ecc4c9b2-fa58-43d0-b957-c93b61426260"
      },
      "execution_count": null,
      "outputs": [
        {
          "output_type": "error",
          "ename": "ValueError",
          "evalue": "op의 값은 '+' 또는 '*'만 가능합니다",
          "traceback": [
            "\u001b[0;31m---------------------------------------------------------------------------\u001b[0m",
            "\u001b[0;31mValueError\u001b[0m                                Traceback (most recent call last)",
            "\u001b[0;32m<ipython-input-188-063f05e796c4>\u001b[0m in \u001b[0;36m<cell line: 0>\u001b[0;34m()\u001b[0m\n\u001b[0;32m----> 1\u001b[0;31m \u001b[0mcalculate\u001b[0m\u001b[0;34m(\u001b[0m\u001b[0;36m1\u001b[0m\u001b[0;34m,\u001b[0m\u001b[0;36m2\u001b[0m\u001b[0;34m,\u001b[0m\u001b[0;36m3\u001b[0m\u001b[0;34m,\u001b[0m \u001b[0mop\u001b[0m\u001b[0;34m=\u001b[0m\u001b[0;34m'/'\u001b[0m\u001b[0;34m)\u001b[0m\u001b[0;34m\u001b[0m\u001b[0;34m\u001b[0m\u001b[0m\n\u001b[0m",
            "\u001b[0;32m<ipython-input-187-3c04cd5b0493>\u001b[0m in \u001b[0;36mcalculate\u001b[0;34m(op, *values)\u001b[0m\n\u001b[1;32m     15\u001b[0m             \u001b[0mresult\u001b[0m \u001b[0;34m*=\u001b[0m \u001b[0mx\u001b[0m\u001b[0;34m\u001b[0m\u001b[0;34m\u001b[0m\u001b[0m\n\u001b[1;32m     16\u001b[0m     \u001b[0;32melse\u001b[0m\u001b[0;34m:\u001b[0m\u001b[0;34m\u001b[0m\u001b[0;34m\u001b[0m\u001b[0m\n\u001b[0;32m---> 17\u001b[0;31m         \u001b[0;32mraise\u001b[0m \u001b[0mValueError\u001b[0m\u001b[0;34m(\u001b[0m\u001b[0;34m\"op의 값은 '+' 또는 '*'만 가능합니다\"\u001b[0m\u001b[0;34m)\u001b[0m\u001b[0;34m\u001b[0m\u001b[0;34m\u001b[0m\u001b[0m\n\u001b[0m\u001b[1;32m     18\u001b[0m \u001b[0;34m\u001b[0m\u001b[0m\n\u001b[1;32m     19\u001b[0m     \u001b[0;32mreturn\u001b[0m \u001b[0mresult\u001b[0m\u001b[0;34m\u001b[0m\u001b[0;34m\u001b[0m\u001b[0m\n",
            "\u001b[0;31mValueError\u001b[0m: op의 값은 '+' 또는 '*'만 가능합니다"
          ]
        }
      ]
    },
    {
      "cell_type": "markdown",
      "source": [
        "#  Variable-Length Keyword Argument(가변길이 키워드 인수)"
      ],
      "metadata": {
        "id": "jptLAtRBt2lc"
      }
    },
    {
      "cell_type": "markdown",
      "source": [
        "*   함수를 선언할 때 파라미터 이름 앞에 '**' 를 사용함.\n",
        "*   함수를 호출할 때는 `'para1=value1', 'param2=value2', ...`와 같은 형식으로 아규먼트들을 전달함\n",
        "    *   가변길이 인수이기 때문에 전달하는 아규먼트 개수의 제한이 없음.\n",
        "    *   키워드 인수이기 때문에 반드시 키워드(파라미터 이름)과 함께 아규먼트를 전달해야 함\n",
        "        *   키워드 이름은 자유롭게 만들 수 있음.\n",
        "*   함수 내부에서 가변길이 키워드 인수는 dict 타입 객체로 취급.\n",
        "    *   파라미터 이름이 dict의 키가 됨.\n",
        "    *   아규먼트가 dict의 값(value)이 됨.\n",
        "*   가변길이 키워드 인수는 함수에서 오직 1개만 선언할 수 있음."
      ],
      "metadata": {
        "id": "HOe4K3XxuDFU"
      }
    },
    {
      "cell_type": "code",
      "source": [
        "def fn_test3(*args, **kwargs):\n",
        "    print('args=', args)    # 가변길이 인수 -> tuple\n",
        "    print('kwrgs =', kwargs) # 가변길이 키워드 인수 -> dict"
      ],
      "metadata": {
        "id": "Pe4hrsYnokct"
      },
      "execution_count": null,
      "outputs": []
    },
    {
      "cell_type": "code",
      "source": [
        "fn_test3(1, 2, 'a', 'b', x=1, y=2, z='hello' )"
      ],
      "metadata": {
        "colab": {
          "base_uri": "https://localhost:8080/"
        },
        "id": "9XaNQNecv7sz",
        "outputId": "c55b579d-f702-43b0-c2aa-15cf0fcb539f"
      },
      "execution_count": null,
      "outputs": [
        {
          "output_type": "stream",
          "name": "stdout",
          "text": [
            "args= (1, 2, 'a', 'b')\n",
            "kwrgs = {'x': 1, 'y': 2, 'z': 'hello'}\n"
          ]
        }
      ]
    },
    {
      "cell_type": "code",
      "source": [
        "def make_student_info(stu_no, stu_name, **kwargs):\n",
        "    student = {'no': stu_no, 'name':stu_name}\n",
        "    for k, v in kwargs.items():\n",
        "        # 가변길이 키워드 아규먼트들 중에서 키가 'email' 이거나  'phone'인 경우에만 dict에 추가\n",
        "        if (k == 'email') or (k == 'phone'):\n",
        "            student[k] = v\n",
        "\n",
        "    return student"
      ],
      "metadata": {
        "id": "eIkf0Skww2VT"
      },
      "execution_count": null,
      "outputs": []
    },
    {
      "cell_type": "code",
      "source": [
        "make_student_info(1234, '홍길동')\n"
      ],
      "metadata": {
        "colab": {
          "base_uri": "https://localhost:8080/"
        },
        "id": "p5gcROZiyK2r",
        "outputId": "d221e191-1dbc-4736-8f62-53ed79449e42"
      },
      "execution_count": null,
      "outputs": [
        {
          "output_type": "execute_result",
          "data": {
            "text/plain": [
              "{'no': 1234, 'name': '홍길동'}"
            ]
          },
          "metadata": {},
          "execution_count": 195
        }
      ]
    },
    {
      "cell_type": "code",
      "source": [
        "make_student_info(2223, '오쌤', phone = '010-1111-2222', email = 'jake@itwill.com', gender = 'male', age = 16)"
      ],
      "metadata": {
        "colab": {
          "base_uri": "https://localhost:8080/"
        },
        "id": "s3-kN0hhyRni",
        "outputId": "8efa0003-53d7-45ad-c279-48980e565112"
      },
      "execution_count": null,
      "outputs": [
        {
          "output_type": "execute_result",
          "data": {
            "text/plain": [
              "{'no': 2223,\n",
              " 'name': '오쌤',\n",
              " 'phone': '010-1111-2222',\n",
              " 'email': 'jake@itwill.com'}"
            ]
          },
          "metadata": {},
          "execution_count": 200
        }
      ]
    },
    {
      "cell_type": "code",
      "source": [],
      "metadata": {
        "id": "qRWow7pt3EoN"
      },
      "execution_count": null,
      "outputs": []
    }
  ]
}