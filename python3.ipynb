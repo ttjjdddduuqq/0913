{
  "nbformat": 4,
  "nbformat_minor": 0,
  "metadata": {
    "colab": {
      "provenance": [],
      "authorship_tag": "ABX9TyPiY42ri7CZARgnh9IkYDjo",
      "include_colab_link": true
    },
    "kernelspec": {
      "name": "python3",
      "display_name": "Python 3"
    },
    "language_info": {
      "name": "python"
    }
  },
  "cells": [
    {
      "cell_type": "markdown",
      "metadata": {
        "id": "view-in-github",
        "colab_type": "text"
      },
      "source": [
        "<a href=\"https://colab.research.google.com/github/ttjjdddduuqq/0913/blob/main/python3.ipynb\" target=\"_parent\"><img src=\"https://colab.research.google.com/assets/colab-badge.svg\" alt=\"Open In Colab\"/></a>"
      ]
    },
    {
      "cell_type": "markdown",
      "source": [
        "# 조건문"
      ],
      "metadata": {
        "id": "8p4w156V6leR"
      }
    },
    {
      "cell_type": "markdown",
      "source": [
        "## else 없는 조건문"
      ],
      "metadata": {
        "id": "xwmpXr0F6pJg"
      }
    },
    {
      "cell_type": "markdown",
      "source": [
        "```\n",
        "if 조건식:\n",
        "    조건식을 만족할 때 실행할 코드 블록(문장들)                                \n",
        "```\n",
        " * `if 조건식` 뒤에는 반드시 콜론(:)을 써야 함. 콜론 의미는 블록 시작을 의미.  \n",
        " * if 블록은 반드시 들여쓰기(indentation)을 해야 됨.\n",
        " * 들여쓰기의 크기는 일정해야 함."
      ],
      "metadata": {
        "id": "OqGQ61qn6veh"
      }
    },
    {
      "cell_type": "code",
      "execution_count": null,
      "metadata": {
        "colab": {
          "base_uri": "https://localhost:8080/"
        },
        "id": "1uzxbrRywIBC",
        "outputId": "27826c40-986c-480c-e9ba-0d0d89434281"
      },
      "outputs": [
        {
          "output_type": "stream",
          "name": "stdout",
          "text": [
            "몇 살이세요? 5\n",
            "당신은 5살이군요.\n",
            "=== end ===\n"
          ]
        }
      ],
      "source": [
        "age = int(input('몇 살이세요? '))\n",
        "if age >= 0:\n",
        "   print(f'당신은 {age}살이군요.')\n",
        "   print('=== end ===')"
      ]
    },
    {
      "cell_type": "markdown",
      "source": [
        "## else 있는 조건문"
      ],
      "metadata": {
        "id": "1XrGKEsFC0jC"
      }
    },
    {
      "cell_type": "markdown",
      "source": [
        "```\n",
        "if 조건식:\n",
        "    조건식을 만족할 때 실행할 코드 블록 (1)\n",
        "else:\n",
        "    조건식을 만족하지 못할 때 실행할 코드 블록 (2)    \n",
        "```\n",
        "\n",
        "*  조건식을 만족하면 (1) 블록을 실행. 만족 못하면 (2) 실행\n",
        "*  `if 조건식`과 `else` 다음에는 반드시 콜론(:)을 써야 함.\n",
        "*  if블록(1)과 else 블록(2)은 반드시 들여쓰기를 해야 함.\n",
        "*  들여쓰기의 크기는 일정해야 함."
      ],
      "metadata": {
        "id": "bPYDYGEFC5WB"
      }
    },
    {
      "cell_type": "code",
      "source": [
        "age = int(input('몇 살이세요? '))\n",
        "if age >= 0:\n",
        "    print(f'당신은 {age}살이군요.')\n",
        "else:\n",
        "    print('잘못입력했습니다')\n",
        "print('=== end ===')"
      ],
      "metadata": {
        "colab": {
          "base_uri": "https://localhost:8080/"
        },
        "id": "lcWKwkEhEYly",
        "outputId": "6645b46d-e899-4910-86fc-63c1b47cac93"
      },
      "execution_count": null,
      "outputs": [
        {
          "output_type": "stream",
          "name": "stdout",
          "text": [
            "몇 살이세요? 5\n",
            "당신은 5살이군요.\n",
            "=== end ===\n"
          ]
        }
      ]
    },
    {
      "cell_type": "markdown",
      "source": [
        "*    정수를 입력받아서 변수에 저장\n",
        "*    입력받은 정수가 짝수이면 '짝수'라고 출력\n",
        "*    그렇지 않으면 '홀수'라고 출력"
      ],
      "metadata": {
        "id": "T6UiUc-TIh2K"
      }
    },
    {
      "cell_type": "code",
      "source": [
        "number = int(input('숫자를 적으세요.'))\n",
        "if number % 2 == 0:\n",
        "    print('짝수')\n",
        "else:\n",
        "    print('홀수')"
      ],
      "metadata": {
        "colab": {
          "base_uri": "https://localhost:8080/"
        },
        "id": "UZlKZD_6GnuJ",
        "outputId": "cb2d5f6a-bd9b-40a6-ad75-5e9306ff9b45"
      },
      "execution_count": null,
      "outputs": [
        {
          "output_type": "stream",
          "name": "stdout",
          "text": [
            "숫자를 적으세요.10\n",
            "짝수\n"
          ]
        }
      ]
    },
    {
      "cell_type": "markdown",
      "source": [
        "Falsy Value: 파이썬에서 거짓(False)로 취급하는 값.\n",
        "\n",
        "*  숫자 0\n",
        "*  빈 문자열( '', \"\")\n",
        "*  빈 이스트([])\n",
        "*  None(변수에 값을 할당하지 않을 때 사용하는 파이썬 예약어)\n",
        "name = None"
      ],
      "metadata": {
        "id": "8XEzvVczNQUh"
      }
    },
    {
      "cell_type": "code",
      "source": [
        "number = int(정수 입력>>input('>'))\n",
        "if number % 2:\n",
        "    # 변수 nember를 2로 나눈 나머지가 있으면\n",
        "    print('홀수')\n",
        "else:\n",
        "    # 나머지가 없으면\n",
        "    print('짝수')"
      ],
      "metadata": {
        "colab": {
          "base_uri": "https://localhost:8080/"
        },
        "id": "Os0A460cOULS",
        "outputId": "46713a00-9430-4cc3-9409-627ed02cb227"
      },
      "execution_count": null,
      "outputs": [
        {
          "output_type": "stream",
          "name": "stdout",
          "text": [
            "정수 입력>>>10\n",
            "짝수\n"
          ]
        }
      ]
    },
    {
      "cell_type": "markdown",
      "source": [
        "##  chained conditionals"
      ],
      "metadata": {
        "id": "ODsjXSO2PpPa"
      }
    },
    {
      "cell_type": "markdown",
      "source": [
        "```\n",
        "if 조건식1:\n",
        "   (조건식1)이 True인 경우 실행할 블록\n",
        "elif 조건식2:\n",
        "   (조건식2)이 True인 경우 실행할 블록\n",
        "```\n",
        "else:\n",
        "   위의 조건식들이 False일 때 실행할 블록\n",
        "```\n",
        "\n",
        "*   모든 블록들은 같은 크기로 들여쓰기를 해야 함.\n",
        "*   `elif 조건식` 블록은 1개 이상이 있을 수 있음.\n",
        "*   else 블록은 생략할 수 있음."
      ],
      "metadata": {
        "id": "9tZygJA7PvDZ"
      }
    },
    {
      "cell_type": "code",
      "source": [
        "number = float(input('숫자를 입력>>>'))\n",
        "if number > 0:\n",
        "    print('양수')\n",
        "elif number < 0:\n",
        "    print('음수')\n",
        "else:\n",
        "    print('zero')"
      ],
      "metadata": {
        "colab": {
          "base_uri": "https://localhost:8080/"
        },
        "id": "XWzq1gTsQ8qj",
        "outputId": "3ae3d122-fd13-4c0c-8ead-b5ea56721586"
      },
      "execution_count": null,
      "outputs": [
        {
          "output_type": "stream",
          "name": "stdout",
          "text": [
            "숫자를 입력>>>0\n",
            "zero\n"
          ]
        }
      ]
    },
    {
      "cell_type": "markdown",
      "source": [
        "## 중첩 조건문\n"
      ],
      "metadata": {
        "id": "64qlfeTaSnxL"
      }
    },
    {
      "cell_type": "markdown",
      "source": [
        "*  if 블록, elif 블록, else 블록 안에서 또다른 조건문(if 문, if-else 문, if-elif-else 문)을 사용하는 것.\n",
        "*  들여쓰기 특히 주의!\n",
        "*  들여쓰기 방식에 따라서 전혀 다른 로직의 실행문이 될 수 있음.\n",
        "*  논리 연산자(and, or)를 사용하는 문장 또는 elif 블록을 중첨 조건문으로 바꿀 수 있음."
      ],
      "metadata": {
        "id": "rndl2HO2Sp7i"
      }
    },
    {
      "cell_type": "code",
      "source": [
        "number = float(input('숫자 입력>>'))\n",
        "if number > 0:\n",
        "    print('양수')\n",
        "else:\n",
        "    if number < 0:\n",
        "        print('음수')\n",
        "    else:\n",
        "        print('zero')"
      ],
      "metadata": {
        "colab": {
          "base_uri": "https://localhost:8080/"
        },
        "id": "YZEt3O4iTeF7",
        "outputId": "db61fdbb-d233-4c0c-abf5-1bfaef98ceb5"
      },
      "execution_count": null,
      "outputs": [
        {
          "output_type": "stream",
          "name": "stdout",
          "text": [
            "숫자 입력>>0\n",
            "zero\n"
          ]
        }
      ]
    },
    {
      "cell_type": "markdown",
      "source": [
        "연습 문제:\n",
        "\n",
        "1. 정수를 3개 입력받고 각각 변수에 저장\n",
        "2. 3개 정수의 총점, 평균을 계산하고 출력\n",
        "3. 평균이 90 이상이면 'A' 80 이상이면 'B' 70 이상이면 'C' 60 이상이면 'D' 60 이면 'F'라고 출력"
      ],
      "metadata": {
        "id": "V0-Xw8A_U02r"
      }
    },
    {
      "cell_type": "code",
      "source": [
        "number1 = int(input('점수 1 입력>'))\n",
        "number2 = int(input('점수 2 입력>'))\n",
        "number3 = int(input('점수 3 입력>'))\n",
        "sum = number1 + number2 + number3\n",
        "print(f'총점 {sum} ')\n",
        "average = sum / 3\n",
        "print(f'평균 {average}')\n",
        "if average >= 90:\n",
        "    print('A')\n",
        "elif average >= 80:\n",
        "    print('B')\n",
        "elif average >= 70:\n",
        "    print('C')\n",
        "elif average >= 60:\n",
        "    print('D')\n",
        "else:\n",
        "    print('F')"
      ],
      "metadata": {
        "colab": {
          "base_uri": "https://localhost:8080/"
        },
        "id": "8YnLzZelVjPj",
        "outputId": "8c5311d5-158b-4240-fb69-cd0180186ed3"
      },
      "execution_count": null,
      "outputs": [
        {
          "output_type": "stream",
          "name": "stdout",
          "text": [
            "점수 1 입력>100\n",
            "점수 2 입력>90\n",
            "점수 3 입력>80\n",
            "총점 270 \n",
            "평균 90.0\n",
            "A\n"
          ]
        }
      ]
    },
    {
      "cell_type": "code",
      "source": [
        "# 평균이 90 이상이면 'A' 80 이상이면 'B' 70 이상이면 'C' 60 이상이면 'D' 60 이면 'F'라고 출력\n",
        "number1 = int(input('점수 입력1'))\n",
        "number2 = int(input('점수 입력2'))\n",
        "number3 = int(input('점수 입력3'))\n",
        "sum = (number1 + number2 + number3)\n",
        "average = (number1 + number2 + number3) / 3\n",
        "print(f'총점 {sum}')\n",
        "print(f'평균{average}')\n",
        "if average >= 90:\n",
        "    print('A')\n",
        "elif average >= 80:\n",
        "    print('B')\n",
        "elif average >= 70:\n",
        "    print('C')\n",
        "elif average >= 60:\n",
        "    print('D')\n",
        "else:\n",
        "    print('F')\n"
      ],
      "metadata": {
        "colab": {
          "base_uri": "https://localhost:8080/"
        },
        "id": "l-n3649iwwHL",
        "outputId": "d6fc30ab-fc94-4a80-a03c-ea7bdc4e8395"
      },
      "execution_count": null,
      "outputs": [
        {
          "output_type": "stream",
          "name": "stdout",
          "text": [
            "점수 입력175\n",
            "점수 입력275\n",
            "점수 입력375\n",
            "총점 225\n",
            "평균75.0\n",
            "C\n"
          ]
        }
      ]
    },
    {
      "cell_type": "markdown",
      "source": [
        "# match 문"
      ],
      "metadata": {
        "id": "63oyiSOCrJps"
      }
    },
    {
      "cell_type": "markdown",
      "source": [
        "```\n",
        "match 변수(식):\n",
        "    case 값1:\n",
        "        변수(식)의 결과가 값1인 경우 실행할 코드 블록\n",
        "    case 값2:\n",
        "        변수(식)의 결과가 값2인 경우 실행할 코드 블록\n",
        "    ...\n",
        "```\n"
      ],
      "metadata": {
        "id": "C7MUoyggrSac"
      }
    },
    {
      "cell_type": "code",
      "source": [
        "day = int(input('0~6 사이의 정수 입력 >>>'))\n",
        "match day:\n",
        "    case 0:\n",
        "        print('일요일')\n",
        "    case 1:\n",
        "        print('월요일')\n",
        "    case 2:\n",
        "        print('화요일')\n",
        "    case 3:\n",
        "        print('수요일')\n",
        "    case 4:\n",
        "        print('목요일')\n",
        "    case 5:\n",
        "        print('금요일')\n",
        "    case 6:\n",
        "        print('토요일')"
      ],
      "metadata": {
        "colab": {
          "base_uri": "https://localhost:8080/"
        },
        "id": "5lf6htcxr33V",
        "outputId": "b607ac39-f2d8-4642-f64c-6543e39497d8"
      },
      "execution_count": null,
      "outputs": [
        {
          "output_type": "stream",
          "name": "stdout",
          "text": [
            "0~6 사이의 정수 입력 >>>5\n",
            "금요일\n"
          ]
        }
      ]
    },
    {
      "cell_type": "code",
      "source": [
        "day = int(input('0~6 사이의 정수 입력 >>>'))\n",
        "match day:\n",
        "    case 1 | 2 | 3 | 4 | 5:\n",
        "        print('평일')\n",
        "    case 0 | 6:\n",
        "        print('주말')\n",
        "    case _:    # 위에서 나열된 case들 이외의 나머지 전부\n",
        "        print('숫자를 잘못 입력했어요')"
      ],
      "metadata": {
        "colab": {
          "base_uri": "https://localhost:8080/"
        },
        "id": "WjA6uMWNvHFE",
        "outputId": "1fa38302-b8ee-4a65-f633-37da26673498"
      },
      "execution_count": null,
      "outputs": [
        {
          "output_type": "stream",
          "name": "stdout",
          "text": [
            "0~6 사이의 정수 입력 >>>4\n",
            "평일\n"
          ]
        }
      ]
    },
    {
      "cell_type": "markdown",
      "source": [
        "# 난수(random number) 생성방법"
      ],
      "metadata": {
        "id": "Y8_Stzswwgu0"
      }
    },
    {
      "cell_type": "code",
      "source": [
        "import random   # 난수 생성 기능(함수)들을 가지고 있는 random 모듈을 사용."
      ],
      "metadata": {
        "id": "_tfBQYXuwtZM"
      },
      "execution_count": 2,
      "outputs": []
    },
    {
      "cell_type": "code",
      "source": [
        "random.random()    #random.random() : 0 <= x < 1 범위의 @실수@ 난수를 생성."
      ],
      "metadata": {
        "colab": {
          "base_uri": "https://localhost:8080/"
        },
        "id": "XPSjqTSZwG60",
        "outputId": "f184aec8-a0c5-485e-b352-c6e9331454dd"
      },
      "execution_count": null,
      "outputs": [
        {
          "output_type": "execute_result",
          "data": {
            "text/plain": [
              "0.7234065150230743"
            ]
          },
          "metadata": {},
          "execution_count": 136
        }
      ]
    },
    {
      "cell_type": "code",
      "source": [
        "random.randrange(0, 3)  #random.randrange(start, stop) start <= x < stop 범위의 @정수@ 난수 생성 (범위는 시작은 포함 끝은 미포함)"
      ],
      "metadata": {
        "colab": {
          "base_uri": "https://localhost:8080/"
        },
        "id": "EuJnT1Mox1Ft",
        "outputId": "7bdf1576-357e-40c3-db99-bc37e2206774"
      },
      "execution_count": null,
      "outputs": [
        {
          "output_type": "execute_result",
          "data": {
            "text/plain": [
              "0"
            ]
          },
          "metadata": {},
          "execution_count": 154
        }
      ]
    },
    {
      "cell_type": "code",
      "source": [
        "random.randrange(3)  # random.randrange(stop) : 0 <= x < stop 범위 정수 난수 생성"
      ],
      "metadata": {
        "colab": {
          "base_uri": "https://localhost:8080/"
        },
        "id": "yxo0jGE-yuyE",
        "outputId": "5cd711a7-df1b-42be-9e46-ee949a0c41cc"
      },
      "execution_count": null,
      "outputs": [
        {
          "output_type": "execute_result",
          "data": {
            "text/plain": [
              "2"
            ]
          },
          "metadata": {},
          "execution_count": 156
        }
      ]
    },
    {
      "cell_type": "markdown",
      "source": [
        "## 연습문제\n",
        "\n",
        "가위, 바위, 보 게임의 승패를 출력:\n",
        "\n",
        "* 가위(1), 바위(2) 보(3)\n",
        "* 컴퓨터 - 1 이상 3이하 의 정수 한 개를 생성하고 변수에 저장.\n",
        "* 사용자 - 1이상 3 이하의 정수를 입력받아서 변수에 저장\n",
        "* 승패 (조건문 작성)"
      ],
      "metadata": {
        "id": "rL_zaZGO30iN"
      }
    },
    {
      "cell_type": "code",
      "source": [],
      "metadata": {
        "id": "3GlgPKFPyceS"
      },
      "execution_count": null,
      "outputs": []
    },
    {
      "cell_type": "code",
      "source": [
        "computer = random.randrange(1,4)\n",
        "print(f' computer = {computer}')"
      ],
      "metadata": {
        "colab": {
          "base_uri": "https://localhost:8080/"
        },
        "id": "KLyD3E7T498d",
        "outputId": "1deab633-3e31-41c4-fbb8-aa38590200c6"
      },
      "execution_count": null,
      "outputs": [
        {
          "output_type": "stream",
          "name": "stdout",
          "text": [
            " computer = 2\n"
          ]
        }
      ]
    },
    {
      "cell_type": "code",
      "source": [
        "print('===가위 바위 보===')\n",
        "print('[1] 가위')\n",
        "print('[2] 바위')\n",
        "print('[3] 보')\n",
        "user = int(input('선택>>>'))\n",
        "print(f'user = {user}')"
      ],
      "metadata": {
        "colab": {
          "base_uri": "https://localhost:8080/"
        },
        "id": "-WIKIQrj5FW9",
        "outputId": "4af64b63-aa74-47d2-92ba-25a6acae19c6"
      },
      "execution_count": null,
      "outputs": [
        {
          "output_type": "stream",
          "name": "stdout",
          "text": [
            "===가위 바위 보===\n",
            "[1] 가위\n",
            "[2] 바위\n",
            "[3] 보\n",
            "선택>>>3\n",
            "user = 3\n"
          ]
        }
      ]
    },
    {
      "cell_type": "code",
      "source": [
        "print('===가위 바위 보===')\n",
        "print('[1] 가위')\n",
        "print('[2] 바위')\n",
        "print('[3] 보')\n",
        "user = int(input('선택>>>'))\n",
        "computer = random.randrange(1,4)\n",
        "match computer:\n",
        "    case 1:\n",
        "        print('computer = 가위')\n",
        "    case 2:\n",
        "        print('computer = 바위')\n",
        "    case 3:\n",
        "        print('computer = 보')\n",
        "match user:\n",
        "    case 1:\n",
        "        print('user = 가위')\n",
        "    case 2:\n",
        "        print('user = 바위')\n",
        "    case 3:\n",
        "        print('user = 보')\n",
        "if user == computer:\n",
        "    print('비김')\n",
        "elif (user == 1 and computer == 3) or (user == 2 and computer == 1) or (user == 3 and computer == 2):\n",
        "    print('승')\n",
        "else:\n",
        "    print('패')"
      ],
      "metadata": {
        "colab": {
          "base_uri": "https://localhost:8080/"
        },
        "id": "AMWPe4oNBmPV",
        "outputId": "5fedd237-0b12-4509-eb21-e2be0e12f31b"
      },
      "execution_count": 3,
      "outputs": [
        {
          "output_type": "stream",
          "name": "stdout",
          "text": [
            "===가위 바위 보===\n",
            "[1] 가위\n",
            "[2] 바위\n",
            "[3] 보\n",
            "선택>>>3\n",
            "computer = 보\n",
            "user = 보\n",
            "비김\n"
          ]
        }
      ]
    }
  ]
}