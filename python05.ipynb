{
  "nbformat": 4,
  "nbformat_minor": 0,
  "metadata": {
    "colab": {
      "provenance": [],
      "authorship_tag": "ABX9TyOvoWdQFE5IMSkYwZIZ+HIv",
      "include_colab_link": true
    },
    "kernelspec": {
      "name": "python3",
      "display_name": "Python 3"
    },
    "language_info": {
      "name": "python"
    }
  },
  "cells": [
    {
      "cell_type": "markdown",
      "metadata": {
        "id": "view-in-github",
        "colab_type": "text"
      },
      "source": [
        "<a href=\"https://colab.research.google.com/github/ttjjdddduuqq/0913/blob/main/python05.ipynb\" target=\"_parent\"><img src=\"https://colab.research.google.com/assets/colab-badge.svg\" alt=\"Open In Colab\"/></a>"
      ]
    },
    {
      "cell_type": "markdown",
      "source": [
        "# for 반복문"
      ],
      "metadata": {
        "id": "PrE7VhIhKPKI"
      }
    },
    {
      "cell_type": "markdown",
      "source": [
        "## 문법"
      ],
      "metadata": {
        "id": "-WoyOeqfKR9Q"
      }
    },
    {
      "cell_type": "markdown",
      "source": [
        "~~~\n",
        "for  변수 in iterable-type:\n",
        "    반복해서 실행할 코드 블록\n",
        "~~~\n",
        "\n",
        "*  iterable-type: 반복(iteration)이 가능한 데이터 타입.\n",
        "    *  str(문자열), range, list, tuple, dict, ...\n",
        "*  for 반복문은  iterable-type이 객체에서 원소들을 하나씩 순서대로 꺼내서 변수에 저장하고, 코드 블록을 수행.\n",
        "*  for 반복문은 iterable-type이 객체에서 더 이상 꺼낼 원소가 없을 때 반복을 종료."
      ],
      "metadata": {
        "id": "wWEDVs6qKXO3"
      }
    },
    {
      "cell_type": "code",
      "source": [
        "for x in '안녕하세요!':\n",
        "    print(x)"
      ],
      "metadata": {
        "colab": {
          "base_uri": "https://localhost:8080/"
        },
        "id": "YqsBGFLDMCwx",
        "outputId": "807d7902-c774-4c07-d80a-7a0d46ddfa65"
      },
      "execution_count": null,
      "outputs": [
        {
          "output_type": "stream",
          "name": "stdout",
          "text": [
            "안\n",
            "녕\n",
            "하\n",
            "세\n",
            "요\n",
            "!\n"
          ]
        }
      ]
    },
    {
      "cell_type": "markdown",
      "source": [
        "##  `range()` 함수와 for 반복문"
      ],
      "metadata": {
        "id": "a1Xeocr2M12f"
      }
    },
    {
      "cell_type": "code",
      "source": [
        "# range(start, stop): iteration할 떄마다 start <= x < stop 범위의 1씩 증가하는 정수를 생성함.\n",
        "for x in range(1,6):\n",
        "    print(x)"
      ],
      "metadata": {
        "colab": {
          "base_uri": "https://localhost:8080/"
        },
        "id": "9byreHiQNATq",
        "outputId": "31acdf45-e618-4b1f-fd18-761fc3e83d07"
      },
      "execution_count": null,
      "outputs": [
        {
          "output_type": "stream",
          "name": "stdout",
          "text": [
            "1\n",
            "2\n",
            "3\n",
            "4\n",
            "5\n"
          ]
        }
      ]
    },
    {
      "cell_type": "code",
      "source": [
        "#range(stop): iteration을 할 때마다 0 <= x < stop 범위의 1씩 증가하는 정수를 생성함.\n",
        "for x in range(5):\n",
        "    print(x)"
      ],
      "metadata": {
        "colab": {
          "base_uri": "https://localhost:8080/"
        },
        "id": "cX_i8CHoOncw",
        "outputId": "995b9f33-62db-4638-a071-d5196cf3564e"
      },
      "execution_count": null,
      "outputs": [
        {
          "output_type": "stream",
          "name": "stdout",
          "text": [
            "0\n",
            "1\n",
            "2\n",
            "3\n",
            "4\n"
          ]
        }
      ]
    },
    {
      "cell_type": "code",
      "source": [
        "# range(start, stop, step): step이 양수인 경우, start <= x < stop 범위의 step 만큼씩 증가하는 정수 생성.\n",
        "for x in range(0,10,2):\n",
        "    print(x)"
      ],
      "metadata": {
        "colab": {
          "base_uri": "https://localhost:8080/"
        },
        "id": "paL5U8K3PTLI",
        "outputId": "d85c1477-7908-4cbb-d059-e04e1b06d9a3"
      },
      "execution_count": null,
      "outputs": [
        {
          "output_type": "stream",
          "name": "stdout",
          "text": [
            "0\n",
            "2\n",
            "4\n",
            "6\n",
            "8\n"
          ]
        }
      ]
    },
    {
      "cell_type": "code",
      "source": [
        "# range(start, stop, step): step이 음수인 경우, start >= x > stop 범위의 step만큼씩 감소하는 정수 생성함.\n",
        "for x in range(5,0,-1):\n",
        "    print(x)"
      ],
      "metadata": {
        "colab": {
          "base_uri": "https://localhost:8080/"
        },
        "id": "W23vA4aUQKEQ",
        "outputId": "eb2572e5-7c6d-43a5-b9d9-48c1a1736a9a"
      },
      "execution_count": null,
      "outputs": [
        {
          "output_type": "stream",
          "name": "stdout",
          "text": [
            "5\n",
            "4\n",
            "3\n",
            "2\n",
            "1\n"
          ]
        }
      ]
    },
    {
      "cell_type": "markdown",
      "source": [
        "1 이상 10 미만의 홀수들을 내림차순으로 출력"
      ],
      "metadata": {
        "id": "oSAILtPyRAOY"
      }
    },
    {
      "cell_type": "code",
      "source": [
        "for x in range(9,0,-2):\n",
        "    print(x)"
      ],
      "metadata": {
        "colab": {
          "base_uri": "https://localhost:8080/"
        },
        "id": "weqE7nPAQ94v",
        "outputId": "c8d4be1e-d108-4fe2-ee28-50b6282b1a6a"
      },
      "execution_count": null,
      "outputs": [
        {
          "output_type": "stream",
          "name": "stdout",
          "text": [
            "9\n",
            "7\n",
            "5\n",
            "3\n",
            "1\n"
          ]
        }
      ]
    },
    {
      "cell_type": "markdown",
      "source": [],
      "metadata": {
        "id": "IGiO7I_KSoQ4"
      }
    },
    {
      "cell_type": "code",
      "source": [
        "for n in range(1,6):\n",
        "    print('*' * n)"
      ],
      "metadata": {
        "colab": {
          "base_uri": "https://localhost:8080/"
        },
        "id": "O9NBC91kRmKY",
        "outputId": "dfceef75-3964-4656-a089-900bc711c81e"
      },
      "execution_count": null,
      "outputs": [
        {
          "output_type": "stream",
          "name": "stdout",
          "text": [
            "*\n",
            "**\n",
            "***\n",
            "****\n",
            "*****\n"
          ]
        }
      ]
    },
    {
      "cell_type": "code",
      "source": [
        "for n in range(5,0,-1):\n",
        "    print('*' * n)"
      ],
      "metadata": {
        "colab": {
          "base_uri": "https://localhost:8080/"
        },
        "id": "KHdx85hnS87_",
        "outputId": "d91f0cbb-5aaa-4bb4-918b-6bf978d5dfda"
      },
      "execution_count": null,
      "outputs": [
        {
          "output_type": "stream",
          "name": "stdout",
          "text": [
            "*****\n",
            "****\n",
            "***\n",
            "**\n",
            "*\n"
          ]
        }
      ]
    },
    {
      "cell_type": "code",
      "source": [
        "## 중첩 for 문"
      ],
      "metadata": {
        "id": "_FFBkWzFXENp"
      },
      "execution_count": null,
      "outputs": []
    },
    {
      "cell_type": "code",
      "source": [
        "for n in range(1,10,1):\n",
        "    print(f'-----{n}단-----')\n",
        "    for y in range(1,10,1):\n",
        "        print(f'{n} x {y} = {n * y}')"
      ],
      "metadata": {
        "colab": {
          "base_uri": "https://localhost:8080/"
        },
        "id": "qvVcFg-JXG8Y",
        "outputId": "59538802-973d-47e4-c422-abf5a8ec3fb8"
      },
      "execution_count": null,
      "outputs": [
        {
          "output_type": "stream",
          "name": "stdout",
          "text": [
            "-----1단-----\n",
            "1 x 1 = 1\n",
            "1 x 2 = 2\n",
            "1 x 3 = 3\n",
            "1 x 4 = 4\n",
            "1 x 5 = 5\n",
            "1 x 6 = 6\n",
            "1 x 7 = 7\n",
            "1 x 8 = 8\n",
            "1 x 9 = 9\n",
            "-----2단-----\n",
            "2 x 1 = 2\n",
            "2 x 2 = 4\n",
            "2 x 3 = 6\n",
            "2 x 4 = 8\n",
            "2 x 5 = 10\n",
            "2 x 6 = 12\n",
            "2 x 7 = 14\n",
            "2 x 8 = 16\n",
            "2 x 9 = 18\n",
            "-----3단-----\n",
            "3 x 1 = 3\n",
            "3 x 2 = 6\n",
            "3 x 3 = 9\n",
            "3 x 4 = 12\n",
            "3 x 5 = 15\n",
            "3 x 6 = 18\n",
            "3 x 7 = 21\n",
            "3 x 8 = 24\n",
            "3 x 9 = 27\n",
            "-----4단-----\n",
            "4 x 1 = 4\n",
            "4 x 2 = 8\n",
            "4 x 3 = 12\n",
            "4 x 4 = 16\n",
            "4 x 5 = 20\n",
            "4 x 6 = 24\n",
            "4 x 7 = 28\n",
            "4 x 8 = 32\n",
            "4 x 9 = 36\n",
            "-----5단-----\n",
            "5 x 1 = 5\n",
            "5 x 2 = 10\n",
            "5 x 3 = 15\n",
            "5 x 4 = 20\n",
            "5 x 5 = 25\n",
            "5 x 6 = 30\n",
            "5 x 7 = 35\n",
            "5 x 8 = 40\n",
            "5 x 9 = 45\n",
            "-----6단-----\n",
            "6 x 1 = 6\n",
            "6 x 2 = 12\n",
            "6 x 3 = 18\n",
            "6 x 4 = 24\n",
            "6 x 5 = 30\n",
            "6 x 6 = 36\n",
            "6 x 7 = 42\n",
            "6 x 8 = 48\n",
            "6 x 9 = 54\n",
            "-----7단-----\n",
            "7 x 1 = 7\n",
            "7 x 2 = 14\n",
            "7 x 3 = 21\n",
            "7 x 4 = 28\n",
            "7 x 5 = 35\n",
            "7 x 6 = 42\n",
            "7 x 7 = 49\n",
            "7 x 8 = 56\n",
            "7 x 9 = 63\n",
            "-----8단-----\n",
            "8 x 1 = 8\n",
            "8 x 2 = 16\n",
            "8 x 3 = 24\n",
            "8 x 4 = 32\n",
            "8 x 5 = 40\n",
            "8 x 6 = 48\n",
            "8 x 7 = 56\n",
            "8 x 8 = 64\n",
            "8 x 9 = 72\n",
            "-----9단-----\n",
            "9 x 1 = 9\n",
            "9 x 2 = 18\n",
            "9 x 3 = 27\n",
            "9 x 4 = 36\n",
            "9 x 5 = 45\n",
            "9 x 6 = 54\n",
            "9 x 7 = 63\n",
            "9 x 8 = 72\n",
            "9 x 9 = 81\n"
          ]
        }
      ]
    },
    {
      "cell_type": "code",
      "source": [
        "## break, continue"
      ],
      "metadata": {
        "id": "rXmvzfcZZAKo"
      },
      "execution_count": null,
      "outputs": []
    },
    {
      "cell_type": "markdown",
      "source": [
        "*   `break`: iteration 을 종료\n",
        "*   `continue` : 그 다음 iteration을 수행."
      ],
      "metadata": {
        "id": "VBKuCdXeZEdX"
      }
    },
    {
      "cell_type": "code",
      "source": [
        "for x in range(1,6):\n",
        "    if x == 3:\n",
        "        break\n",
        "    print(x)"
      ],
      "metadata": {
        "colab": {
          "base_uri": "https://localhost:8080/"
        },
        "id": "3KFwK2oUZbrw",
        "outputId": "453d442e-35c7-4596-b483-9366dd2681c8"
      },
      "execution_count": null,
      "outputs": [
        {
          "output_type": "stream",
          "name": "stdout",
          "text": [
            "1\n",
            "2\n"
          ]
        }
      ]
    },
    {
      "cell_type": "code",
      "source": [
        "for x in range(1,6):\n",
        "    if x ==3:\n",
        "        continue\n",
        "    print(x)"
      ],
      "metadata": {
        "colab": {
          "base_uri": "https://localhost:8080/"
        },
        "id": "ARs1JXoMaIhp",
        "outputId": "a19eab60-d74f-4a49-f9ff-6ffe4553917a"
      },
      "execution_count": null,
      "outputs": [
        {
          "output_type": "stream",
          "name": "stdout",
          "text": [
            "1\n",
            "2\n",
            "4\n",
            "5\n"
          ]
        }
      ]
    },
    {
      "cell_type": "markdown",
      "source": [
        "구구단을 출력할떄 1단은 1x1까지 2단은 2x2까지,,, 9단은 9x9까지 출력\n",
        "* break 사용하는 방법\n",
        "* break 사용하지 않는 방법"
      ],
      "metadata": {
        "id": "dBD3xqIrbHGh"
      }
    },
    {
      "cell_type": "code",
      "source": [
        "for n in range(1,10,):\n",
        "    print(f'-----{n}단-----')\n",
        "    for y in range(1,10,):\n",
        "        print(f'{n} x {y} = {n * y}')\n",
        "        if y == x:\n",
        "             break\n"
      ],
      "metadata": {
        "colab": {
          "base_uri": "https://localhost:8080/"
        },
        "id": "Xwr1CicWbROQ",
        "outputId": "5bf52584-b5f0-4159-cf5b-af234c7fac57"
      },
      "execution_count": null,
      "outputs": [
        {
          "output_type": "stream",
          "name": "stdout",
          "text": [
            "-----1단-----\n",
            "1 x 1 = 1\n",
            "1 x 2 = 2\n",
            "1 x 3 = 3\n",
            "1 x 4 = 4\n",
            "1 x 5 = 5\n",
            "1 x 6 = 6\n",
            "1 x 7 = 7\n",
            "1 x 8 = 8\n",
            "1 x 9 = 9\n",
            "-----2단-----\n",
            "2 x 1 = 2\n",
            "2 x 2 = 4\n",
            "2 x 3 = 6\n",
            "2 x 4 = 8\n",
            "2 x 5 = 10\n",
            "2 x 6 = 12\n",
            "2 x 7 = 14\n",
            "2 x 8 = 16\n",
            "2 x 9 = 18\n",
            "-----3단-----\n",
            "3 x 1 = 3\n",
            "3 x 2 = 6\n",
            "3 x 3 = 9\n",
            "3 x 4 = 12\n",
            "3 x 5 = 15\n",
            "3 x 6 = 18\n",
            "3 x 7 = 21\n",
            "3 x 8 = 24\n",
            "3 x 9 = 27\n",
            "-----4단-----\n",
            "4 x 1 = 4\n",
            "4 x 2 = 8\n",
            "4 x 3 = 12\n",
            "4 x 4 = 16\n",
            "4 x 5 = 20\n",
            "4 x 6 = 24\n",
            "4 x 7 = 28\n",
            "4 x 8 = 32\n",
            "4 x 9 = 36\n",
            "-----5단-----\n",
            "5 x 1 = 5\n",
            "5 x 2 = 10\n",
            "5 x 3 = 15\n",
            "5 x 4 = 20\n",
            "5 x 5 = 25\n",
            "5 x 6 = 30\n",
            "5 x 7 = 35\n",
            "5 x 8 = 40\n",
            "5 x 9 = 45\n",
            "-----6단-----\n",
            "6 x 1 = 6\n",
            "6 x 2 = 12\n",
            "6 x 3 = 18\n",
            "6 x 4 = 24\n",
            "6 x 5 = 30\n",
            "6 x 6 = 36\n",
            "6 x 7 = 42\n",
            "6 x 8 = 48\n",
            "6 x 9 = 54\n",
            "-----7단-----\n",
            "7 x 1 = 7\n",
            "7 x 2 = 14\n",
            "7 x 3 = 21\n",
            "7 x 4 = 28\n",
            "7 x 5 = 35\n",
            "7 x 6 = 42\n",
            "7 x 7 = 49\n",
            "7 x 8 = 56\n",
            "7 x 9 = 63\n",
            "-----8단-----\n",
            "8 x 1 = 8\n",
            "8 x 2 = 16\n",
            "8 x 3 = 24\n",
            "8 x 4 = 32\n",
            "8 x 5 = 40\n",
            "8 x 6 = 48\n",
            "8 x 7 = 56\n",
            "8 x 8 = 64\n",
            "8 x 9 = 72\n",
            "-----9단-----\n",
            "9 x 1 = 9\n",
            "9 x 2 = 18\n",
            "9 x 3 = 27\n",
            "9 x 4 = 36\n",
            "9 x 5 = 45\n",
            "9 x 6 = 54\n",
            "9 x 7 = 63\n",
            "9 x 8 = 72\n",
            "9 x 9 = 81\n"
          ]
        }
      ]
    },
    {
      "cell_type": "code",
      "source": [],
      "metadata": {
        "id": "fbW95vEJc_hR"
      },
      "execution_count": null,
      "outputs": []
    },
    {
      "cell_type": "code",
      "source": [
        "for x in range(1,10):\n",
        "    for y in range(1,x+1):\n",
        "        print(f'{x} x {y} = {x * y}')\n",
        "    print('-' * 10)"
      ],
      "metadata": {
        "colab": {
          "base_uri": "https://localhost:8080/"
        },
        "id": "7DFMEnh1eBcB",
        "outputId": "4babcb61-2a41-4ce4-f284-be0e706bfbcf"
      },
      "execution_count": null,
      "outputs": [
        {
          "output_type": "stream",
          "name": "stdout",
          "text": [
            "1 x 1 = 1\n",
            "----------\n",
            "2 x 1 = 2\n",
            "2 x 2 = 4\n",
            "----------\n",
            "3 x 1 = 3\n",
            "3 x 2 = 6\n",
            "3 x 3 = 9\n",
            "----------\n",
            "4 x 1 = 4\n",
            "4 x 2 = 8\n",
            "4 x 3 = 12\n",
            "4 x 4 = 16\n",
            "----------\n",
            "5 x 1 = 5\n",
            "5 x 2 = 10\n",
            "5 x 3 = 15\n",
            "5 x 4 = 20\n",
            "5 x 5 = 25\n",
            "----------\n",
            "6 x 1 = 6\n",
            "6 x 2 = 12\n",
            "6 x 3 = 18\n",
            "6 x 4 = 24\n",
            "6 x 5 = 30\n",
            "6 x 6 = 36\n",
            "----------\n",
            "7 x 1 = 7\n",
            "7 x 2 = 14\n",
            "7 x 3 = 21\n",
            "7 x 4 = 28\n",
            "7 x 5 = 35\n",
            "7 x 6 = 42\n",
            "7 x 7 = 49\n",
            "----------\n",
            "8 x 1 = 8\n",
            "8 x 2 = 16\n",
            "8 x 3 = 24\n",
            "8 x 4 = 32\n",
            "8 x 5 = 40\n",
            "8 x 6 = 48\n",
            "8 x 7 = 56\n",
            "8 x 8 = 64\n",
            "----------\n",
            "9 x 1 = 9\n",
            "9 x 2 = 18\n",
            "9 x 3 = 27\n",
            "9 x 4 = 36\n",
            "9 x 5 = 45\n",
            "9 x 6 = 54\n",
            "9 x 7 = 63\n",
            "9 x 8 = 72\n",
            "9 x 9 = 81\n",
            "----------\n"
          ]
        }
      ]
    },
    {
      "cell_type": "markdown",
      "source": [
        "1 부터 10(포함0까지 정수들을 한 줄에 출력"
      ],
      "metadata": {
        "id": "BJYd1oobe8Uh"
      }
    },
    {
      "cell_type": "code",
      "source": [
        "for n in range(1,4):\n",
        "    print(n , end = ' litlle ',)  # print(f'{n} little', end=' ')\n",
        "print('indian')\n",
        "for n in range(4,7):\n",
        "    print(n , end = ' litlle ',)\n",
        "print('indian')\n",
        "for n in range(7,10):\n",
        "    print(n , end = ' litlle ',)\n",
        "print('indian')\n",
        "for n in range(10,11):\n",
        "     print(n , end = ' litlle indian boys! ',)"
      ],
      "metadata": {
        "colab": {
          "base_uri": "https://localhost:8080/"
        },
        "id": "VDEPJrs3xC-Z",
        "outputId": "6642dd2c-dd6a-45f4-f9f0-a8e9caa952e2"
      },
      "execution_count": null,
      "outputs": [
        {
          "output_type": "stream",
          "name": "stdout",
          "text": [
            "1 litlle 2 litlle 3 litlle indian\n",
            "4 litlle 5 litlle 6 litlle indian\n",
            "7 litlle 8 litlle 9 litlle indian\n",
            "10 litlle indian boys! "
          ]
        }
      ]
    },
    {
      "cell_type": "code",
      "source": [
        "for n in range(1,11):\n",
        "    print(n, 'little', end= ' ')\n",
        "    if n % 3 == 0:\n",
        "        print('indian')\n",
        "print('indian boys!')"
      ],
      "metadata": {
        "colab": {
          "base_uri": "https://localhost:8080/"
        },
        "id": "nNF2UwZ7_gXz",
        "outputId": "35b8953c-2815-4e9e-aee3-84d902423b17"
      },
      "execution_count": null,
      "outputs": [
        {
          "output_type": "stream",
          "name": "stdout",
          "text": [
            "1 little 2 little 3 little indian\n",
            "4 little 5 little 6 little indian\n",
            "7 little 8 little 9 little indian\n",
            "10 little indian boys!\n"
          ]
        }
      ]
    },
    {
      "cell_type": "code",
      "source": [
        "for n in range(1,101):\n",
        "    n_1 = n % 10   # 숫자 n을 10으로 나눈 나머지 -> 일의 자릿수\n",
        "    n_10 = n // 10  # 숫자 n을 10으로 나눈 몫 -> 십의 자릿수\n",
        "    condition1 = (n_1 == 3) or (n_1 == 6) or (n_1 == 9)   # 일의 자릿수가 3 또는 6 또는 9인 경우\n",
        "    condition2 = (n_10 == 3) or (n_10 == 6) or (n_10 == 9)   # 십의 자릿수가 3 또는 6 또는9 인 경우\n",
        "    if condition1 or condition2:\n",
        "        print('*', end='\\t')\n",
        "    else:\n",
        "        print(n, end='\\t')\n",
        "    if n % 10 == 0:  # = n_1 == 0:\n",
        "        print()  # 줄바꿈\n"
      ],
      "metadata": {
        "colab": {
          "base_uri": "https://localhost:8080/"
        },
        "id": "tDafQSbQ3dma",
        "outputId": "f664bfdc-03c6-4387-f0c1-2610ea356831"
      },
      "execution_count": null,
      "outputs": [
        {
          "output_type": "stream",
          "name": "stdout",
          "text": [
            "1\t2\t*\t4\t5\t*\t7\t8\t*\t10\t\n",
            "11\t12\t*\t14\t15\t*\t17\t18\t*\t20\t\n",
            "21\t22\t*\t24\t25\t*\t27\t28\t*\t*\t\n",
            "*\t*\t*\t*\t*\t*\t*\t*\t*\t40\t\n",
            "41\t42\t*\t44\t45\t*\t47\t48\t*\t50\t\n",
            "51\t52\t*\t54\t55\t*\t57\t58\t*\t*\t\n",
            "*\t*\t*\t*\t*\t*\t*\t*\t*\t70\t\n",
            "71\t72\t*\t74\t75\t*\t77\t78\t*\t80\t\n",
            "81\t82\t*\t84\t85\t*\t87\t88\t*\t*\t\n",
            "*\t*\t*\t*\t*\t*\t*\t*\t*\t100\t\n"
          ]
        }
      ]
    },
    {
      "cell_type": "code",
      "source": [
        "for n in range(1,101):\n",
        "    n_1 = n % 10\n",
        "    n_10 = n // 10\n",
        "    if ((n_1 != 0) and (n_1 % 3 == 0)) or ((n_10 != 0) and (n_10 % 3 == 0)):\n",
        "        print('*', end='\\t')\n",
        "    else:\n",
        "        print(n, end='\\t')\n",
        "    if n % 10 == 0:\n",
        "        print()"
      ],
      "metadata": {
        "colab": {
          "base_uri": "https://localhost:8080/"
        },
        "id": "Rf73uLWuF_v0",
        "outputId": "a9e24632-8dfa-49ec-c1f4-1b3ef915e313"
      },
      "execution_count": null,
      "outputs": [
        {
          "output_type": "stream",
          "name": "stdout",
          "text": [
            "1\t2\t*\t4\t5\t*\t7\t8\t*\t10\t\n",
            "11\t12\t*\t14\t15\t*\t17\t18\t*\t20\t\n",
            "21\t22\t*\t24\t25\t*\t27\t28\t*\t*\t\n",
            "*\t*\t*\t*\t*\t*\t*\t*\t*\t40\t\n",
            "41\t42\t*\t44\t45\t*\t47\t48\t*\t50\t\n",
            "51\t52\t*\t54\t55\t*\t57\t58\t*\t*\t\n",
            "*\t*\t*\t*\t*\t*\t*\t*\t*\t70\t\n",
            "71\t72\t*\t74\t75\t*\t77\t78\t*\t80\t\n",
            "81\t82\t*\t84\t85\t*\t87\t88\t*\t*\t\n",
            "*\t*\t*\t*\t*\t*\t*\t*\t*\t100\t\n"
          ]
        }
      ]
    },
    {
      "cell_type": "markdown",
      "source": [
        "`in` 연산자 : 배열과 유사한 객체에 원소로 포함되는 지 여부(True/False)를 알려주는 연산자\n",
        "\n",
        "---\n",
        "\n"
      ],
      "metadata": {
        "id": "IlnAmIueI7-8"
      }
    },
    {
      "cell_type": "code",
      "source": [
        "5 in range(1,11)"
      ],
      "metadata": {
        "colab": {
          "base_uri": "https://localhost:8080/"
        },
        "id": "FH-jMcFgJiMq",
        "outputId": "d7156cd8-a294-48ee-dd64-e41218fbf060"
      },
      "execution_count": null,
      "outputs": [
        {
          "output_type": "execute_result",
          "data": {
            "text/plain": [
              "True"
            ]
          },
          "metadata": {},
          "execution_count": 266
        }
      ]
    },
    {
      "cell_type": "code",
      "source": [
        "11 in range(1,11)"
      ],
      "metadata": {
        "colab": {
          "base_uri": "https://localhost:8080/"
        },
        "id": "I1Ge99ZxJm_j",
        "outputId": "0ead9bcb-3e55-45a0-e1bb-c136241ccbdc"
      },
      "execution_count": null,
      "outputs": [
        {
          "output_type": "execute_result",
          "data": {
            "text/plain": [
              "False"
            ]
          },
          "metadata": {},
          "execution_count": 268
        }
      ]
    },
    {
      "cell_type": "code",
      "source": [
        "'h' in 'hello'"
      ],
      "metadata": {
        "colab": {
          "base_uri": "https://localhost:8080/"
        },
        "id": "QoJ78k4_JsPJ",
        "outputId": "35a88af9-4c24-4f66-c0e2-f7097b45001e"
      },
      "execution_count": null,
      "outputs": [
        {
          "output_type": "execute_result",
          "data": {
            "text/plain": [
              "True"
            ]
          },
          "metadata": {},
          "execution_count": 270
        }
      ]
    },
    {
      "cell_type": "code",
      "source": [
        "'H' in 'hello'"
      ],
      "metadata": {
        "colab": {
          "base_uri": "https://localhost:8080/"
        },
        "id": "UlG47IQxJzuT",
        "outputId": "2bdd3fc1-426d-4c5b-ade4-079e88e993e9"
      },
      "execution_count": null,
      "outputs": [
        {
          "output_type": "execute_result",
          "data": {
            "text/plain": [
              "False"
            ]
          },
          "metadata": {},
          "execution_count": 275
        }
      ]
    },
    {
      "cell_type": "code",
      "source": [
        "3 in (3,6,9)"
      ],
      "metadata": {
        "colab": {
          "base_uri": "https://localhost:8080/"
        },
        "id": "sBw_9350KDWz",
        "outputId": "9039e635-3952-4e8e-aaa8-034d2ede220e"
      },
      "execution_count": null,
      "outputs": [
        {
          "output_type": "execute_result",
          "data": {
            "text/plain": [
              "True"
            ]
          },
          "metadata": {},
          "execution_count": 281
        }
      ]
    },
    {
      "cell_type": "code",
      "source": [
        "5 in (3,6,9)"
      ],
      "metadata": {
        "colab": {
          "base_uri": "https://localhost:8080/"
        },
        "id": "BaHFL5l0KPUK",
        "outputId": "e5820252-a48c-42ed-ec00-7b229e6af4b1"
      },
      "execution_count": null,
      "outputs": [
        {
          "output_type": "execute_result",
          "data": {
            "text/plain": [
              "False"
            ]
          },
          "metadata": {},
          "execution_count": 282
        }
      ]
    },
    {
      "cell_type": "code",
      "source": [
        "for n in  range(1,101):\n",
        "    n_1 = n% 10\n",
        "    n_10 = n // 10\n",
        "    if n_1 in (3,6,9) or n_10 in (3,6,9):\n",
        "        print('*', end='\\t')\n",
        "    else:\n",
        "        print(n, end='\\t')\n",
        "    if n_1 == 0:\n",
        "        print()"
      ],
      "metadata": {
        "colab": {
          "base_uri": "https://localhost:8080/"
        },
        "id": "FZzsf7lrKWbz",
        "outputId": "0f4d820e-d30b-423c-d4fc-0900b968603f"
      },
      "execution_count": null,
      "outputs": [
        {
          "output_type": "stream",
          "name": "stdout",
          "text": [
            "1\t2\t*\t4\t5\t*\t7\t8\t*\t10\t\n",
            "11\t12\t*\t14\t15\t*\t17\t18\t*\t20\t\n",
            "21\t22\t*\t24\t25\t*\t27\t28\t*\t*\t\n",
            "*\t*\t*\t*\t*\t*\t*\t*\t*\t40\t\n",
            "41\t42\t*\t44\t45\t*\t47\t48\t*\t50\t\n",
            "51\t52\t*\t54\t55\t*\t57\t58\t*\t*\t\n",
            "*\t*\t*\t*\t*\t*\t*\t*\t*\t70\t\n",
            "71\t72\t*\t74\t75\t*\t77\t78\t*\t80\t\n",
            "81\t82\t*\t84\t85\t*\t87\t88\t*\t*\t\n",
            "*\t*\t*\t*\t*\t*\t*\t*\t*\t100\t\n"
          ]
        }
      ]
    },
    {
      "cell_type": "code",
      "source": [
        "for n in  range(1,101):\n",
        "    n_str = str(n)\n",
        "    if '3' in n_str or '6' in n_str or '9' in n_str:\n",
        "        print('*', end= '\\t')\n",
        "    else:\n",
        "        print(n, end='\\t')\n",
        "    if n % 10 ==0:\n",
        "        print()"
      ],
      "metadata": {
        "colab": {
          "base_uri": "https://localhost:8080/"
        },
        "id": "RFf8Y66rLRV8",
        "outputId": "9009c1d5-f2c0-4d68-ab45-505491a98488"
      },
      "execution_count": null,
      "outputs": [
        {
          "output_type": "stream",
          "name": "stdout",
          "text": [
            "1\t2\t*\t4\t5\t*\t7\t8\t*\t10\t\n",
            "11\t12\t*\t14\t15\t*\t17\t18\t*\t20\t\n",
            "21\t22\t*\t24\t25\t*\t27\t28\t*\t*\t\n",
            "*\t*\t*\t*\t*\t*\t*\t*\t*\t40\t\n",
            "41\t42\t*\t44\t45\t*\t47\t48\t*\t50\t\n",
            "51\t52\t*\t54\t55\t*\t57\t58\t*\t*\t\n",
            "*\t*\t*\t*\t*\t*\t*\t*\t*\t70\t\n",
            "71\t72\t*\t74\t75\t*\t77\t78\t*\t80\t\n",
            "81\t82\t*\t84\t85\t*\t87\t88\t*\t*\t\n",
            "*\t*\t*\t*\t*\t*\t*\t*\t*\t100\t\n"
          ]
        }
      ]
    }
  ]
}