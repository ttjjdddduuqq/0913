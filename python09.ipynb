{
  "nbformat": 4,
  "nbformat_minor": 0,
  "metadata": {
    "colab": {
      "provenance": [],
      "authorship_tag": "ABX9TyOUfemoLdxGKl9OKUhHELa7",
      "include_colab_link": true
    },
    "kernelspec": {
      "name": "python3",
      "display_name": "Python 3"
    },
    "language_info": {
      "name": "python"
    }
  },
  "cells": [
    {
      "cell_type": "markdown",
      "metadata": {
        "id": "view-in-github",
        "colab_type": "text"
      },
      "source": [
        "<a href=\"https://colab.research.google.com/github/ttjjdddduuqq/0913/blob/main/python09.ipynb\" target=\"_parent\"><img src=\"https://colab.research.google.com/assets/colab-badge.svg\" alt=\"Open In Colab\"/></a>"
      ]
    },
    {
      "cell_type": "markdown",
      "source": [
        "# dict"
      ],
      "metadata": {
        "id": "i6lNzzO-sTiM"
      }
    },
    {
      "cell_type": "markdown",
      "source": [
        "*   사전(dictinonary) 형식의 데이터 타입.                         \n",
        "*   키(key)를 기반으로 값(value)을 저장하는 데이터 타입.\n",
        "    *   list, tuple : 인덱스(index)를 기반으로 값(value)들을 저장하는 데이터 타입.\n",
        "    *   dict 타입에서 키(key)의 역할은 list 나 tuple 에서 인덱스와 비슷하게, dict에 저장된 값 1개를 참조하기 위한 용도.\n",
        "        *  키(key)는 중복된 값을 허용하지 않음."
      ],
      "metadata": {
        "id": "Y9sPy-tksaO7"
      }
    },
    {
      "cell_type": "code",
      "execution_count": null,
      "metadata": {
        "colab": {
          "base_uri": "https://localhost:8080/"
        },
        "id": "EtB7vP3vsD_8",
        "outputId": "a644c649-e902-4f33-8a56-49d0380a8069"
      },
      "outputs": [
        {
          "output_type": "stream",
          "name": "stdout",
          "text": [
            "<class 'dict'>\n",
            "{100: '홍길동', 101: '오쌤', 200: 'Scott'}\n"
          ]
        }
      ],
      "source": [
        "students = {100:'홍길동', 101:'오쌤', 200:'Scott'}  # key : value = 합쳐서 item 아이템들을 구분할땐\n",
        "print(type(students))\n",
        "print(students)"
      ]
    },
    {
      "cell_type": "code",
      "source": [
        "#   dict[key] : dict에서 key에 해당하는 값을 참조.\n",
        "students[200]"
      ],
      "metadata": {
        "colab": {
          "base_uri": "https://localhost:8080/",
          "height": 35
        },
        "id": "KO22POo1u5zV",
        "outputId": "db45bdd8-6354-453f-a94f-72f89a1bdcbd"
      },
      "execution_count": null,
      "outputs": [
        {
          "output_type": "execute_result",
          "data": {
            "text/plain": [
              "'Scott'"
            ],
            "application/vnd.google.colaboratory.intrinsic+json": {
              "type": "string"
            }
          },
          "metadata": {},
          "execution_count": 5
        }
      ]
    },
    {
      "cell_type": "markdown",
      "source": [
        "## dict 함수 (메서드 )"
      ],
      "metadata": {
        "id": "xD2apKQivp-7"
      }
    },
    {
      "cell_type": "code",
      "source": [
        " # dict.keys() : dict 객체가 가지고 있는  key들의 리스트를 반환\n",
        "students.keys()\n"
      ],
      "metadata": {
        "colab": {
          "base_uri": "https://localhost:8080/"
        },
        "id": "Pw99bS36vwHd",
        "outputId": "db66309e-157f-4fa7-8cf0-0d58b3ac2643"
      },
      "execution_count": null,
      "outputs": [
        {
          "output_type": "execute_result",
          "data": {
            "text/plain": [
              "dict_keys([100, 101, 200])"
            ]
          },
          "metadata": {},
          "execution_count": 10
        }
      ]
    },
    {
      "cell_type": "code",
      "source": [
        "# dict.values() : dict  객체의 값(value)들의 리스트를 반환\n",
        "students.values()"
      ],
      "metadata": {
        "colab": {
          "base_uri": "https://localhost:8080/"
        },
        "id": "fw0DdC5pwWQD",
        "outputId": "2680cb74-cc5a-4fee-dcaf-3856fa8978f7"
      },
      "execution_count": null,
      "outputs": [
        {
          "output_type": "execute_result",
          "data": {
            "text/plain": [
              "dict_values(['홍길동', '오쌤', 'Scott'])"
            ]
          },
          "metadata": {},
          "execution_count": 11
        }
      ]
    },
    {
      "cell_type": "code",
      "source": [
        "# dict.items() : (key, value) 튜플들의 리스트를 반환.\n",
        "students.items()"
      ],
      "metadata": {
        "colab": {
          "base_uri": "https://localhost:8080/"
        },
        "id": "2HEZFfqIxA4r",
        "outputId": "6a4b4c51-96fb-4e4d-cfb0-26181db6122d"
      },
      "execution_count": null,
      "outputs": [
        {
          "output_type": "execute_result",
          "data": {
            "text/plain": [
              "dict_items([(100, '홍길동'), (101, '오쌤'), (200, 'Scott')])"
            ]
          },
          "metadata": {},
          "execution_count": 12
        }
      ]
    },
    {
      "cell_type": "code",
      "source": [
        "# dict.get(key) : key 에 해당하는 value를 반환. dict[key] 와 같음\n",
        "students. get(100)"
      ],
      "metadata": {
        "colab": {
          "base_uri": "https://localhost:8080/",
          "height": 35
        },
        "id": "RS7jpNsTxw1j",
        "outputId": "030341b7-2062-40a1-a44a-1895f54ed688"
      },
      "execution_count": null,
      "outputs": [
        {
          "output_type": "execute_result",
          "data": {
            "text/plain": [
              "'홍길동'"
            ],
            "application/vnd.google.colaboratory.intrinsic+json": {
              "type": "string"
            }
          },
          "metadata": {},
          "execution_count": 15
        }
      ]
    },
    {
      "cell_type": "markdown",
      "source": [
        "`dict[key] = value`\n",
        "\n",
        "*   key가 dict에 없을 때는 key:value 아이템을 dict에 추가.\n",
        "*   key가 dict에 있을 때는 key에 해당하는 값을 새로운 값 value로 바꿈."
      ],
      "metadata": {
        "id": "MW_S4gccyucs"
      }
    },
    {
      "cell_type": "code",
      "source": [
        "students[300] = '홍길동'\n",
        "print(students)"
      ],
      "metadata": {
        "colab": {
          "base_uri": "https://localhost:8080/"
        },
        "id": "8rXiYxtAygOO",
        "outputId": "db9a9505-2aa6-4bf6-951e-3ba275e1fdaa"
      },
      "execution_count": null,
      "outputs": [
        {
          "output_type": "stream",
          "name": "stdout",
          "text": [
            "{100: '홍길동', 101: '오쌤', 200: 'Scott', 300: '홍길동'}\n"
          ]
        }
      ]
    },
    {
      "cell_type": "code",
      "source": [
        "students[300] = '김길동'\n",
        "print(students)"
      ],
      "metadata": {
        "colab": {
          "base_uri": "https://localhost:8080/"
        },
        "id": "kdyjDLIEzfZr",
        "outputId": "233ffd93-3aa4-44a3-bf69-f3e48d06968e"
      },
      "execution_count": null,
      "outputs": [
        {
          "output_type": "stream",
          "name": "stdout",
          "text": [
            "{100: '홍길동', 101: '오쌤', 200: 'Scott', 300: '김길동'}\n"
          ]
        }
      ]
    },
    {
      "cell_type": "code",
      "source": [
        "print(students)"
      ],
      "metadata": {
        "colab": {
          "base_uri": "https://localhost:8080/"
        },
        "id": "_HiSO7kRz16r",
        "outputId": "a7177182-e476-415a-c4c8-93e850b55545"
      },
      "execution_count": null,
      "outputs": [
        {
          "output_type": "stream",
          "name": "stdout",
          "text": [
            "{101: '오쌤', 300: '김길동'}\n"
          ]
        }
      ]
    },
    {
      "cell_type": "markdown",
      "source": [
        "# dict 와  for 반복문"
      ],
      "metadata": {
        "id": "fWlRDOJxGonE"
      }
    },
    {
      "cell_type": "code",
      "source": [
        "# for -in 반복문에서 dict 객체를 사용하면  key emfdmf  iteration(반복)함\n",
        "for k in students:\n",
        "    print(k)"
      ],
      "metadata": {
        "colab": {
          "base_uri": "https://localhost:8080/"
        },
        "id": "BYQGfpntGuEt",
        "outputId": "89ede5db-0061-4e33-ed9b-bdb3328fe082"
      },
      "execution_count": null,
      "outputs": [
        {
          "output_type": "stream",
          "name": "stdout",
          "text": [
            "100\n",
            "101\n",
            "200\n",
            "300\n"
          ]
        }
      ]
    },
    {
      "cell_type": "code",
      "source": [
        "for k in students:\n",
        "    print(k, ':', students.get(k))     # students.get(k)    =    students()"
      ],
      "metadata": {
        "colab": {
          "base_uri": "https://localhost:8080/"
        },
        "id": "Vts887NyHOFG",
        "outputId": "e02a27d2-d22b-40d6-9453-7e05b68afaa3"
      },
      "execution_count": null,
      "outputs": [
        {
          "output_type": "stream",
          "name": "stdout",
          "text": [
            "100 : 홍길동\n",
            "101 : 오쌤\n",
            "200 : Scott\n",
            "300 : 김길동\n"
          ]
        }
      ]
    },
    {
      "cell_type": "code",
      "source": [
        "for k , v in students.items():\n",
        "    print(k, '-', v)"
      ],
      "metadata": {
        "colab": {
          "base_uri": "https://localhost:8080/"
        },
        "id": "MtLqqpHcHu9t",
        "outputId": "4cef5f6f-9925-471b-ecaa-59ea474c9d05"
      },
      "execution_count": null,
      "outputs": [
        {
          "output_type": "stream",
          "name": "stdout",
          "text": [
            "100 - 홍길동\n",
            "101 - 오쌤\n",
            "200 - Scott\n",
            "300 - 김길동\n"
          ]
        }
      ]
    },
    {
      "cell_type": "code",
      "source": [
        "book = {'title' : '파이썬 200제', 'author': '장삼용', 'publisher' : '정보문화사',}\n",
        "print(book)"
      ],
      "metadata": {
        "colab": {
          "base_uri": "https://localhost:8080/"
        },
        "id": "B-TiERKKIh51",
        "outputId": "277a4d4d-8c97-4c84-b2fa-231e57f008b7"
      },
      "execution_count": null,
      "outputs": [
        {
          "output_type": "stream",
          "name": "stdout",
          "text": [
            "{'title': '파이썬 200제', 'author': '장삼용', 'publisher': '정보문화사'}\n"
          ]
        }
      ]
    },
    {
      "cell_type": "code",
      "source": [
        "for k, v in book.items():\n",
        "    print(k, ':', v)"
      ],
      "metadata": {
        "colab": {
          "base_uri": "https://localhost:8080/"
        },
        "id": "tnpHAMaDJUXG",
        "outputId": "a8933e31-9cc6-4362-c339-2271a815e7f4"
      },
      "execution_count": null,
      "outputs": [
        {
          "output_type": "stream",
          "name": "stdout",
          "text": [
            "title : 파이썬 200제\n",
            "author : 장삼용\n",
            "publisher : 정보문화사\n"
          ]
        }
      ]
    },
    {
      "cell_type": "markdown",
      "source": [
        "# 다양한 자료를 저장하는 dict"
      ],
      "metadata": {
        "id": "7RT_lyJrJmbV"
      }
    },
    {
      "cell_type": "markdown",
      "source": [],
      "metadata": {
        "id": "wbr8EcKQJptc"
      }
    },
    {
      "cell_type": "code",
      "source": [
        "contact = {'name' : '홍길동',\n",
        "            'phone' : ['010-1234-5678', '02-2222-2222'],\n",
        "            'email' : {'personal' : 'aaa@naver.com', 'company' : 'aaa@naver.com'},\n",
        "            'no' : 1}"
      ],
      "metadata": {
        "id": "3g33prkDJlBM"
      },
      "execution_count": null,
      "outputs": []
    },
    {
      "cell_type": "code",
      "source": [
        "for k,v in contact.items():\n",
        "    print(k,':', v)"
      ],
      "metadata": {
        "colab": {
          "base_uri": "https://localhost:8080/"
        },
        "id": "szL5i1uMLGnu",
        "outputId": "2ade6dd4-3f82-443b-a732-ca8c03e5e009"
      },
      "execution_count": null,
      "outputs": [
        {
          "output_type": "stream",
          "name": "stdout",
          "text": [
            "name : 홍길동\n",
            "phone : ['010-1234-5678', '02-2222-2222']\n",
            "email : {'personal': 'aaa@naver.com', 'company': 'aaa@naver.com'}\n",
            "no : 1\n"
          ]
        }
      ]
    },
    {
      "cell_type": "code",
      "source": [
        "# contact.get('phone')\n",
        "contact['phone']"
      ],
      "metadata": {
        "colab": {
          "base_uri": "https://localhost:8080/"
        },
        "id": "FzEAG4UULc11",
        "outputId": "fc2a28df-313a-4b74-9bdf-a10b56ee49bd"
      },
      "execution_count": null,
      "outputs": [
        {
          "output_type": "execute_result",
          "data": {
            "text/plain": [
              "['010-1234-5678', '02-2222-2222']"
            ]
          },
          "metadata": {},
          "execution_count": 62
        }
      ]
    },
    {
      "cell_type": "code",
      "source": [
        "# contact.get('phone')[0]\n",
        "contact['phone'][0]"
      ],
      "metadata": {
        "colab": {
          "base_uri": "https://localhost:8080/",
          "height": 35
        },
        "id": "xPsjYQohLsZs",
        "outputId": "18a1fead-f0dc-44f3-97a1-3f8366b82fba"
      },
      "execution_count": null,
      "outputs": [
        {
          "output_type": "execute_result",
          "data": {
            "text/plain": [
              "'010-1234-5678'"
            ],
            "application/vnd.google.colaboratory.intrinsic+json": {
              "type": "string"
            }
          },
          "metadata": {},
          "execution_count": 66
        }
      ]
    },
    {
      "cell_type": "code",
      "source": [
        "contact['email']['company']"
      ],
      "metadata": {
        "colab": {
          "base_uri": "https://localhost:8080/",
          "height": 35
        },
        "id": "QWghr7frMYTm",
        "outputId": "19c52e57-3490-41da-8e2c-898fc8c1bd18"
      },
      "execution_count": null,
      "outputs": [
        {
          "output_type": "execute_result",
          "data": {
            "text/plain": [
              "'aaa@naver.com'"
            ],
            "application/vnd.google.colaboratory.intrinsic+json": {
              "type": "string"
            }
          },
          "metadata": {},
          "execution_count": 71
        }
      ]
    },
    {
      "cell_type": "markdown",
      "source": [
        "# dictionary comprehension"
      ],
      "metadata": {
        "id": "2maNstfcNCiV"
      }
    },
    {
      "cell_type": "code",
      "source": [
        "emp_no = [1001, 1002, 1002, 1004]\n",
        "emp_name = ['scott', 'allen', 'king', '오쌤']\n",
        "\n",
        "emp = {}  #empty dict\n",
        "for k, v in zip(emp_no, emp_name):    #  ㄱ   = emp2 = {k: v for k, v in zip(emp_no, emp_name)}\n",
        "    emp[k] = v                        #  _J\n",
        "print(emp)"
      ],
      "metadata": {
        "colab": {
          "base_uri": "https://localhost:8080/"
        },
        "id": "kX0xQ3llNX0U",
        "outputId": "8787e0dd-ec0f-4572-af8e-b739a6ffae73"
      },
      "execution_count": null,
      "outputs": [
        {
          "output_type": "stream",
          "name": "stdout",
          "text": [
            "{1001: 'scott', 1002: 'king', 1004: '오쌤'}\n"
          ]
        }
      ]
    },
    {
      "cell_type": "code",
      "source": [
        "emp2 = {k: v for k, v in zip(emp_no, emp_name)}\n",
        "print(emp2)"
      ],
      "metadata": {
        "colab": {
          "base_uri": "https://localhost:8080/"
        },
        "id": "J3cQS4NLPs52",
        "outputId": "cb6ddb12-3b9f-4058-a7b7-02ed1ccc07e0"
      },
      "execution_count": null,
      "outputs": [
        {
          "output_type": "stream",
          "name": "stdout",
          "text": [
            "{1001: 'scott', 1002: 'king', 1004: '오쌤'}\n"
          ]
        }
      ]
    },
    {
      "cell_type": "code",
      "source": [
        "fruits = ['apple', 'banana', 'cherry', 'pineapple', 'watermelon', '딸기']\n",
        "\n",
        "# 리스트 fruits에 있는 과일이름을 key로 하고, 그 문자열의 길이를 value로 하는 dict를 만들고 출력\n",
        "fruit_length = {}\n",
        "for k in fruits:\n",
        "    fruit_length[k] = len(k)\n",
        "print(fruit_length)\n"
      ],
      "metadata": {
        "colab": {
          "base_uri": "https://localhost:8080/"
        },
        "id": "TdPMhm5eUR71",
        "outputId": "89c1d07f-b08e-4962-9dad-00ca160cf03c"
      },
      "execution_count": null,
      "outputs": [
        {
          "output_type": "stream",
          "name": "stdout",
          "text": [
            "{'apple': 5, 'banana': 6, 'cherry': 6, 'pineapple': 9, 'watermelon': 10, '딸기': 2}\n"
          ]
        }
      ]
    },
    {
      "cell_type": "code",
      "source": [
        "fruit_length2 = {k: len(k) for k in fruits}\n",
        "print(fruit_length2)"
      ],
      "metadata": {
        "colab": {
          "base_uri": "https://localhost:8080/"
        },
        "id": "b1HzVRTzW6U-",
        "outputId": "2950985f-2a45-4e7c-d283-d4a8980c72ee"
      },
      "execution_count": null,
      "outputs": [
        {
          "output_type": "stream",
          "name": "stdout",
          "text": [
            "{'apple': 5, 'banana': 6, 'cherry': 6, 'pineapple': 9, 'watermelon': 10, '딸기': 2}\n"
          ]
        }
      ]
    }
  ]
}