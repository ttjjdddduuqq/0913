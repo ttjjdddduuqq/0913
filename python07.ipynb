{
  "nbformat": 4,
  "nbformat_minor": 0,
  "metadata": {
    "colab": {
      "provenance": [],
      "authorship_tag": "ABX9TyPQg9SBgRy4AvrG0WrG/R15",
      "include_colab_link": true
    },
    "kernelspec": {
      "name": "python3",
      "display_name": "Python 3"
    },
    "language_info": {
      "name": "python"
    }
  },
  "cells": [
    {
      "cell_type": "markdown",
      "metadata": {
        "id": "view-in-github",
        "colab_type": "text"
      },
      "source": [
        "<a href=\"https://colab.research.google.com/github/ttjjdddduuqq/0913/blob/main/python07.ipynb\" target=\"_parent\"><img src=\"https://colab.research.google.com/assets/colab-badge.svg\" alt=\"Open In Colab\"/></a>"
      ]
    },
    {
      "cell_type": "markdown",
      "source": [
        "# tuple(튜플)"
      ],
      "metadata": {
        "id": "T5WiXuPuYvas"
      }
    },
    {
      "cell_type": "markdown",
      "source": [
        "*   tuple : 저장된 아이템들을 변경할 수 없는 리스트.    # 추가 삭제 못함\n",
        "*   인덱스 기반의 데이터 타입\n",
        "    *   indexing : 해당 인덱스 위치의 아이템 값을 읽음.\n",
        "    *   slicing : 해당 인덱스 범위의 아이템들로 이루어진 튜플을 만듦.\n",
        "*   append(), pop(),  ... 등과 같은 아이템을 추가하거나 삭제하는 함수(메서드)를 제공하지 않음."
      ],
      "metadata": {
        "id": "HfIxqlqhY9CD"
      }
    },
    {
      "cell_type": "code",
      "execution_count": null,
      "metadata": {
        "colab": {
          "base_uri": "https://localhost:8080/"
        },
        "id": "fzkPn4cGYoXY",
        "outputId": "376990f3-72fe-4962-a6cc-5c03847aab6b"
      },
      "outputs": [
        {
          "output_type": "stream",
          "name": "stdout",
          "text": [
            "<class 'tuple'>\n",
            "(1, 2, 10, 20, 1, 2, 2)\n"
          ]
        }
      ],
      "source": [
        "numbers = (1, 2, 10, 20,1, 2, 2)\n",
        "print(type(numbers))\n",
        "print(numbers)"
      ]
    },
    {
      "cell_type": "code",
      "source": [
        "# tuple.count(value) : tuple에서 value가 몇 개 있는 지를 리턴(반환)\n",
        "numbers.count(2)  #몇 번 등장하는지"
      ],
      "metadata": {
        "colab": {
          "base_uri": "https://localhost:8080/"
        },
        "id": "x8iv-306azxc",
        "outputId": "a89f96be-b677-4c4e-a8e7-9aa3718a4ce4"
      },
      "execution_count": null,
      "outputs": [
        {
          "output_type": "execute_result",
          "data": {
            "text/plain": [
              "3"
            ]
          },
          "metadata": {},
          "execution_count": 3
        }
      ]
    },
    {
      "cell_type": "code",
      "source": [
        "# tuple.index(value) : tuple에서 value의 인덱스를 리턴(반환) 같은 값이 여러개 있으면 가장 먼저 나오는 인덱스\n",
        "numbers.index(1)"
      ],
      "metadata": {
        "colab": {
          "base_uri": "https://localhost:8080/"
        },
        "id": "ZMcg9j_BbmgM",
        "outputId": "dcac6d66-667d-41b9-990c-fcced3695f0a"
      },
      "execution_count": null,
      "outputs": [
        {
          "output_type": "execute_result",
          "data": {
            "text/plain": [
              "0"
            ]
          },
          "metadata": {},
          "execution_count": 8
        }
      ]
    },
    {
      "cell_type": "markdown",
      "source": [
        "## indexing"
      ],
      "metadata": {
        "id": "IweXu-sQcQwz"
      }
    },
    {
      "cell_type": "code",
      "source": [
        "numbers"
      ],
      "metadata": {
        "colab": {
          "base_uri": "https://localhost:8080/"
        },
        "id": "QMh_Tkw_cQBs",
        "outputId": "492b6067-67e0-49d2-8867-9879609143d4"
      },
      "execution_count": null,
      "outputs": [
        {
          "output_type": "execute_result",
          "data": {
            "text/plain": [
              "(1, 2, 10, 20, 1, 2, 2)"
            ]
          },
          "metadata": {},
          "execution_count": 10
        }
      ]
    },
    {
      "cell_type": "code",
      "source": [
        "numbers[0] # 튜플 numbers의 첫번째 아이템"
      ],
      "metadata": {
        "colab": {
          "base_uri": "https://localhost:8080/"
        },
        "id": "3y4ERxYXcY_9",
        "outputId": "95a69f6c-3ca8-4303-a493-30e2464c9bc2"
      },
      "execution_count": null,
      "outputs": [
        {
          "output_type": "execute_result",
          "data": {
            "text/plain": [
              "1"
            ]
          },
          "metadata": {},
          "execution_count": 12
        }
      ]
    },
    {
      "cell_type": "code",
      "source": [
        "numbers[-1]  #  튜플 numbers의 마지막 아이템"
      ],
      "metadata": {
        "colab": {
          "base_uri": "https://localhost:8080/"
        },
        "id": "2z4lu17Jc3M1",
        "outputId": "8ac30240-ff5e-4d11-e65c-d390ed6e67f8"
      },
      "execution_count": null,
      "outputs": [
        {
          "output_type": "execute_result",
          "data": {
            "text/plain": [
              "2"
            ]
          },
          "metadata": {},
          "execution_count": 14
        }
      ]
    },
    {
      "cell_type": "markdown",
      "source": [
        "## slicing"
      ],
      "metadata": {
        "id": "3iWRbLXidElM"
      }
    },
    {
      "cell_type": "code",
      "source": [
        "#튜플 number s에서첫 3개 원소를 잘라냄.\n",
        "numbers[:3]"
      ],
      "metadata": {
        "colab": {
          "base_uri": "https://localhost:8080/"
        },
        "id": "riO9kKdudDg0",
        "outputId": "096e9888-eac9-4104-811f-0a0fb95c4ee0"
      },
      "execution_count": null,
      "outputs": [
        {
          "output_type": "execute_result",
          "data": {
            "text/plain": [
              "(1, 2, 10)"
            ]
          },
          "metadata": {},
          "execution_count": 17
        }
      ]
    },
    {
      "cell_type": "code",
      "source": [
        "# 마지막 3개 원소 잘라냄\n",
        "numbers[-3:]"
      ],
      "metadata": {
        "colab": {
          "base_uri": "https://localhost:8080/"
        },
        "id": "GZbJIlYJddEM",
        "outputId": "964c8719-77f7-46c8-a318-9d35c40b8d97"
      },
      "execution_count": null,
      "outputs": [
        {
          "output_type": "execute_result",
          "data": {
            "text/plain": [
              "(1, 2, 2)"
            ]
          },
          "metadata": {},
          "execution_count": 20
        }
      ]
    },
    {
      "cell_type": "markdown",
      "source": [
        "## dicoposition (분해)"
      ],
      "metadata": {
        "id": "HdIfWabqeDlM"
      }
    },
    {
      "cell_type": "code",
      "source": [
        "integers = (1, 2, 3)\n",
        "# x = integers(0)\n",
        "# y = integers(1)\n",
        "# z = integeres(2)\n",
        "\n",
        "x, y, z = integers\n",
        "print(x + y + z)"
      ],
      "metadata": {
        "colab": {
          "base_uri": "https://localhost:8080/"
        },
        "id": "He36hTCUeSfN",
        "outputId": "50788352-2d56-4e7e-939d-45676e612512"
      },
      "execution_count": null,
      "outputs": [
        {
          "output_type": "stream",
          "name": "stdout",
          "text": [
            "11\n"
          ]
        }
      ]
    },
    {
      "cell_type": "code",
      "source": [],
      "metadata": {
        "id": "uyEnhkzxAvUN",
        "outputId": "3f438e93-eed2-4348-a882-c5cff39f329b",
        "colab": {
          "base_uri": "https://localhost:8080/"
        }
      },
      "execution_count": null,
      "outputs": [
        {
          "output_type": "execute_result",
          "data": {
            "text/plain": [
              "(1, 2, 3)"
            ]
          },
          "metadata": {},
          "execution_count": 48
        }
      ]
    },
    {
      "cell_type": "code",
      "source": [
        "names = ['홍길동', '오쌤']\n",
        "preson1 = names[0]\n",
        "person2 = names[1]\n",
        "\n",
        "person1, person2 = names\n",
        "print(names)"
      ],
      "metadata": {
        "colab": {
          "base_uri": "https://localhost:8080/"
        },
        "id": "CgHkiK5ufDDM",
        "outputId": "30c858b9-5248-4e1e-a589-78af3623ec0a"
      },
      "execution_count": null,
      "outputs": [
        {
          "output_type": "stream",
          "name": "stdout",
          "text": [
            "['홍길동', '오쌤']\n"
          ]
        }
      ]
    },
    {
      "cell_type": "markdown",
      "source": [
        "## tuple 과 for 반복문"
      ],
      "metadata": {
        "id": "JWOtinlOfrFE"
      }
    },
    {
      "cell_type": "code",
      "source": [
        "for x in (1, 10, 2, -20, -100):\n",
        "    print(x)"
      ],
      "metadata": {
        "colab": {
          "base_uri": "https://localhost:8080/"
        },
        "id": "oCHP2cGJfucm",
        "outputId": "3353f0b6-e8c8-4ce5-98e8-593c561ef254"
      },
      "execution_count": null,
      "outputs": [
        {
          "output_type": "stream",
          "name": "stdout",
          "text": [
            "1\n",
            "10\n",
            "2\n",
            "-20\n",
            "-100\n"
          ]
        }
      ]
    },
    {
      "cell_type": "code",
      "source": [
        "matrix=(\n",
        "    (1, 2, 3),\n",
        "    (4, 5, 6)\n",
        ")\n",
        "print(matrix)"
      ],
      "metadata": {
        "colab": {
          "base_uri": "https://localhost:8080/"
        },
        "id": "I2Ctlg8vgVwj",
        "outputId": "8d71970d-22b1-4c5f-a30f-81d22f4e0863"
      },
      "execution_count": null,
      "outputs": [
        {
          "output_type": "stream",
          "name": "stdout",
          "text": [
            "((1, 2, 3), (4, 5, 6))\n"
          ]
        }
      ]
    },
    {
      "cell_type": "code",
      "source": [
        "matrix[0]"
      ],
      "metadata": {
        "colab": {
          "base_uri": "https://localhost:8080/"
        },
        "id": "8Je_mNrUgZxV",
        "outputId": "46c30316-79e4-4f36-f834-771a473440af"
      },
      "execution_count": null,
      "outputs": [
        {
          "output_type": "execute_result",
          "data": {
            "text/plain": [
              "(1, 2, 3)"
            ]
          },
          "metadata": {},
          "execution_count": 37
        }
      ]
    },
    {
      "cell_type": "code",
      "source": [
        "matrix[0][0]"
      ],
      "metadata": {
        "colab": {
          "base_uri": "https://localhost:8080/"
        },
        "id": "bHNwyp3ggziV",
        "outputId": "3968bf44-4413-4e4d-c111-7ea20f883d2b"
      },
      "execution_count": null,
      "outputs": [
        {
          "output_type": "execute_result",
          "data": {
            "text/plain": [
              "1"
            ]
          },
          "metadata": {},
          "execution_count": 39
        }
      ]
    },
    {
      "cell_type": "code",
      "source": [
        "for row in matrix:\n",
        "    for x in row:\n",
        "        print(x, end= '\\t')\n",
        "    print()"
      ],
      "metadata": {
        "colab": {
          "base_uri": "https://localhost:8080/"
        },
        "id": "GjoUJq_lg7Q0",
        "outputId": "3f448fce-f83e-4fed-da81-6491fb3dee1e"
      },
      "execution_count": null,
      "outputs": [
        {
          "output_type": "stream",
          "name": "stdout",
          "text": [
            "1\t2\t3\t\n",
            "4\t5\t6\t\n"
          ]
        }
      ]
    },
    {
      "cell_type": "markdown",
      "source": [
        "변할 수 있는걸 저장할땐 list\n",
        "변할 수 없는걸 저장할땐 tuple 사용"
      ],
      "metadata": {
        "id": "ybBfyHgoh8UM"
      }
    },
    {
      "cell_type": "markdown",
      "source": [],
      "metadata": {
        "id": "CR4scz0dmTuV"
      }
    }
  ]
}