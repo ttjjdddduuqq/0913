{
  "nbformat": 4,
  "nbformat_minor": 0,
  "metadata": {
    "colab": {
      "provenance": [],
      "authorship_tag": "ABX9TyN5NC4Ae+wVQrQxFmPPRRAm",
      "include_colab_link": true
    },
    "kernelspec": {
      "name": "python3",
      "display_name": "Python 3"
    },
    "language_info": {
      "name": "python"
    }
  },
  "cells": [
    {
      "cell_type": "markdown",
      "metadata": {
        "id": "view-in-github",
        "colab_type": "text"
      },
      "source": [
        "<a href=\"https://colab.research.google.com/github/ttjjdddduuqq/0913/blob/main/pythonn12.ipynb\" target=\"_parent\"><img src=\"https://colab.research.google.com/assets/colab-badge.svg\" alt=\"Open In Colab\"/></a>"
      ]
    },
    {
      "cell_type": "markdown",
      "source": [
        "# 1급 객체(first-class object)로서의 함수"
      ],
      "metadata": {
        "id": "PeU6Tg6n39or"
      }
    },
    {
      "cell_type": "markdown",
      "source": [
        "**함수(function)는 객체(object)**\n",
        "\n",
        "*   객체 : 숫자(int, float), 문자열(str), 논리값(True/False), list, dict, tuple, ...\n",
        "*   함수는 변수에 할당할 수 있음.\n",
        "*   함수의 아규먼트로 함수를 전달할 수 있음.\n",
        "*   함수의 반환값으로 함수를 사용할 수 있음.\n",
        "*   함수 내부에서 또다른 함수를 선언할 수 있음."
      ],
      "metadata": {
        "id": "Nm8lxZaV4RFS"
      }
    },
    {
      "cell_type": "code",
      "execution_count": null,
      "metadata": {
        "colab": {
          "base_uri": "https://localhost:8080/"
        },
        "id": "J7JNBpEJ3z0e",
        "outputId": "24d93173-4e09-4d75-cc96-03a5308b57cf"
      },
      "outputs": [
        {
          "output_type": "stream",
          "name": "stdout",
          "text": [
            "1\n"
          ]
        }
      ],
      "source": [
        "x = 1 # 정수 1을 변수 x에 할당(저장)\n",
        "print(x)  # 정수를 함수의 아규먼트로 전달."
      ]
    },
    {
      "cell_type": "code",
      "source": [
        "result = len('안녕!')  # len()함수는 정수를 리턴.\n",
        "print(result)"
      ],
      "metadata": {
        "colab": {
          "base_uri": "https://localhost:8080/"
        },
        "id": "5v6ze4xd53NE",
        "outputId": "21c6e151-f48a-41e7-a8ca-08e9dbb56cb5"
      },
      "execution_count": null,
      "outputs": [
        {
          "output_type": "stream",
          "name": "stdout",
          "text": [
            "3\n"
          ]
        }
      ]
    },
    {
      "cell_type": "code",
      "source": [
        "def double(x):\n",
        "    return 2 * x"
      ],
      "metadata": {
        "id": "YNctNPXq6Gcj"
      },
      "execution_count": null,
      "outputs": []
    },
    {
      "cell_type": "code",
      "source": [
        "result = double(5)   # 함수 double을 호출하고, 그 반환값을 변수 result에 저장.\n",
        "print(result)"
      ],
      "metadata": {
        "colab": {
          "base_uri": "https://localhost:8080/"
        },
        "id": "ZbgdugOW6SIr",
        "outputId": "4e979d44-b3be-4b80-98aa-6cdecd4826c9"
      },
      "execution_count": null,
      "outputs": [
        {
          "output_type": "stream",
          "name": "stdout",
          "text": [
            "10\n"
          ]
        }
      ]
    },
    {
      "cell_type": "code",
      "source": [
        "print(double(3))  # 함수 double을 호출하고 그 결과를 출력"
      ],
      "metadata": {
        "colab": {
          "base_uri": "https://localhost:8080/"
        },
        "id": "Pd3LCW9s6dEr",
        "outputId": "76e37d3c-ecbc-4431-a6e4-742d72981af4"
      },
      "execution_count": null,
      "outputs": [
        {
          "output_type": "stream",
          "name": "stdout",
          "text": [
            "6\n"
          ]
        }
      ]
    },
    {
      "cell_type": "code",
      "source": [
        "print(double)  # 함수를 호출할 땐 반드시 괄호 ( )가 있어야 함\n",
        "# double 이름의 함수 객체를 문자열로 표현해서 출력, 함수를 호출한 게 아님.\n"
      ],
      "metadata": {
        "colab": {
          "base_uri": "https://localhost:8080/"
        },
        "id": "WinBeC0e61Wr",
        "outputId": "fc82e117-4fce-4a7d-af8d-d222ad272a34"
      },
      "execution_count": null,
      "outputs": [
        {
          "output_type": "stream",
          "name": "stdout",
          "text": [
            "<function double at 0x78df4e83bc40>\n"
          ]
        }
      ]
    },
    {
      "cell_type": "markdown",
      "source": [
        "## 함수를 변수에 할당"
      ],
      "metadata": {
        "id": "V3vl_FZ47fC7"
      }
    },
    {
      "cell_type": "code",
      "source": [
        "twice = double\n",
        "# 함수 호출이 아니고 함수 객체 double 을 변수 twice에 저장\n",
        "print(twice)"
      ],
      "metadata": {
        "colab": {
          "base_uri": "https://localhost:8080/"
        },
        "id": "lJCAP8V07iz9",
        "outputId": "6afa8543-ab58-48f8-ceac-f7924a6e5321"
      },
      "execution_count": null,
      "outputs": [
        {
          "output_type": "stream",
          "name": "stdout",
          "text": [
            "<function double at 0x78df4e83bc40>\n"
          ]
        }
      ]
    },
    {
      "cell_type": "code",
      "source": [
        "print(twice(10)) # twice() 함수 호출은 double() 함수 호출과 동일"
      ],
      "metadata": {
        "colab": {
          "base_uri": "https://localhost:8080/"
        },
        "id": "uP28zc777_rs",
        "outputId": "231bb206-2233-4b2f-e378-287b24b82cf2"
      },
      "execution_count": null,
      "outputs": [
        {
          "output_type": "stream",
          "name": "stdout",
          "text": [
            "20\n"
          ]
        }
      ]
    },
    {
      "cell_type": "markdown",
      "source": [
        "## 아규먼트로 함수를 전달받는 함수"
      ],
      "metadata": {
        "id": "5w_ZmKUv9ZrT"
      }
    },
    {
      "cell_type": "code",
      "source": [
        "def calculator(x, y, fn):\n",
        "    result = fn(x, y)\n",
        "\n",
        "    return result"
      ],
      "metadata": {
        "id": "zZUNNjrw81X8"
      },
      "execution_count": null,
      "outputs": []
    },
    {
      "cell_type": "code",
      "source": [
        "def plus(x, y):\n",
        "    return x + y"
      ],
      "metadata": {
        "id": "ACNv3luw9xK7"
      },
      "execution_count": null,
      "outputs": []
    },
    {
      "cell_type": "code",
      "source": [
        "result = calculator(1, 2, plus)\n",
        "print(result)"
      ],
      "metadata": {
        "colab": {
          "base_uri": "https://localhost:8080/"
        },
        "id": "q_WWc6z7-dLk",
        "outputId": "7377b7e9-88f8-4579-fcd3-d097d3aa8b38"
      },
      "execution_count": null,
      "outputs": [
        {
          "output_type": "stream",
          "name": "stdout",
          "text": [
            "3\n"
          ]
        }
      ]
    },
    {
      "cell_type": "code",
      "source": [
        "def minus(x, y):\n",
        "    return x-y\n",
        "\n",
        "result = calculator(1, 2,minus)\n",
        "print(result)"
      ],
      "metadata": {
        "colab": {
          "base_uri": "https://localhost:8080/"
        },
        "id": "e3psggcy_nHT",
        "outputId": "5bfee863-7aef-4675-a6df-ec4a158b8f70"
      },
      "execution_count": null,
      "outputs": [
        {
          "output_type": "stream",
          "name": "stdout",
          "text": [
            "-1\n"
          ]
        }
      ]
    },
    {
      "cell_type": "code",
      "source": [
        "def is_greater(x, y):\n",
        "    return x > y\n",
        "\n",
        "result = calculator(1, 2, is_greater)\n",
        "print(result)"
      ],
      "metadata": {
        "colab": {
          "base_uri": "https://localhost:8080/"
        },
        "id": "i3nr2ZdsAddL",
        "outputId": "0db3bdfc-32ab-40d7-8219-6f96eb03bce4"
      },
      "execution_count": null,
      "outputs": [
        {
          "output_type": "stream",
          "name": "stdout",
          "text": [
            "False\n"
          ]
        }
      ]
    },
    {
      "cell_type": "markdown",
      "source": [
        "## 내부 함수, 함수를 리턴하는 함수"
      ],
      "metadata": {
        "id": "oOEmsLFnBUF7"
      }
    },
    {
      "cell_type": "markdown",
      "source": [
        "내부 함수(inner function), 지역 함수(local function):\n",
        "\n",
        "*   함수 내부에서 선언된 함수.\n",
        "*   선언된 함수 내부에서만 호출할 수 있음\n",
        "*   선언된 함수 외부에서는 호출할 수 없음.\n",
        "*   외부 함수의 지역 변수들 (파라미터 포함)을 사용할 수 있음"
      ],
      "metadata": {
        "id": "bAN6XpUsCkbz"
      }
    },
    {
      "cell_type": "code",
      "source": [
        "def make_incrementor(n):\n",
        "    # 내부 함수(지역 함수) :\n",
        "    def add_n(x):\n",
        "        return x + n\n",
        "\n",
        "    # 함수 객체를 리턴\n",
        "    return add_n"
      ],
      "metadata": {
        "id": "zp6jxi80BTIE"
      },
      "execution_count": null,
      "outputs": []
    },
    {
      "cell_type": "code",
      "source": [
        "plus_2 = make_incrementor(2)\n",
        "print(plus_2)\n",
        "result = plus_2(10)\n",
        "print(result)"
      ],
      "metadata": {
        "colab": {
          "base_uri": "https://localhost:8080/"
        },
        "id": "_EiMtVPsB7Hc",
        "outputId": "3c6cd4ab-6bdf-4420-bc27-a8754d64b3a6"
      },
      "execution_count": null,
      "outputs": [
        {
          "output_type": "stream",
          "name": "stdout",
          "text": [
            "<function make_incrementor.<locals>.add_n at 0x78df4e849c60>\n",
            "12\n"
          ]
        }
      ]
    },
    {
      "cell_type": "code",
      "source": [
        "plus_10 = make_incrementor(10)\n",
        "result = plus_10(100)\n",
        "print(result)"
      ],
      "metadata": {
        "colab": {
          "base_uri": "https://localhost:8080/"
        },
        "id": "9dgt9cEjEbOc",
        "outputId": "eb18b40e-e910-412a-cbac-78b794134641"
      },
      "execution_count": null,
      "outputs": [
        {
          "output_type": "stream",
          "name": "stdout",
          "text": [
            "110\n"
          ]
        }
      ]
    },
    {
      "cell_type": "code",
      "source": [
        "result = make_incrementor(100)(123)\n",
        "print(result)"
      ],
      "metadata": {
        "colab": {
          "base_uri": "https://localhost:8080/"
        },
        "id": "sw11-P3AFXB9",
        "outputId": "8ff9051b-5742-412b-a579-a152f36d7d72"
      },
      "execution_count": null,
      "outputs": [
        {
          "output_type": "stream",
          "name": "stdout",
          "text": [
            "223\n"
          ]
        }
      ]
    },
    {
      "cell_type": "markdown",
      "source": [
        "#람다 표현식(Lambda Expression)\n",
        "*  (함수를 표현하는 방식)"
      ],
      "metadata": {
        "id": "YelrmtHJ4rIH"
      }
    },
    {
      "cell_type": "markdown",
      "source": [
        "* 문법\n",
        "~~~\n",
        "Lambda param1, param2, ...: expression(식)\n",
        "~~~\n",
        "\n",
        "*   이름이 없는 함수\n",
        "*   함수 이름 선언 없이, 함수 파라미터 선언과 반환값 또는 반환 식으로 함수를 정의(선언)하는 것.\n",
        "*   람다 표현식은 변수에 할당할 수 있음. ** 함수의 아규먼트로 전당할 수 있음 **"
      ],
      "metadata": {
        "id": "BBVvAyyK4rG5"
      }
    },
    {
      "cell_type": "code",
      "source": [
        "#  함수 선언\n",
        "def plus_one(x):\n",
        "    return x + 1\n",
        "\n",
        "# 람다 표현식\n",
        "plus_one = lambda x : x + 1\n",
        "print(plus_one)\n",
        "print(plus_one(1))"
      ],
      "metadata": {
        "colab": {
          "base_uri": "https://localhost:8080/"
        },
        "id": "ueo3zRXh5yya",
        "outputId": "2ebc57f5-84c0-49db-ed9c-b37eef944bf4"
      },
      "execution_count": null,
      "outputs": [
        {
          "output_type": "stream",
          "name": "stdout",
          "text": [
            "<function <lambda> at 0x78df1b703ba0>\n",
            "2\n"
          ]
        }
      ]
    },
    {
      "cell_type": "code",
      "source": [
        "# def add(x, y):\n",
        "    # return x + y\n",
        "\n",
        "add = lambda x,y : x + y\n",
        "print(add(100,200))"
      ],
      "metadata": {
        "colab": {
          "base_uri": "https://localhost:8080/"
        },
        "id": "yzDEXnQF7vi5",
        "outputId": "28ca9025-310a-42b2-b89b-2ea90f6afc50"
      },
      "execution_count": null,
      "outputs": [
        {
          "output_type": "stream",
          "name": "stdout",
          "text": [
            "300\n"
          ]
        }
      ]
    },
    {
      "cell_type": "markdown",
      "source": [
        "함수 'calculate( )의 아규먼트로 람다 표현식을 전달"
      ],
      "metadata": {
        "id": "-zFz3BTT8h5J"
      }
    },
    {
      "cell_type": "code",
      "source": [
        "result = calculator(1, 2, lambda x,y : x + y)\n",
        "print(result)"
      ],
      "metadata": {
        "colab": {
          "base_uri": "https://localhost:8080/"
        },
        "id": "XCrMauTx8LzK",
        "outputId": "abda1277-3cc4-4bad-a2a9-97870a1a1b8a"
      },
      "execution_count": null,
      "outputs": [
        {
          "output_type": "stream",
          "name": "stdout",
          "text": [
            "3\n"
          ]
        }
      ]
    },
    {
      "cell_type": "code",
      "source": [
        "result = calculator(1, 2,lambda x,y: x - y )\n",
        "print(result)"
      ],
      "metadata": {
        "colab": {
          "base_uri": "https://localhost:8080/"
        },
        "id": "OIwBjrKP86sy",
        "outputId": "edf8db1b-b4e7-4f32-e5bf-3eda4fcd13f8"
      },
      "execution_count": null,
      "outputs": [
        {
          "output_type": "stream",
          "name": "stdout",
          "text": [
            "-1\n"
          ]
        }
      ]
    },
    {
      "cell_type": "code",
      "source": [
        "result = calculator(2, 3, lambda x, y: x * y)\n",
        "print(result)"
      ],
      "metadata": {
        "colab": {
          "base_uri": "https://localhost:8080/"
        },
        "id": "Z7cHMwlg9xTQ",
        "outputId": "689aca45-ed6b-45cf-8502-b98a9f249243"
      },
      "execution_count": null,
      "outputs": [
        {
          "output_type": "stream",
          "name": "stdout",
          "text": [
            "6\n"
          ]
        }
      ]
    },
    {
      "cell_type": "code",
      "source": [
        "result = calculator(1, 2, lambda x, y: x / y)\n",
        "print(result)"
      ],
      "metadata": {
        "colab": {
          "base_uri": "https://localhost:8080/"
        },
        "id": "MvpguPtk-l8y",
        "outputId": "a5912736-f64d-4040-86dd-785fce522b2c"
      },
      "execution_count": null,
      "outputs": [
        {
          "output_type": "stream",
          "name": "stdout",
          "text": [
            "0.5\n"
          ]
        }
      ]
    },
    {
      "cell_type": "markdown",
      "source": [
        "## lambda를 아규먼트로 전달하는 예\n"
      ],
      "metadata": {
        "id": "feqfme2-Cgwq"
      }
    },
    {
      "cell_type": "markdown",
      "source": [
        "*   filter: 조건을 만족하는 원소들롤 이루어진 리스트를 리턴.\n",
        "*   map:  원소들을 일정한 규칙에 따라서 다른 값으로 변환(매핑)."
      ],
      "metadata": {
        "id": "uuk_bn0MCnlZ"
      }
    },
    {
      "cell_type": "code",
      "source": [
        "import random"
      ],
      "metadata": {
        "id": "iHQY2xeNDdKT"
      },
      "execution_count": null,
      "outputs": []
    },
    {
      "cell_type": "code",
      "source": [
        "numbers = [random.randrange(10) for _ in range(10)]\n",
        "print(numbers)"
      ],
      "metadata": {
        "colab": {
          "base_uri": "https://localhost:8080/"
        },
        "id": "kfguMJwlDhMq",
        "outputId": "118af50a-7fd4-4af2-bdd4-4643c09c33a2"
      },
      "execution_count": null,
      "outputs": [
        {
          "output_type": "stream",
          "name": "stdout",
          "text": [
            "[2, 1, 7, 7, 9, 6, 1, 7, 4, 7]\n"
          ]
        }
      ]
    },
    {
      "cell_type": "markdown",
      "source": [
        "리스트 numbers에서 짝수들만 필터링한 리스트.\n"
      ],
      "metadata": {
        "id": "h31v0Z4gD1Ax"
      }
    },
    {
      "cell_type": "code",
      "source": [
        "# filter(function, iterable):iterable의 원소를 function의 아규먼트로 전달했을 때 True를 리턴하는 값들로 이루어진 filter 객체를 리턴.\n",
        "evens = filter(lambda x: x % 2 == 0, numbers)\n",
        "result = list(evens) # 필터링된 객체를 리스트(list)타입으로 변환.\n",
        "print(result)"
      ],
      "metadata": {
        "colab": {
          "base_uri": "https://localhost:8080/"
        },
        "id": "uMRNomT9D0c6",
        "outputId": "22169e74-46a1-4935-9f33-5affce910d42"
      },
      "execution_count": null,
      "outputs": [
        {
          "output_type": "stream",
          "name": "stdout",
          "text": [
            "[2, 6, 4]\n"
          ]
        }
      ]
    },
    {
      "cell_type": "markdown",
      "source": [
        "리스트 numbers 원소들의 제곱으로 이루어진 리스트"
      ],
      "metadata": {
        "id": "0XDzpLh-GIzh"
      }
    },
    {
      "cell_type": "code",
      "source": [
        "#map(function, iterable):iteraable의 원소들을 function의  아규먼트로 전달해서 funxtion이 리턴해 주는 값들로 이루어진 map 객체를 리턴\n",
        "squares = map(lambda x: x** 2, numbers)\n",
        "result = list(squares) # 매핑(변환)된 객체를 리스트 타입으로 변환\n",
        "print(result)"
      ],
      "metadata": {
        "colab": {
          "base_uri": "https://localhost:8080/"
        },
        "id": "O7WiVd3ZGG95",
        "outputId": "ce6a0da1-0ca1-4113-a9a4-9f878c1aa2a7"
      },
      "execution_count": null,
      "outputs": [
        {
          "output_type": "stream",
          "name": "stdout",
          "text": [
            "[4, 1, 49, 49, 81, 36, 1, 49, 16, 49]\n"
          ]
        }
      ]
    },
    {
      "cell_type": "markdown",
      "source": [
        "연습문제 1.\n",
        "*   [-10, 10] 범위의 난수 10개를 원소로 갖는 리스트를 만듦.\n",
        "*   위 리스트에서 음수들만 필터링한 리스트를 만들고 출력.\n",
        "*   홀수들만 필터링한 리스트를 만들고 출력."
      ],
      "metadata": {
        "id": "XrNQgCNeHclC"
      }
    },
    {
      "cell_type": "code",
      "source": [
        "numbers = [random.randrange(-10, 11) for x in range(10)]\n",
        "print(numbers)\n",
        "negatives = filter(lambda x: x < 0, numbers)\n",
        "result = list(negatives)\n",
        "print(result)\n",
        "odds = filter(lambda y: y % 2 == 1, numbers)\n",
        "print(list(odds))"
      ],
      "metadata": {
        "colab": {
          "base_uri": "https://localhost:8080/"
        },
        "id": "S_oXvEqiIfJK",
        "outputId": "1e1963a3-884b-4bd9-bfce-d258cbbb7c42"
      },
      "execution_count": null,
      "outputs": [
        {
          "output_type": "stream",
          "name": "stdout",
          "text": [
            "[-9, -1, -4, 6, -5, 10, 3, 4, 8, -4]\n",
            "[-9, -1, -4, -5, -4]\n",
            "[-9, -1, -5, 3]\n"
          ]
        }
      ]
    },
    {
      "cell_type": "markdown",
      "source": [
        "연습문제 2.\n",
        "*   [0, 100) 범위의 난수 10개를 원소로 갖는 리스트를 만듦.\n",
        "*   위의 리스트의 원소가 짝수이면 'even' , 홀수이면 'odd'로 매핑한 리스트를 만들고출력\n",
        "*   리스트의 원소가 0 ~19이면 'teen' 20 ~ 59이면 'adult' 60 이상이면 'senior'로 매핑한 리스트를 만들고 출력"
      ],
      "metadata": {
        "id": "AV1oxBG8H2s6"
      }
    },
    {
      "cell_type": "code",
      "source": [
        "numbers2 = [random.randrange(0,101) for x in range(10)]\n",
        "print(numbers2)\n",
        "even = filter(lambda x: x % 2 == 0, numbers2)\n",
        "result = list(even)\n",
        "print(f' even = {result}')\n",
        "odd = filter(lambda x: x % 2 == 1, numbers2)\n",
        "result2 = list(odd)\n",
        "print(f' odd = {result2}')\n"
      ],
      "metadata": {
        "colab": {
          "base_uri": "https://localhost:8080/"
        },
        "id": "Rl1hG90YHzLa",
        "outputId": "967b85ba-22c2-461a-be66-54afe15c0b36"
      },
      "execution_count": null,
      "outputs": [
        {
          "output_type": "stream",
          "name": "stdout",
          "text": [
            "[89, 45, 20, 8, 28, 78, 65, 2, 83, 67]\n",
            " even = [20, 8, 28, 78, 2]\n",
            " odd = [89, 45, 65, 83, 67]\n"
          ]
        }
      ]
    },
    {
      "cell_type": "code",
      "source": [
        "even_or_odd = map(lambda x: 'even' if x % 2 == 0 else 'odd', numbers2)\n",
        "print(list(even_or_odd))   #a 매핑(변환)된 객체를 리스트로 변환해서 출력"
      ],
      "metadata": {
        "colab": {
          "base_uri": "https://localhost:8080/"
        },
        "id": "i0qXlKxGNCnU",
        "outputId": "b54499d6-87d8-401c-c137-88c27efb4d81"
      },
      "execution_count": null,
      "outputs": [
        {
          "output_type": "stream",
          "name": "stdout",
          "text": [
            "['odd', 'odd', 'even', 'even', 'even', 'even', 'odd', 'even', 'odd', 'odd']\n"
          ]
        }
      ]
    },
    {
      "cell_type": "code",
      "source": [
        "age = map(lambda x: 'teen' if x < 20 else ('adult' if x <60 else 'sneior'), numbers2)\n",
        "print(list(age))\n",
        "\n",
        "# if age < 20:\n",
        "#     category = 'teen'\n",
        "# elif age < 60:\n",
        "#     category = 'adult'\n",
        "# else:\n",
        "#     category = 'sneior'\n"
      ],
      "metadata": {
        "colab": {
          "base_uri": "https://localhost:8080/"
        },
        "id": "DRhhZQRGOINy",
        "outputId": "df13e8ad-af0e-480e-b82e-03c1ab9bfd62"
      },
      "execution_count": null,
      "outputs": [
        {
          "output_type": "stream",
          "name": "stdout",
          "text": [
            "['sneior', 'adult', 'adult', 'teen', 'adult', 'sneior', 'sneior', 'teen', 'sneior', 'sneior']\n"
          ]
        }
      ]
    },
    {
      "cell_type": "markdown",
      "source": [
        "## filter 구현"
      ],
      "metadata": {
        "id": "tuN5vqIeThjL"
      }
    },
    {
      "cell_type": "code",
      "source": [
        "def my_filter(iterable, function):\n",
        "    \"\"\"\n",
        "    iterable의 원소들 중에서 함수 function의 결과가 True가 되는 원소들로 이루어진 리스트를 리턴.\n",
        "\n",
        "    @param iterable: list 또는  tuple.\n",
        "    @param function: 아규먼트가 1개 이고, True/False를 리턴하는 함수.\n",
        "    @return: 리스트(list).\n",
        "    \"\"\"\n",
        "\n",
        "    # result = []  #  조건에 맞는 원소들을 저장하기 위한 빈 리스트\n",
        "    # for x in iterable:   # iterable의 모든 원소들을 순서대로 반복하면서\n",
        "    #     if function(x):  # 함수 호출 결과가 True이면(조건을 만족하면)\n",
        "    #         result.append(x)  # 결과 리스트에 그 원소를 추가\n",
        "\n",
        "    result = [x for x in iterable if function(x)]\n",
        "\n",
        "    return result\n"
      ],
      "metadata": {
        "id": "IOsz3Rg4TkYW"
      },
      "execution_count": null,
      "outputs": []
    },
    {
      "cell_type": "code",
      "source": [
        "numbers = [random.randrange(10) for _ in range(10)]\n",
        "print(numbers)\n",
        "evens = my_filter(numbers, lambda x: x % 2 ==0)\n",
        "print(evens)"
      ],
      "metadata": {
        "colab": {
          "base_uri": "https://localhost:8080/"
        },
        "id": "hIhJJ0otVhcM",
        "outputId": "16cbb327-a94b-4651-c0cd-fda543e38543"
      },
      "execution_count": null,
      "outputs": [
        {
          "output_type": "stream",
          "name": "stdout",
          "text": [
            "[2, 8, 9, 2, 2, 4, 0, 0, 4, 3]\n",
            "[2, 8, 2, 2, 4, 0, 0, 4]\n"
          ]
        }
      ]
    },
    {
      "cell_type": "code",
      "source": [
        "languages = ['Python', 'SQL', 'java', 'JavaScript' 'HTML']\n",
        "\n",
        "#languages의 문자열들 중에서 길이가 5보다 큰 문자열들로 이루어진 리스틀를 my_filter를 사용해서 만들어 보세요.\n",
        "\n",
        "result = my_filter(languages, lambda x: len(x) >= 5)\n",
        "print(result)"
      ],
      "metadata": {
        "colab": {
          "base_uri": "https://localhost:8080/"
        },
        "id": "kniRciUGWXy0",
        "outputId": "cea7a423-7f35-49ba-cae1-3408e02960bb"
      },
      "execution_count": null,
      "outputs": [
        {
          "output_type": "stream",
          "name": "stdout",
          "text": [
            "['Python', 'JavaScriptHTML']\n"
          ]
        }
      ]
    },
    {
      "cell_type": "markdown",
      "source": [
        "## map 구현"
      ],
      "metadata": {
        "id": "uTvOK2GDX0eU"
      }
    },
    {
      "cell_type": "code",
      "source": [
        "def my_mapper(iterable, fn):\n",
        "    \"\"\"\n",
        "    iterable의 원소를 함수 fn의 아규먼트로 전달했을 때 그 리턴값을 리스트에 추가해서 리턴.\n",
        "\n",
        "    @param iterable: list 또는 tuple.\n",
        "    @param fn: 아규먼트가 1개 이고, 1개의 값을 리턴하는 함수.\n",
        "    @return 리스트.\n",
        "    \"\"\"\n",
        "\n",
        "    # result = []                 # 매핑된 값들을 저장할 빈 리스트\n",
        "    # for x in iterable:          # iterable의 원소들을 순서대로 반복하면서\n",
        "    #     result.append(fn(x))    # 함수 fn()의 리턴값을 리스트에 추가.\n",
        "\n",
        "    result = [fn(x) for x in iterable]\n",
        "\n",
        "    return result"
      ],
      "metadata": {
        "id": "LqiHn1CqX20L"
      },
      "execution_count": null,
      "outputs": []
    },
    {
      "cell_type": "code",
      "source": [
        "numbers = [random.randrange(100) for _ in range(10)]\n",
        "print(numbers)\n",
        "\n",
        "# 짝수 -> 'even'  , 홀수 -> 'odd'\n",
        "result = my_mapper(numbers, lambda x: 'even' if x % 2 == 0 else 'odd')\n",
        "print(result)"
      ],
      "metadata": {
        "colab": {
          "base_uri": "https://localhost:8080/"
        },
        "id": "7yx1Sq9Ksn-B",
        "outputId": "adae0d56-495a-4d6e-dbdd-281f0f36cbb9"
      },
      "execution_count": null,
      "outputs": [
        {
          "output_type": "stream",
          "name": "stdout",
          "text": [
            "[40, 7, 88, 9, 13, 8, 94, 46, 61, 93]\n",
            "['even', 'odd', 'even', 'odd', 'odd', 'even', 'even', 'even', 'odd', 'odd']\n"
          ]
        }
      ]
    },
    {
      "cell_type": "code",
      "source": [
        "languages = ['Python', 'SQL', 'Java', 'JavaScript', 'HTML']\n",
        "\n",
        "# languages 원소 ->글자수로 매핑\n",
        "\n",
        "result = my_mapper(languages, lambda x: len(x))\n",
        "print(result)"
      ],
      "metadata": {
        "colab": {
          "base_uri": "https://localhost:8080/"
        },
        "id": "PSasVWfUtf6m",
        "outputId": "f322e81d-bcb3-4d06-c872-01dd24275f36"
      },
      "execution_count": null,
      "outputs": [
        {
          "output_type": "stream",
          "name": "stdout",
          "text": [
            "[6, 3, 4, 10, 4]\n"
          ]
        }
      ]
    }
  ]
}