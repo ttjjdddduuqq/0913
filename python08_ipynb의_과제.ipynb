{
  "nbformat": 4,
  "nbformat_minor": 0,
  "metadata": {
    "colab": {
      "provenance": [],
      "include_colab_link": true
    },
    "kernelspec": {
      "name": "python3",
      "display_name": "Python 3"
    },
    "language_info": {
      "name": "python"
    }
  },
  "cells": [
    {
      "cell_type": "markdown",
      "metadata": {
        "id": "view-in-github",
        "colab_type": "text"
      },
      "source": [
        "<a href=\"https://colab.research.google.com/github/ttjjdddduuqq/0913/blob/main/python08_ipynb%EC%9D%98_%EA%B3%BC%EC%A0%9C.ipynb\" target=\"_parent\"><img src=\"https://colab.research.google.com/assets/colab-badge.svg\" alt=\"Open In Colab\"/></a>"
      ]
    },
    {
      "cell_type": "code",
      "source": [
        "import random  # 난수 생성 함수(들)을 사용하기 위해서(random.randrange, ...)\n",
        "import math  # 수학 함수(들)을 사용하기 위해서(math.sqrt, ...)"
      ],
      "metadata": {
        "id": "EoV6zYjjlqPy"
      },
      "execution_count": null,
      "outputs": []
    },
    {
      "cell_type": "markdown",
      "source": [
        "# Ex 1."
      ],
      "metadata": {
        "id": "XMwQ_XF0lZ3S"
      }
    },
    {
      "cell_type": "markdown",
      "source": [
        "아래의 리스트 fruits에 저장된 문자열들의 길이를 저장하는 리스트를 만들고 출력하세요."
      ],
      "metadata": {
        "id": "NoReyufVldGh"
      }
    },
    {
      "cell_type": "code",
      "execution_count": null,
      "metadata": {
        "colab": {
          "base_uri": "https://localhost:8080/"
        },
        "id": "cypI6FxklXbF",
        "outputId": "37ca4c6a-3b45-4c20-f021-ca672ecb1877"
      },
      "outputs": [
        {
          "output_type": "stream",
          "name": "stdout",
          "text": [
            "[5, 6, 6, 6, 11]\n"
          ]
        }
      ],
      "source": [
        "fruits = ['apple', 'banana', 'cherry', 'durian', 'watermellon']\n",
        "\n",
        "# lengths = []\n",
        "# for x in fruits:\n",
        "#     lengths.append(len(x))\n",
        "\n",
        "lengths = [len(x) for x in fruits]\n",
        "print(lengths)"
      ]
    },
    {
      "cell_type": "markdown",
      "source": [
        "# Ex 2."
      ],
      "metadata": {
        "id": "0N4g8MUGlsBR"
      }
    },
    {
      "cell_type": "markdown",
      "source": [
        "*   1 이상 4 이하 범위의 정수 난수 10개를 저장하는 리스트 gender_codes를 만들고 출력하세요.\n",
        "*   gender_codes의 값이 1 또는 3이면 'Male', 2 또는 4이면 'Female'을 저장하는 리스트 genders를 만들고 출력하세요."
      ],
      "metadata": {
        "id": "R1pj0AvdluCh"
      }
    },
    {
      "cell_type": "code",
      "source": [
        "gender_codes = [random.randrange(1, 5) for _ in range(10)]\n",
        "print(gender_codes)\n",
        "\n",
        "genders = ['Male' if x == 1 or x == 3 else 'Female' for x in gender_codes]\n",
        "print(genders)"
      ],
      "metadata": {
        "colab": {
          "base_uri": "https://localhost:8080/"
        },
        "id": "Hn3WiZIBmPn6",
        "outputId": "5cbd198f-83ec-4930-bc46-3d1cb0d8decc"
      },
      "execution_count": null,
      "outputs": [
        {
          "output_type": "stream",
          "name": "stdout",
          "text": [
            "[2, 2, 4, 3, 3, 1, 3, 1, 3, 2]\n",
            "['Female', 'Female', 'Female', 'Male', 'Male', 'Male', 'Male', 'Male', 'Male', 'Female']\n"
          ]
        }
      ]
    },
    {
      "cell_type": "markdown",
      "source": [
        "# Ex 3."
      ],
      "metadata": {
        "id": "CcYep2AYmOyi"
      }
    },
    {
      "cell_type": "markdown",
      "source": [
        "아래의 두 2차원 리스트 m1, m2에서 같은 인덱스에 있는 원소들끼리의 덧셈 결과를 저장하는 리스트를 만들고 출력하세요."
      ],
      "metadata": {
        "id": "_cfVO27NnlCS"
      }
    },
    {
      "cell_type": "code",
      "source": [
        "m1 = [\n",
        "    [1, 2, 3],\n",
        "    [4, 5, 6]\n",
        "]\n",
        "m2 = [\n",
        "    [1, 1, 1],\n",
        "    [2, 2, 2]\n",
        "]\n",
        "\n",
        "result = []\n",
        "for row1, row2 in zip(m1, m2):        # zip(리스트1,리스트2) 를 for 앞에 변수에 각각 할당\n",
        "    row_plus = []\n",
        "    for x, y in zip(row1, row2):\n",
        "        row_plus.append(x + y)        #일반적인 for 반복문은 꼭 알자!\n",
        "    result.append(row_plus)\n",
        "\n",
        "print(result)"
      ],
      "metadata": {
        "colab": {
          "base_uri": "https://localhost:8080/"
        },
        "id": "n8XSLm5Pnxvq",
        "outputId": "9bef2e35-2880-4a4a-b949-8b30c532d17f"
      },
      "execution_count": null,
      "outputs": [
        {
          "output_type": "stream",
          "name": "stdout",
          "text": [
            "[[2, 3, 4], [6, 7, 8]]\n"
          ]
        }
      ]
    },
    {
      "cell_type": "code",
      "source": [
        "result = []\n",
        "for row1, row2 in zip(m1, m2):\n",
        "    row_plus = [x + y for x, y in zip(row1, row2)]\n",
        "    result.append(row_plus)\n",
        "\n",
        "print(result)"
      ],
      "metadata": {
        "colab": {
          "base_uri": "https://localhost:8080/"
        },
        "id": "34JuB2l3T2Cb",
        "outputId": "ef3e30c1-4676-45b9-f89a-c15eb7b08e81"
      },
      "execution_count": null,
      "outputs": [
        {
          "output_type": "stream",
          "name": "stdout",
          "text": [
            "[[2, 3, 4], [6, 7, 8]]\n"
          ]
        }
      ]
    },
    {
      "cell_type": "code",
      "source": [
        "result = [[x + y for x,y in zip(row1,row2)]\n",
        "          for row1,row2 in zip(m1, m2)]\n",
        "print(result)"
      ],
      "metadata": {
        "colab": {
          "base_uri": "https://localhost:8080/"
        },
        "id": "shJ9eOYQU15K",
        "outputId": "3f07ed50-7e77-4126-ca0b-d7f952598f52"
      },
      "execution_count": null,
      "outputs": [
        {
          "output_type": "stream",
          "name": "stdout",
          "text": [
            "[[2, 3, 4], [6, 7, 8]]\n"
          ]
        }
      ]
    },
    {
      "cell_type": "markdown",
      "source": [
        "# Ex 4."
      ],
      "metadata": {
        "id": "9ADGAFDhoqda"
      }
    },
    {
      "cell_type": "markdown",
      "source": [
        "1 이상 10 이하의 정수 5개를 저장하는 리스트 scores를 만들고 출력하세요."
      ],
      "metadata": {
        "id": "BshTKTlho-m6"
      }
    },
    {
      "cell_type": "code",
      "source": [
        "num_of_items = 5"
      ],
      "metadata": {
        "id": "4CIAQOwypU25"
      },
      "execution_count": null,
      "outputs": []
    },
    {
      "cell_type": "code",
      "source": [
        "scores = [random.randrange(1,11) for _ in range(1,6)]  # = range(num_of_range)\n",
        "print(scores)"
      ],
      "metadata": {
        "id": "DRL8pZf6paRh",
        "outputId": "9d2679ff-72d9-4b2e-db5f-2ebe899fcf9a",
        "colab": {
          "base_uri": "https://localhost:8080/"
        }
      },
      "execution_count": null,
      "outputs": [
        {
          "output_type": "stream",
          "name": "stdout",
          "text": [
            "[4, 1, 9, 8, 6]\n"
          ]
        }
      ]
    },
    {
      "cell_type": "markdown",
      "source": [
        "# Ex 5."
      ],
      "metadata": {
        "id": "WKj2TF59pax5"
      }
    },
    {
      "cell_type": "markdown",
      "source": [
        "문제 4에서 만든 리스트 scores의 원소들의 합계를 계산하고 출력하세요."
      ],
      "metadata": {
        "id": "nVoQNnB6pct6"
      }
    },
    {
      "cell_type": "code",
      "source": [
        "total = sum(scores)   #sum = 함수의 이름     # 함수의 이름으로 변수를 만들면 안됨 ex) sum=sum(total)\n",
        "print(total)"
      ],
      "metadata": {
        "id": "ft6jQfxkz2-N",
        "outputId": "be2caa25-bb1e-4dfe-cb6a-968e848efb9c",
        "colab": {
          "base_uri": "https://localhost:8080/"
        }
      },
      "execution_count": null,
      "outputs": [
        {
          "output_type": "stream",
          "name": "stdout",
          "text": [
            "28\n"
          ]
        }
      ]
    },
    {
      "cell_type": "code",
      "source": [
        "total = 0\n",
        "for x in scores:\n",
        "    total += x\n",
        "\n",
        "print(total)"
      ],
      "metadata": {
        "colab": {
          "base_uri": "https://localhost:8080/"
        },
        "id": "-UpYLe2-ZTk7",
        "outputId": "27cc8997-db54-4d4f-f131-f4da45dbf5cc"
      },
      "execution_count": null,
      "outputs": [
        {
          "output_type": "stream",
          "name": "stdout",
          "text": [
            "28\n"
          ]
        }
      ]
    },
    {
      "cell_type": "markdown",
      "source": [
        "# Ex 6."
      ],
      "metadata": {
        "id": "Av1AzieoppsB"
      }
    },
    {
      "cell_type": "markdown",
      "source": [
        "문제 4에서 만든 리스트 scores의 원소들의 평균을 계산하고 출력하세요."
      ],
      "metadata": {
        "id": "9irHsQy_prR6"
      }
    },
    {
      "cell_type": "code",
      "source": [
        "mean = total / num_of_items\n",
        "print(mean)"
      ],
      "metadata": {
        "id": "FVoI2iqN-yUt",
        "outputId": "1b6546b8-c2df-43a8-c08f-515b09191782",
        "colab": {
          "base_uri": "https://localhost:8080/"
        }
      },
      "execution_count": null,
      "outputs": [
        {
          "output_type": "stream",
          "name": "stdout",
          "text": [
            "5.6\n"
          ]
        }
      ]
    },
    {
      "cell_type": "markdown",
      "source": [
        "# Ex 7."
      ],
      "metadata": {
        "id": "DTi3Fn3bpyvK"
      }
    },
    {
      "cell_type": "markdown",
      "source": [
        "문제 4에서 만든 리스트 scores의 원소들의 분산을 계산하고 출력하세요."
      ],
      "metadata": {
        "id": "VD0spRtKp1d5"
      }
    },
    {
      "cell_type": "code",
      "source": [
        "# 분산  (첫번째 원소 - 평균)의 제곱 + (두번째 원소 - 평균)의 제곱 + ... / 원소의 개수 - 1\n",
        "\n",
        "# variations = []\n",
        "# for x in scores:\n",
        "#     variations.append((x - mean) ** 2)\n",
        "\n",
        "variations =[(x - mean) ** 2 for x in scores]\n",
        "print(variations)\n",
        "\n",
        "var = sum(variations) / (num_of_items - 1)\n",
        "print(var)"
      ],
      "metadata": {
        "colab": {
          "base_uri": "https://localhost:8080/"
        },
        "id": "TNd_K7eBfT-T",
        "outputId": "26bf6b49-e172-442e-c7ad-b0f2012345b8"
      },
      "execution_count": null,
      "outputs": [
        {
          "output_type": "stream",
          "name": "stdout",
          "text": [
            "[2.5599999999999987, 21.159999999999997, 11.560000000000002, 5.760000000000002, 0.16000000000000028]\n",
            "10.300000000000002\n"
          ]
        }
      ]
    },
    {
      "cell_type": "markdown",
      "source": [
        "# Ex 8."
      ],
      "metadata": {
        "id": "-7UX7XLDp61B"
      }
    },
    {
      "cell_type": "markdown",
      "source": [
        "문제 4에서 만든 리스트 scores의 원소들의 표준편차를 계산하고 출력하세요."
      ],
      "metadata": {
        "id": "gcbwn_0Mp9ey"
      }
    },
    {
      "cell_type": "code",
      "source": [
        "std = math.sqrt(var)\n",
        "print(std)"
      ],
      "metadata": {
        "colab": {
          "base_uri": "https://localhost:8080/"
        },
        "id": "f9gaYw3mhUyC",
        "outputId": "980bc189-5798-4b71-9fc5-0647d53792c5"
      },
      "execution_count": null,
      "outputs": [
        {
          "output_type": "stream",
          "name": "stdout",
          "text": [
            "3.209361307176243\n"
          ]
        }
      ]
    },
    {
      "cell_type": "markdown",
      "source": [
        "# Ex 9."
      ],
      "metadata": {
        "id": "RKvJyoUCqBxJ"
      }
    },
    {
      "cell_type": "markdown",
      "source": [
        "문제 4에서 만든 리스트 scores에서 최댓값을 찾고 출력하세요."
      ],
      "metadata": {
        "id": "iCMpTC7TqExZ"
      }
    },
    {
      "cell_type": "code",
      "source": [
        "max(scores)"
      ],
      "metadata": {
        "colab": {
          "base_uri": "https://localhost:8080/"
        },
        "id": "cbYqwm0ehjpS",
        "outputId": "78ef029f-dd07-4683-8dbe-27efe0065128"
      },
      "execution_count": null,
      "outputs": [
        {
          "output_type": "execute_result",
          "data": {
            "text/plain": [
              "9"
            ]
          },
          "metadata": {},
          "execution_count": 38
        }
      ]
    },
    {
      "cell_type": "code",
      "source": [
        "# 4 1 9 8 6\n",
        "max_scores = scores[0]    # 리스트의 첫번째 원소를 최댓값이라고 가정\n",
        "for x in scores:          # 리스트의 모든 원소들을 처음부터 끝까지 순서대로 반복하면서\n",
        "    if x > max_scores:    # 리스트의 원소가 최댓값으로 가정한 값보다 크다면\n",
        "        max_scores = x    # 리스트에서 찾은 값을 최댓값에 저장\n",
        "\n",
        "# max_scores = scores[0]\n",
        "# for x in scores:\n",
        "#     max_scores = x if x > max_scores else max_scores\n",
        "\n",
        "print(max_scores)"
      ],
      "metadata": {
        "colab": {
          "base_uri": "https://localhost:8080/"
        },
        "id": "Fn-8RaqyiA7L",
        "outputId": "2ae9b650-f9df-4fd9-bc98-96855accadfb"
      },
      "execution_count": null,
      "outputs": [
        {
          "output_type": "stream",
          "name": "stdout",
          "text": [
            "9\n"
          ]
        }
      ]
    },
    {
      "cell_type": "markdown",
      "source": [
        "# EX 10."
      ],
      "metadata": {
        "id": "O9lTHRtEqKYi"
      }
    },
    {
      "cell_type": "markdown",
      "source": [
        "문제 4에서 만든 리스트 scores에서 최솟값을 찾고 출력하세요."
      ],
      "metadata": {
        "id": "pnuj0iCjqMb5"
      }
    },
    {
      "cell_type": "code",
      "source": [
        "min(scores)"
      ],
      "metadata": {
        "colab": {
          "base_uri": "https://localhost:8080/"
        },
        "id": "uIYu5FRVhxVM",
        "outputId": "489d01b2-475b-472f-ac6a-9fef18772e98"
      },
      "execution_count": null,
      "outputs": [
        {
          "output_type": "execute_result",
          "data": {
            "text/plain": [
              "1"
            ]
          },
          "metadata": {},
          "execution_count": 39
        }
      ]
    },
    {
      "cell_type": "code",
      "source": [
        "min_scores = scores[0]\n",
        "for x in scores:\n",
        "    if x < min_scores:\n",
        "        min_scores = x\n",
        "\n",
        "\n",
        "print(min_scores)"
      ],
      "metadata": {
        "colab": {
          "base_uri": "https://localhost:8080/"
        },
        "id": "7Py6Uwi9kQcM",
        "outputId": "163b931c-2156-4e72-adb1-31723bd96a1b"
      },
      "execution_count": null,
      "outputs": [
        {
          "output_type": "stream",
          "name": "stdout",
          "text": [
            "1\n"
          ]
        }
      ]
    },
    {
      "cell_type": "markdown",
      "source": [
        "표준편차, 분산이 크면 데이터들이 평균에서 멀리"
      ],
      "metadata": {
        "id": "-npyutAWnoKk"
      }
    },
    {
      "cell_type": "markdown",
      "source": [
        "*   리스트의 모든 원소의 합계\n",
        "\n",
        "$$\n",
        "sum = \\sum_{i = 1}^{n} x_i = x_1 + x_2 + ... + x_n\n",
        "$$\n",
        "\n",
        "*   리스트의 모든 원소의 평균(mean)\n",
        "\n",
        "$$\n",
        "\\bar{x} = \\frac{1}{n} \\sum_{i = 1}^{n} x_i\n",
        "$$\n",
        "\n",
        "*   리스트의 모든 원소의 분산(variance)\n",
        "\n",
        "$$\n",
        "var = \\frac{1}{n - 1} \\sum_{i = 1}^{n} (x_i - \\bar{x})^2\n",
        "$$\n",
        "\n",
        "*   리스트의 모든 원소의 표준편차(standard deviation)\n",
        "\n",
        "$$\n",
        "std = \\sqrt{var}\n",
        "    = \\sqrt{\\frac{1}{n - 1} \\sum_{i = 1}^{n} (x_i - \\bar{x})^2}\n",
        "$$"
      ],
      "metadata": {
        "id": "CstD7iN8qOwJ"
      }
    }
  ]
}