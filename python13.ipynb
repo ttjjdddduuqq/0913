{
  "nbformat": 4,
  "nbformat_minor": 0,
  "metadata": {
    "colab": {
      "provenance": [],
      "authorship_tag": "ABX9TyOMHmLjWV8WBNQQ6bPrBpMg",
      "include_colab_link": true
    },
    "kernelspec": {
      "name": "python3",
      "display_name": "Python 3"
    },
    "language_info": {
      "name": "python"
    }
  },
  "cells": [
    {
      "cell_type": "markdown",
      "metadata": {
        "id": "view-in-github",
        "colab_type": "text"
      },
      "source": [
        "<a href=\"https://colab.research.google.com/github/ttjjdddduuqq/0913/blob/main/python13.ipynb\" target=\"_parent\"><img src=\"https://colab.research.google.com/assets/colab-badge.svg\" alt=\"Open In Colab\"/></a>"
      ]
    },
    {
      "cell_type": "markdown",
      "source": [
        "# 객체지향 프로그래밍 배경"
      ],
      "metadata": {
        "id": "0z_qwSHOvwlG"
      }
    },
    {
      "cell_type": "code",
      "execution_count": null,
      "metadata": {
        "id": "jgdWmx-xvIEE"
      },
      "outputs": [],
      "source": [
        "students = [\n",
        "    {'name': '홍길동','korean': 90, 'english': 80, 'math': 70},\n",
        "    {'name': '오쌤', 'korean': 77, 'english': 66, 'math':80},\n",
        "    {'name': 'Scott', 'korean': 50, 'english': 100, 'math':95}\n",
        "]"
      ]
    },
    {
      "cell_type": "code",
      "source": [
        "# 이름 총점 평균 출력\n",
        "\n",
        "for s in students:         # 괄호 종류?\n",
        "    total = s['korean'] + s['english'] + s['math']\n",
        "    mean = total / 3\n",
        "    print(f'이름:{s[\"name\"]}, 총점: {total}, 평균:{mean}')"
      ],
      "metadata": {
        "colab": {
          "base_uri": "https://localhost:8080/"
        },
        "id": "qAWhI4pyw-83",
        "outputId": "0798731b-f7b9-4e6c-adbc-5f4d5a8d07d1"
      },
      "execution_count": null,
      "outputs": [
        {
          "output_type": "stream",
          "name": "stdout",
          "text": [
            "이름:홍길동, 총점: 240, 평균:80.0\n",
            "이름:오쌤, 총점: 223, 평균:74.33333333333333\n",
            "이름:Scott, 총점: 245, 평균:81.66666666666667\n"
          ]
        }
      ]
    },
    {
      "cell_type": "markdown",
      "source": [
        "위의 프로그래밍 방식의 문제점은 dict의 키는 중복되지만 않게 만들면 되기 때문에, 반복문애서 총점과 평균을 계산하는 기능이 동작하지 않을 수도 있다."
      ],
      "metadata": {
        "id": "fsRfuR6d0jBu"
      }
    },
    {
      "cell_type": "markdown",
      "source": [
        "## 함수형 프로그래밍(functional programming)"
      ],
      "metadata": {
        "id": "uno34gVc07Nu"
      }
    },
    {
      "cell_type": "code",
      "source": [
        "def create_student(name, korean, english, math):\n",
        "    student = {'name': name,\n",
        "               'korean': korean,\n",
        "               'english': english,\n",
        "               'math': math}\n",
        "\n",
        "    return student                      # ex) create_student(a,b,c,d) 하면 return student"
      ],
      "metadata": {
        "id": "BK8A4zIp1FPe"
      },
      "execution_count": null,
      "outputs": []
    },
    {
      "cell_type": "code",
      "source": [
        "students = [\n",
        "    create_student('홍길동', 90,100,80),\n",
        "    create_student('오쌤',50,55,65),\n",
        "    create_student('Scott',70,100,90)\n",
        "]\n",
        "print(students)"
      ],
      "metadata": {
        "colab": {
          "base_uri": "https://localhost:8080/"
        },
        "id": "FZUf5Pej1lOX",
        "outputId": "cd8239f9-cf5d-4570-b186-7f6a70e63893"
      },
      "execution_count": null,
      "outputs": [
        {
          "output_type": "stream",
          "name": "stdout",
          "text": [
            "[{'name': '홍길동', 'korean': 90, 'english': 100, 'math': 80}, {'name': '오쌤', 'korean': 50, 'english': 55, 'math': 65}, {'name': 'Scott', 'korean': 70, 'english': 100, 'math': 90}]\n"
          ]
        }
      ]
    },
    {
      "cell_type": "code",
      "source": [
        "def get_total(student):\n",
        "    return student['korean'] + student['english'] + student['math']"
      ],
      "metadata": {
        "id": "Obuax8Ic2WWu"
      },
      "execution_count": null,
      "outputs": []
    },
    {
      "cell_type": "code",
      "source": [
        "def get_mean(student):\n",
        "    return get_total(student) / 3"
      ],
      "metadata": {
        "id": "ag15bfz42mSf"
      },
      "execution_count": null,
      "outputs": []
    },
    {
      "cell_type": "code",
      "source": [
        "for s in students:\n",
        "    total = get_total(s)\n",
        "    mean = get_mean(s)\n",
        "    print(f' 이름: {s[\"name\"]}, 총점:{total}, 평균{mean}')"
      ],
      "metadata": {
        "colab": {
          "base_uri": "https://localhost:8080/"
        },
        "id": "XtfbevkI2tvH",
        "outputId": "193721a6-2ed5-49a4-ef26-bc8b37dfbbae"
      },
      "execution_count": null,
      "outputs": [
        {
          "output_type": "stream",
          "name": "stdout",
          "text": [
            " 이름: 홍길동, 총점:270, 평균90.0\n",
            " 이름: 오쌤, 총점:170, 평균56.666666666666664\n",
            " 이름: Scott, 총점:260, 평균86.66666666666667\n"
          ]
        }
      ]
    },
    {
      "cell_type": "markdown",
      "source": [
        "총점을 계산하는 함수 get_total()과 평균을 계산하는 함수 get_mean()은 학생 dict와 매우 밀접한 관계를 가지고 있음.\n",
        "\n",
        "데이터(국어, 영어, 수학)의 기능(총저므 평균 계산)이 밀접한 관계를 가지고 있음.\n",
        "\n",
        "데이터와 기능을 하나로 묶을 수 있을까?"
      ],
      "metadata": {
        "id": "iqpE9Ofg3Vxm"
      }
    },
    {
      "cell_type": "markdown",
      "source": [
        "## 객체 지향 프로그래밍(Object-Oriented Programming)"
      ],
      "metadata": {
        "id": "jZUHRD7c4KoH"
      }
    },
    {
      "cell_type": "markdown",
      "source": [
        "*   객페(object): 프로그램에서 구현할 대상. 자료 구조.\n",
        "*   클래스(class): 객체를 만들기 위한 설계도(코드).\n",
        "    *   속성(attribute, property): 객체가 가져야할 데이터.\n",
        "    *   메서드(method): 객체가 가져야 할 기능. 클래스 내부에서 선언하는 함수.\n",
        "*   인스턴스(instance): 메모리에 생성된 객체. 클래스 타입으로 생성된 객체.\n",
        "*   생성자(constructor): 클래스 이름과 동일한 함수. 객체를 생성해주는 함수.\n",
        "    *   생성자를 호출하면 클래스에서 선언된 `__init__()` 메서드가 호출됨."
      ],
      "metadata": {
        "id": "rewtMj1z9BLg"
      }
    },
    {
      "cell_type": "code",
      "source": [
        "# 클래스 선언  # 클래스 이름은 첫글자는 대문자로 시작\n",
        "class Student:\n",
        "    # __init__() 메서드 : 생성자를 호출했을 때 실행할 코드. 객체가 가져야 하는 속성의 값들을 초기화.\n",
        "    def __init__(self, name, korean, english, math):\n",
        "        self.name = name\n",
        "        self.korean = korean\n",
        "        self.english = english\n",
        "        self.math = math\n",
        "\n",
        "    # 메서드 : 클래스에서 선언하는 메서드.\n",
        "    def get_total(self):\n",
        "        return self.korean + self.english + self.math\n",
        "\n",
        "    def get_mean(self):\n",
        "        return self.get_total() / 3"
      ],
      "metadata": {
        "id": "_EDUpSxg-u_4"
      },
      "execution_count": null,
      "outputs": []
    },
    {
      "cell_type": "code",
      "source": [
        "student1 = Student('홍길동', 100, 80, 95)  # 생성자 호출. 객체 생성. 인스턴스 생성.\n",
        "print(student1)\n",
        "print('이름 =', student1.name)                # . -> 참조연산자 (student1을 찾아간다는 뜻)\n",
        "print('국어 =', student1.korean)\n",
        "print('영어 =', student1.english)\n",
        "print('수학 =', student1.math)\n",
        "print('총점 =', student1.get_total())\n",
        "print('평균 =', student1.get_mean())"
      ],
      "metadata": {
        "colab": {
          "base_uri": "https://localhost:8080/"
        },
        "id": "-FcZlF8eAQSx",
        "outputId": "7238439d-a6b1-473a-edd5-a9f7ad7e41bb"
      },
      "execution_count": null,
      "outputs": [
        {
          "output_type": "stream",
          "name": "stdout",
          "text": [
            "<__main__.Student object at 0x78e7d43f4810>\n",
            "이름 = 홍길동\n",
            "국어 = 100\n",
            "영어 = 80\n",
            "수학 = 95\n",
            "총점 = 275\n",
            "평균 = 91.66666666666667\n"
          ]
        }
      ]
    },
    {
      "cell_type": "code",
      "source": [
        "student2 = Student('오쌤', 50, 45, 33)\n",
        "print('이름 =', student2.name)\n",
        "print('국어 =', student2.korean)\n",
        "print('영어 =', student2.english)\n",
        "print('수학 =', student2.math)\n",
        "print('총점 =', student2.get_total())\n",
        "print('평균 =', student2.get_mean())"
      ],
      "metadata": {
        "colab": {
          "base_uri": "https://localhost:8080/"
        },
        "id": "gL7nUaWEC6Aw",
        "outputId": "171bf4d0-fc0c-4bfe-864e-24fae07092d9"
      },
      "execution_count": null,
      "outputs": [
        {
          "output_type": "stream",
          "name": "stdout",
          "text": [
            "이름 = 오쌤\n",
            "국어 = 50\n",
            "영어 = 45\n",
            "수학 = 33\n",
            "총점 = 128\n",
            "평균 = 42.666666666666664\n"
          ]
        }
      ]
    },
    {
      "cell_type": "markdown",
      "source": [
        "# 클래스 선언"
      ],
      "metadata": {
        "id": "JDFBI5n_NBKR"
      }
    },
    {
      "cell_type": "markdown",
      "source": [
        "## Ex 1"
      ],
      "metadata": {
        "id": "0HBxZj7QNEPw"
      }
    },
    {
      "cell_type": "code",
      "source": [
        "class Circle:\n",
        "    def __init__(self, radius):\n",
        "        self.radius = radius\n",
        "\n",
        "    def area(self):\n",
        "        return 3.14 * self.radius ** 2\n",
        "\n",
        "    def perimeter(self):\n",
        "        return 2 * 3.14 * self.radius"
      ],
      "metadata": {
        "id": "gkOYA_qvNHkp"
      },
      "execution_count": null,
      "outputs": []
    },
    {
      "cell_type": "code",
      "source": [
        "circle1 = Circle(1)\n",
        "print('반지름:', circle1.radius)\n",
        "print('넓이:', circle1.area())\n",
        "print('둘레:', circle1.perimeter())"
      ],
      "metadata": {
        "colab": {
          "base_uri": "https://localhost:8080/"
        },
        "id": "mRrRofShOspZ",
        "outputId": "59a2a7cf-2db3-4b95-df17-57c209f51381"
      },
      "execution_count": null,
      "outputs": [
        {
          "output_type": "stream",
          "name": "stdout",
          "text": [
            "반지름: 1\n",
            "넓이: 3.14\n",
            "둘레: 6.28\n"
          ]
        }
      ]
    },
    {
      "cell_type": "code",
      "source": [
        "circle2 = Circle(10)\n",
        "print('반지름:', circle2.radius)\n",
        "print('넓이:', circle2.area())\n",
        "print('둘레:', circle2.perimeter())"
      ],
      "metadata": {
        "colab": {
          "base_uri": "https://localhost:8080/"
        },
        "id": "idZmUDKVQL2R",
        "outputId": "9f58ecd7-d623-4830-8aaa-516d5416da71"
      },
      "execution_count": null,
      "outputs": [
        {
          "output_type": "stream",
          "name": "stdout",
          "text": [
            "반지름: 10\n",
            "넓이: 314.0\n",
            "둘레: 62.800000000000004\n"
          ]
        }
      ]
    },
    {
      "cell_type": "markdown",
      "source": [
        "## Ex 2"
      ],
      "metadata": {
        "id": "CMraUHLqV5Yi"
      }
    },
    {
      "cell_type": "code",
      "source": [
        "class Rectangle:\n",
        "    def __init__(self, width, height):\n",
        "        self.width = width\n",
        "        self.height = height\n",
        "\n",
        "    def area(self):\n",
        "        return self.width * self.height\n",
        "\n",
        "    def perimeter(self):\n",
        "        return 2 *(self.width + self.height)\n"
      ],
      "metadata": {
        "id": "xATeUK8ZV7a6"
      },
      "execution_count": null,
      "outputs": []
    },
    {
      "cell_type": "code",
      "source": [
        "rectangle1 = Rectangle(3, 4)\n",
        "print('넓이:', rectangle1.area())\n",
        "print('둘레:', rectangle1.perimeter())\n",
        "print('가로:', rectangle1.width, '새로:', rectangle1.height)"
      ],
      "metadata": {
        "colab": {
          "base_uri": "https://localhost:8080/"
        },
        "id": "OOEKODKMW3GK",
        "outputId": "a10b6eb9-3b4b-4dee-eb44-cfab78bfcca8"
      },
      "execution_count": null,
      "outputs": [
        {
          "output_type": "stream",
          "name": "stdout",
          "text": [
            "넓이: 12\n",
            "둘레: 14\n"
          ]
        }
      ]
    },
    {
      "cell_type": "code",
      "source": [
        "rectangle2 = Rectangle(8, 6)\n",
        "print('넓이:', rectangle2.area())\n",
        "print('둘레:', rectangle2.perimeter())"
      ],
      "metadata": {
        "colab": {
          "base_uri": "https://localhost:8080/"
        },
        "id": "hwPW7vBQZ5F6",
        "outputId": "fac4be4c-0127-44ed-82a0-ab7ee2b2935b"
      },
      "execution_count": null,
      "outputs": [
        {
          "output_type": "stream",
          "name": "stdout",
          "text": [
            "넓이: 48\n",
            "둘레: 28\n"
          ]
        }
      ]
    },
    {
      "cell_type": "markdown",
      "source": [
        "## Ex 3"
      ],
      "metadata": {
        "id": "qwKqyFTAa0nC"
      }
    },
    {
      "cell_type": "code",
      "source": [
        "import math"
      ],
      "metadata": {
        "id": "fkRFtoRocTjk"
      },
      "execution_count": null,
      "outputs": []
    },
    {
      "cell_type": "code",
      "source": [
        "class Point:            # 메서드 = class안에 있는 함수\n",
        "    \"\"\"\n",
        "    2차원 평면에서 점의 좌표를 표현하는 클래스.\n",
        "    2차원 평면의 점의 좌표를 초기화\n",
        "    \"\"\"\n",
        "\n",
        "    # __init__ (): 생성자 함수를 호출하면 자동으로 호출되는 메서드\n",
        "    def __init__(self, x=0, y=0):\n",
        "        self.x = x\n",
        "        self.y = y\n",
        "\n",
        "    #__str__(): print() 함수가 객체를 출력하기 위해서 호출하는 메서드\n",
        "    #__str__() 함수를 선언하지 않으면 print()함수 'ClassName object at 0x12345678' 형식으로 객체를 출력\n",
        "    #__str__() 함수를 선언하면, print()함수는 __str__() 함수가 리턴하는 문자열을 출력.\n",
        "    def __str__(self):\n",
        "        return f'point(x={self.x}, y={self.y})'\n",
        "\n",
        "\n",
        "    def move(self, dx, dy):\n",
        "        \"\"\"점의 위치를 원래 위치에서 x측 방향으로 dx만큼, y측 방향으로 dy만큼 이동\"\"\"\n",
        "        self.x = self.x + dx   # self.x += dx\n",
        "        self.y = self.y + dy   #self.y += dy\n",
        "\n",
        "\n",
        "    def distance(self, other):   # 두 점의 거리 : 루트 x1 - x2 + y1 - y2 /   x1제곱y1제곱 - x2 y2 제곱\n",
        "        \"\"\"현재 점의 위치와 다른 점 사이의 거리를 리턴\"\"\"\n",
        "        return math.sqrt((self.x -other.x) ** 2 + (self.y - other.y) ** 2)\n"
      ],
      "metadata": {
        "id": "GctkR28Oaz9C"
      },
      "execution_count": null,
      "outputs": []
    },
    {
      "cell_type": "code",
      "source": [
        "pt1 = Point()  # 생성자 함수에 아규먼트를 전달하지 않으면 default argument가 사용됨.\n",
        "print(pt1)\n",
        "print(f'point({pt1.x},{pt1.y})')\n"
      ],
      "metadata": {
        "colab": {
          "base_uri": "https://localhost:8080/"
        },
        "id": "Jbxj-emmdlAT",
        "outputId": "4e6e8456-953c-4a5d-e4f4-f3917cf2e726"
      },
      "execution_count": null,
      "outputs": [
        {
          "output_type": "stream",
          "name": "stdout",
          "text": [
            "point(x=0, y=0)\n",
            "point(0,0)\n"
          ]
        }
      ]
    },
    {
      "cell_type": "code",
      "source": [
        "pt2 = Point(1, 2) # point(1, 2)\n",
        "print(pt2)\n",
        "# print(f'point({pt2.x},{pt2.y})')"
      ],
      "metadata": {
        "colab": {
          "base_uri": "https://localhost:8080/"
        },
        "id": "7ke3Bu7weKj1",
        "outputId": "fec331a8-dd6c-42a2-e095-ca6e3c72c1b1"
      },
      "execution_count": null,
      "outputs": [
        {
          "output_type": "stream",
          "name": "stdout",
          "text": [
            "point(x=1, y=2)\n"
          ]
        }
      ]
    },
    {
      "cell_type": "code",
      "source": [
        "pt1.move(1,1)\n",
        "print(f'point({pt1.x},{pt1.y})')\n",
        "pt2.move(2, 1)\n",
        "print(f'point({pt2.x},{pt2.y})')"
      ],
      "metadata": {
        "colab": {
          "base_uri": "https://localhost:8080/"
        },
        "id": "31ICKJqVluo8",
        "outputId": "1cda6312-64b6-4f96-8d10-f8f39ef66549"
      },
      "execution_count": null,
      "outputs": [
        {
          "output_type": "stream",
          "name": "stdout",
          "text": [
            "point(1,1)\n",
            "point(3,3)\n"
          ]
        }
      ]
    },
    {
      "cell_type": "code",
      "source": [
        "d = pt1.distance(pt2)\n",
        "print('거리 =', d)"
      ],
      "metadata": {
        "colab": {
          "base_uri": "https://localhost:8080/"
        },
        "id": "EkW5YFnumVtE",
        "outputId": "a27d0065-9c3f-4c41-9f08-6f7111743289"
      },
      "execution_count": null,
      "outputs": [
        {
          "output_type": "stream",
          "name": "stdout",
          "text": [
            "거리 = 2.8284271247461903\n"
          ]
        }
      ]
    }
  ]
}