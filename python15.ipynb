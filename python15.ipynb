{
  "nbformat": 4,
  "nbformat_minor": 0,
  "metadata": {
    "colab": {
      "provenance": [],
      "authorship_tag": "ABX9TyNx7vYDSvnJXpbEtSxFkrMA",
      "include_colab_link": true
    },
    "kernelspec": {
      "name": "python3",
      "display_name": "Python 3"
    },
    "language_info": {
      "name": "python"
    }
  },
  "cells": [
    {
      "cell_type": "markdown",
      "metadata": {
        "id": "view-in-github",
        "colab_type": "text"
      },
      "source": [
        "<a href=\"https://colab.research.google.com/github/ttjjdddduuqq/0913/blob/main/python15.ipynb\" target=\"_parent\"><img src=\"https://colab.research.google.com/assets/colab-badge.svg\" alt=\"Open In Colab\"/></a>"
      ]
    },
    {
      "cell_type": "markdown",
      "source": [
        "# str 클래스의 메서드"
      ],
      "metadata": {
        "id": "ZXPiC4qDcTUo"
      }
    },
    {
      "cell_type": "code",
      "execution_count": null,
      "metadata": {
        "id": "T8FvY07_cPjZ"
      },
      "outputs": [],
      "source": [
        "s = 'heLLo, pytHon!, 안녕, 파이썬...'"
      ]
    },
    {
      "cell_type": "code",
      "source": [
        "print(type(s))   # __str__()\n",
        "type(s)          # __repr__()"
      ],
      "metadata": {
        "colab": {
          "base_uri": "https://localhost:8080/"
        },
        "id": "86Hl1kGBcjCR",
        "outputId": "821669da-e008-474c-b72b-191bb3cc47a3"
      },
      "execution_count": null,
      "outputs": [
        {
          "output_type": "stream",
          "name": "stdout",
          "text": [
            "<class 'str'>\n"
          ]
        },
        {
          "output_type": "execute_result",
          "data": {
            "text/plain": [
              "str"
            ]
          },
          "metadata": {},
          "execution_count": 15
        }
      ]
    },
    {
      "cell_type": "code",
      "source": [
        "result = s.upper()         # uppercase(대문자)로 변환된 문자열을 리턴\n",
        "print('result =', result)\n",
        "print('s =', s)            # 원본 문자열 s는 변경되지 않음!"
      ],
      "metadata": {
        "colab": {
          "base_uri": "https://localhost:8080/"
        },
        "id": "M0uBNi1-dMQh",
        "outputId": "149b69e8-3538-46da-fb12-ec3f5d92f374"
      },
      "execution_count": null,
      "outputs": [
        {
          "output_type": "stream",
          "name": "stdout",
          "text": [
            "result = HELLO, PYTHON!, 안녕, 파이썬...\n",
            "s = heLLo, pytHon!, 안녕, 파이썬...\n"
          ]
        }
      ]
    },
    {
      "cell_type": "code",
      "source": [
        "s.lower()       #  lowercase (소문자)로 변환된 문자열을 리턴"
      ],
      "metadata": {
        "colab": {
          "base_uri": "https://localhost:8080/",
          "height": 35
        },
        "id": "J3NvC6bBessR",
        "outputId": "0a2188ca-e2ab-4e1f-9dc9-4084f5772ce9"
      },
      "execution_count": null,
      "outputs": [
        {
          "output_type": "execute_result",
          "data": {
            "text/plain": [
              "'hello, python!, 안녕, 파이썬...'"
            ],
            "application/vnd.google.colaboratory.intrinsic+json": {
              "type": "string"
            }
          },
          "metadata": {},
          "execution_count": 20
        }
      ]
    },
    {
      "cell_type": "code",
      "source": [
        "s.capitalize()  # 문장의 첫글자만 대문자로."
      ],
      "metadata": {
        "colab": {
          "base_uri": "https://localhost:8080/",
          "height": 35
        },
        "id": "dDZO4Xhge3XU",
        "outputId": "cadf0149-dd9c-407f-cc9d-be30a33d1c68"
      },
      "execution_count": null,
      "outputs": [
        {
          "output_type": "execute_result",
          "data": {
            "text/plain": [
              "'Hello, python!, 안녕, 파이썬...'"
            ],
            "application/vnd.google.colaboratory.intrinsic+json": {
              "type": "string"
            }
          },
          "metadata": {},
          "execution_count": 21
        }
      ]
    },
    {
      "cell_type": "code",
      "source": [
        "# str.count(sub): 문자열 str 안에 몇 번 등장하는 지를 리턴.\n",
        "print(s)\n",
        "print(s.count('L'))\n",
        "print(s.count('l'))\n",
        "print(s.count('LL'))"
      ],
      "metadata": {
        "colab": {
          "base_uri": "https://localhost:8080/"
        },
        "id": "Js1letPUgEjw",
        "outputId": "b58ee1a1-8ac1-4997-8384-c88939e249a3"
      },
      "execution_count": null,
      "outputs": [
        {
          "output_type": "stream",
          "name": "stdout",
          "text": [
            "heLLo, pytHon!, 안녕, 파이썬...\n",
            "2\n",
            "0\n",
            "1\n"
          ]
        }
      ]
    },
    {
      "cell_type": "code",
      "source": [
        "# str.find(패턴): 문자열 str에 패턴이 처음 등장하는 인덱스를 리턴. 문자열에 패턴이 없으면 -1을 리턴.\n",
        "print(s)\n",
        "print(s.find('py'))\n"
      ],
      "metadata": {
        "colab": {
          "base_uri": "https://localhost:8080/"
        },
        "id": "uXh9p4nqg8Lh",
        "outputId": "adfcca28-5e29-45df-ee15-811731b40a6d"
      },
      "execution_count": null,
      "outputs": [
        {
          "output_type": "stream",
          "name": "stdout",
          "text": [
            "heLLo, pytHon!, 안녕, 파이썬...\n",
            "7\n"
          ]
        }
      ]
    },
    {
      "cell_type": "markdown",
      "source": [],
      "metadata": {
        "id": "OjrSz2lG3h4S"
      }
    },
    {
      "cell_type": "code",
      "source": [
        "email = 'jake@itiwill.com'\n",
        "# 문자열 email에서 '@' 나오는 인덱스를 찾음.\n",
        "# 문자열을 이메일 아이디와 메일 도메인을 각각 출력.\n",
        "idx = email.find('@')\n",
        "print(idx)x])\n",
        "print(email[idx\n",
        "print(email[:id + 1 :])"
      ],
      "metadata": {
        "colab": {
          "base_uri": "https://localhost:8080/"
        },
        "id": "VDmEXqLUhipa",
        "outputId": "e7a7037b-616d-4f8e-cbe1-2f91dd083243"
      },
      "execution_count": null,
      "outputs": [
        {
          "output_type": "stream",
          "name": "stdout",
          "text": [
            "4\n",
            "jake\n",
            "itiwill.com\n"
          ]
        }
      ]
    },
    {
      "cell_type": "code",
      "source": [
        "msg = '파이썬 참 쉽죠? 파이썬   열심히 공부합시다.'\n",
        "result = msg.split()  # 공백(space, tab, enter)으로 구분한(자른) 문자열들의 리스트를 리턴\n",
        "print(result)"
      ],
      "metadata": {
        "colab": {
          "base_uri": "https://localhost:8080/"
        },
        "id": "5uTqgmNfiazp",
        "outputId": "6efbf450-6e84-469f-8bf0-133122e174a4"
      },
      "execution_count": null,
      "outputs": [
        {
          "output_type": "stream",
          "name": "stdout",
          "text": [
            "['파이썬', '참', '쉽죠?', '파이썬', '열심히', '공부합시다.']\n"
          ]
        }
      ]
    },
    {
      "cell_type": "code",
      "source": [
        "date_string = '2025-04-29'\n",
        "result = date_string.split(sep='-')  # sep 파라미터 : 구분자(seperator)\n",
        "print(result)"
      ],
      "metadata": {
        "colab": {
          "base_uri": "https://localhost:8080/"
        },
        "id": "ldjH5_TZ2rYr",
        "outputId": "e12b5349-9215-4e12-8053-67ebd9ce4c29"
      },
      "execution_count": null,
      "outputs": [
        {
          "output_type": "stream",
          "name": "stdout",
          "text": [
            "['2025', '04', '29']\n"
          ]
        }
      ]
    },
    {
      "cell_type": "code",
      "source": [
        "csv_string = '1,홍길동,100,90,80'  # csv(comma-seperated-values)\n",
        "csv_string.split(sep=',')"
      ],
      "metadata": {
        "colab": {
          "base_uri": "https://localhost:8080/"
        },
        "id": "_986sFSK3UT7",
        "outputId": "438a3776-4d46-410f-87a6-db8cb1aad75a"
      },
      "execution_count": null,
      "outputs": [
        {
          "output_type": "execute_result",
          "data": {
            "text/plain": [
              "['1', '홍길동', '100', '90', '80']"
            ]
          },
          "metadata": {},
          "execution_count": 96
        }
      ]
    },
    {
      "cell_type": "code",
      "source": [
        "email = 'gildong.hong@naver.com'\n",
        "# 문자열 email에서 이메일 아이디와 도메인을 구분해서 출력\n",
        "result = email.split(sep='@')  # -> ['gildong', 'naver.com']\n",
        "print(result[0])\n",
        "print(result[1])\n",
        "print(result)"
      ],
      "metadata": {
        "colab": {
          "base_uri": "https://localhost:8080/"
        },
        "id": "lY_QsYWf4Z_0",
        "outputId": "a411a1a8-16e4-4a9b-a58e-9feca67a3032"
      },
      "execution_count": null,
      "outputs": [
        {
          "output_type": "stream",
          "name": "stdout",
          "text": [
            "gildong.hong\n",
            "naver.com\n",
            "['gildong.hong', 'naver.com']\n"
          ]
        }
      ]
    },
    {
      "cell_type": "code",
      "source": [
        "# str.join(iterable): iterable의 아이템들을 str으로 연결한 문자열을 리턴.\n",
        "'/'.join(['2025', '04', '29'])"
      ],
      "metadata": {
        "colab": {
          "base_uri": "https://localhost:8080/",
          "height": 35
        },
        "id": "04Hi-VhY5X6k",
        "outputId": "3f1e6f13-ace8-4eae-bc63-a52ae4ef6e65"
      },
      "execution_count": null,
      "outputs": [
        {
          "output_type": "execute_result",
          "data": {
            "text/plain": [
              "'2025/04/29'"
            ],
            "application/vnd.google.colaboratory.intrinsic+json": {
              "type": "string"
            }
          },
          "metadata": {},
          "execution_count": 85
        }
      ]
    },
    {
      "cell_type": "code",
      "source": [
        "','.join(['홍길동', '오쌤', 'Scott'])"
      ],
      "metadata": {
        "colab": {
          "base_uri": "https://localhost:8080/",
          "height": 35
        },
        "id": "ZsXDo4k16GKc",
        "outputId": "17f87c7d-8039-4051-fea0-b07dd9a919f4"
      },
      "execution_count": null,
      "outputs": [
        {
          "output_type": "execute_result",
          "data": {
            "text/plain": [
              "'홍길동,오쌤,Scott'"
            ],
            "application/vnd.google.colaboratory.intrinsic+json": {
              "type": "string"
            }
          },
          "metadata": {},
          "execution_count": 87
        }
      ]
    },
    {
      "cell_type": "code",
      "source": [
        "msg = 'Hello, Python, 안녕하세요, 파이썬, 12345'\n",
        "msg.replace(',', '::')   # str.replace(old,new) : str에 등장하는 old를 new로 대체한 문자열을 리턴"
      ],
      "metadata": {
        "colab": {
          "base_uri": "https://localhost:8080/",
          "height": 35
        },
        "id": "tt4OWpAJ6S10",
        "outputId": "7ac08c85-9033-41b7-b01c-a618e7d24d8c"
      },
      "execution_count": null,
      "outputs": [
        {
          "output_type": "execute_result",
          "data": {
            "text/plain": [
              "'Hello:: Python:: 안녕하세요:: 파이썬:: 12345'"
            ],
            "application/vnd.google.colaboratory.intrinsic+json": {
              "type": "string"
            }
          },
          "metadata": {},
          "execution_count": 93
        }
      ]
    },
    {
      "cell_type": "code",
      "source": [
        "msg.replace(',', '-', 1)  # str,replace(old, new, count) str에 등장하는   old를 new로 count번 대체.(count 의 기본값은 -1 (= 전부 다 대체)"
      ],
      "metadata": {
        "colab": {
          "base_uri": "https://localhost:8080/",
          "height": 35
        },
        "id": "4tepajhK7cPs",
        "outputId": "ac686993-8eab-4fcd-a9dd-40f04b2281c5"
      },
      "execution_count": null,
      "outputs": [
        {
          "output_type": "execute_result",
          "data": {
            "text/plain": [
              "'Hello- Python, 안녕하세요, 파이썬, 12345'"
            ],
            "application/vnd.google.colaboratory.intrinsic+json": {
              "type": "string"
            }
          },
          "metadata": {},
          "execution_count": 97
        }
      ]
    },
    {
      "cell_type": "code",
      "source": [
        "msg = '안녕? 안녕하세요! Hello, Python.'\n",
        "msg.replace('?','').replace('!','').replace(',','').replace('.','').split() # 메서드 연쇄 호출"
      ],
      "metadata": {
        "colab": {
          "base_uri": "https://localhost:8080/"
        },
        "id": "62KElFbK8Sij",
        "outputId": "3544bb3e-a2e1-43e9-f352-89124a5ccdb4"
      },
      "execution_count": null,
      "outputs": [
        {
          "output_type": "execute_result",
          "data": {
            "text/plain": [
              "['안녕', '안녕하세요', 'Hello', 'Python']"
            ]
          },
          "metadata": {},
          "execution_count": 107
        }
      ]
    },
    {
      "cell_type": "code",
      "source": [
        "sentence = '        Hello, Pyrhon!      안녕하세요....      '\n",
        "print(sentence)\n",
        "print(sentence.lstrip())  # lstrip: left strip\n",
        "print(sentance.rstrip())  # right strip\n",
        "print(sentance.strip())"
      ],
      "metadata": {
        "colab": {
          "base_uri": "https://localhost:8080/"
        },
        "id": "GHIP-j0Q9QaX",
        "outputId": "714c84f5-8eab-48a2-ee85-8a283a338cd0"
      },
      "execution_count": null,
      "outputs": [
        {
          "output_type": "stream",
          "name": "stdout",
          "text": [
            "        Hello, Pyrhon!      안녕하세요....      \n",
            "Hello, Pyrhon!      안녕하세요....      \n",
            "        Hello, Pyrhon!      안녕하세요....\n",
            "Hello, Pyrhon!      안녕하세요....\n"
          ]
        }
      ]
    }
  ]
}