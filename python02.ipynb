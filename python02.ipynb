{
  "nbformat": 4,
  "nbformat_minor": 0,
  "metadata": {
    "colab": {
      "provenance": [],
      "toc_visible": true,
      "authorship_tag": "ABX9TyNM4NehwDOkUId3073X9Y+X",
      "include_colab_link": true
    },
    "kernelspec": {
      "name": "python3",
      "display_name": "Python 3"
    },
    "language_info": {
      "name": "python"
    }
  },
  "cells": [
    {
      "cell_type": "markdown",
      "metadata": {
        "id": "view-in-github",
        "colab_type": "text"
      },
      "source": [
        "<a href=\"https://colab.research.google.com/github/ttjjdddduuqq/0913/blob/main/python02.ipynb\" target=\"_parent\"><img src=\"https://colab.research.google.com/assets/colab-badge.svg\" alt=\"Open In Colab\"/></a>"
      ]
    },
    {
      "cell_type": "markdown",
      "source": [
        "#파이썬 자료 형(Python Data Type)"
      ],
      "metadata": {
        "id": "401agrk2bQvY"
      }
    },
    {
      "cell_type": "markdown",
      "source": [
        "\n",
        "\n",
        "*   숫자 타입\n",
        "    *  정수: int\n",
        "    *  실수: float\n",
        "*   문자열 타입: str\n",
        "*   논리 타입: bool\n",
        "\n"
      ],
      "metadata": {
        "id": "e1RvKABubX22"
      }
    },
    {
      "cell_type": "code",
      "execution_count": null,
      "metadata": {
        "colab": {
          "base_uri": "https://localhost:8080/"
        },
        "id": "1W0SzU4KaRpx",
        "outputId": "4f3d5272-4dee-4951-d51d-10c2a1dd1132"
      },
      "outputs": [
        {
          "output_type": "stream",
          "name": "stdout",
          "text": [
            "123\n",
            "<class 'int'>\n"
          ]
        }
      ],
      "source": [
        "# 변수 n에 정수 123을 저장\n",
        "n = 123\n",
        "# 변수 n을 출력\n",
        "print(n)\n",
        "# 변수 n의 타입을 출력\n",
        "print(type(n))"
      ]
    },
    {
      "cell_type": "code",
      "source": [
        "pi = 3.141592  # 변수 pi에 값 3.141592를 저장(할당)\n",
        "print(pi)  # 변수 pi에 할당된 값을 출력 / ('pi') =  문자열 pi\n",
        "print(type(pi)) # 변수  pi의 타입의 출력"
      ],
      "metadata": {
        "colab": {
          "base_uri": "https://localhost:8080/"
        },
        "id": "HNShj6XDdpNu",
        "outputId": "079e28a0-56a5-476e-bb67-8c5b97869d7d"
      },
      "execution_count": null,
      "outputs": [
        {
          "output_type": "stream",
          "name": "stdout",
          "text": [
            "3.141592\n",
            "<class 'float'>\n"
          ]
        }
      ]
    },
    {
      "cell_type": "code",
      "source": [
        "s = '안녕하세요'\n",
        "print(s)\n",
        "print(type(s))"
      ],
      "metadata": {
        "colab": {
          "base_uri": "https://localhost:8080/"
        },
        "id": "Uujz20peeZvu",
        "outputId": "0aa47cb3-d069-4855-aaa5-81f3b630b31a"
      },
      "execution_count": null,
      "outputs": [
        {
          "output_type": "stream",
          "name": "stdout",
          "text": [
            "안녕하세요\n",
            "<class 'str'>\n"
          ]
        }
      ]
    },
    {
      "cell_type": "markdown",
      "source": [
        "논리 타입: 참(Ttrue) 또는 거짓(False)을 저장하는 타입. 예약어(keyword)는 대소문자 구문"
      ],
      "metadata": {
        "id": "rrpo1Ggme2VH"
      }
    },
    {
      "cell_type": "code",
      "source": [
        "  b = False\n",
        "  print(b)\n",
        "  print(type(b))"
      ],
      "metadata": {
        "colab": {
          "base_uri": "https://localhost:8080/"
        },
        "id": "4ndopo1lezlG",
        "outputId": "d76d95b4-cbc4-4749-a4ec-cd60038e9cec"
      },
      "execution_count": null,
      "outputs": [
        {
          "output_type": "stream",
          "name": "stdout",
          "text": [
            "False\n",
            "<class 'bool'>\n"
          ]
        }
      ]
    },
    {
      "cell_type": "code",
      "source": [
        "b = 10 < 5\n",
        "print(b)"
      ],
      "metadata": {
        "colab": {
          "base_uri": "https://localhost:8080/"
        },
        "id": "M9smPaQCgGfe",
        "outputId": "ff255416-281b-429f-daa7-9322ea0671bc"
      },
      "execution_count": null,
      "outputs": [
        {
          "output_type": "stream",
          "name": "stdout",
          "text": [
            "False\n"
          ]
        }
      ]
    },
    {
      "cell_type": "markdown",
      "source": [
        " # 명시적 타입 변환(explicit type conversion)"
      ],
      "metadata": {
        "id": "TYFy-faWg_Uu"
      }
    },
    {
      "cell_type": "markdown",
      "source": [
        "# 새 섹션"
      ],
      "metadata": {
        "id": "w82frcjw_aj6"
      }
    },
    {
      "cell_type": "markdown",
      "source": [
        "* `int(arg)` : 아규먼트로 전달된 값을 정수로 변환하는 함수.\n",
        "   * 문자열을  -> 정수\n",
        "   * 실수 -> 정수\n",
        "* `float(arg)` : 아규먼트로 전달된 값을 실수로 변환하는 함수.\n",
        "    * 문자열 -> 정수\n",
        "    * 정수 -> 실수\n",
        "* `str(arg)` : 아규먼트로 전달된 값을 문자열로 변환하는 함수.\n",
        "    * 정수, 실수, ... -> 문자열"
      ],
      "metadata": {
        "id": "IL98Wt6thN62"
      }
    },
    {
      "cell_type": "code",
      "source": [
        "num_str = '1004'\n",
        "print(type(num_str)) # str\n",
        "num = int(num_str) # 문자열을 정수로 변환해서 변수 num에 저장(할당)\n",
        "print(type(num))\n",
        "print(num)"
      ],
      "metadata": {
        "colab": {
          "base_uri": "https://localhost:8080/"
        },
        "id": "87czKB2zicHe",
        "outputId": "5c54655e-111b-42ff-a5eb-a63e9bc2a0a7"
      },
      "execution_count": null,
      "outputs": [
        {
          "output_type": "stream",
          "name": "stdout",
          "text": [
            "<class 'str'>\n",
            "<class 'int'>\n",
            "1004\n"
          ]
        }
      ]
    },
    {
      "cell_type": "code",
      "source": [
        "pi_int = int(pi)\n",
        "print(type(pi_int))\n",
        "print(pi_int)"
      ],
      "metadata": {
        "colab": {
          "base_uri": "https://localhost:8080/"
        },
        "id": "Cg73-Ze3jfDf",
        "outputId": "acafcb36-1d6f-4a1b-ed85-961c10b3f894"
      },
      "execution_count": null,
      "outputs": [
        {
          "output_type": "stream",
          "name": "stdout",
          "text": [
            "<class 'int'>\n",
            "3\n"
          ]
        }
      ]
    },
    {
      "cell_type": "markdown",
      "source": [
        "# 연산자(operator)"
      ],
      "metadata": {
        "id": "CvTe3F5bo-dI"
      }
    },
    {
      "cell_type": "markdown",
      "source": [
        "## 할당 연산자(assignment operator)\n",
        "\n",
        "* '=' : 오른쪽의 값을 왼쪽의 변수에 할당(저장)"
      ],
      "metadata": {
        "id": "rDyiGts4pIGW"
      }
    },
    {
      "cell_type": "markdown",
      "source": [
        "## 산술 연산자(arithmetic operator)\n",
        "\n",
        "* 종류: `+, -, *, /, **, //, %      # **거듭제곱(ex 10 ** 3 = 10의3승  // 나눈 몫만  % 나눈 나머지만`\n",
        "* 산숭 연산자는 일반적으로 숫자 타입(int, float)의 값에서 사용가능.\n",
        "* 일부 산술 연산자는 문자열과 같은 타입에서도 사용 가능."
      ],
      "metadata": {
        "id": "jLkW-bbapyAH"
      }
    },
    {
      "cell_type": "code",
      "source": [
        "x, y = 10, 3\n",
        "print(f'{x} + {y} = {x+y}')\n",
        "print(f'{x} - {y} = {x-y}')\n",
        "print(f'{x} x {y} = {x*y}')\n",
        "print(f'{x} / {y} = {x/y}')\n",
        "print(f'{x}의 {y} 제곱 = {x ** y}')\n",
        "print(f'{x}를 {y}로 나눈 몫 = {x // y}')\n",
        "print(f'{x}를 {y}로 나눈 나머지 = {x % y}')"
      ],
      "metadata": {
        "colab": {
          "base_uri": "https://localhost:8080/"
        },
        "id": "SwIlfvbhq2Gv",
        "outputId": "106bada5-e853-4b37-9943-2cf5d36a41be"
      },
      "execution_count": null,
      "outputs": [
        {
          "output_type": "stream",
          "name": "stdout",
          "text": [
            "10 + 3 = 13\n",
            "10 - 3 = 7\n",
            "10 x 3 = 30\n",
            "10 / 3 = 3.3333333333333335\n",
            "10의 3 제곱 = 1000\n",
            "10를 3로 나눈 몫 = 3\n",
            "10를 3로 나눈 나머지 = 2\n"
          ]
        }
      ]
    },
    {
      "cell_type": "markdown",
      "source": [],
      "metadata": {
        "id": "TZqRjpEaqDc3"
      }
    },
    {
      "cell_type": "markdown",
      "source": [
        "문자열(str)에서 사용할 수 있는 산술 연산자\n",
        "\n",
        "* `+`: concatenate. 문자열 이어붙이기\n",
        "* `*`: replicate. 문자열 복제"
      ],
      "metadata": {
        "id": "yP-EbTwHtqe3"
      }
    },
    {
      "cell_type": "code",
      "source": [
        "'Hello' + 'Python' # 문자열 + 문자열"
      ],
      "metadata": {
        "colab": {
          "base_uri": "https://localhost:8080/",
          "height": 35
        },
        "id": "n-NootDGuBpX",
        "outputId": "f753ddc7-23be-486a-a653-f9d3994b45f7"
      },
      "execution_count": null,
      "outputs": [
        {
          "output_type": "execute_result",
          "data": {
            "text/plain": [
              "'Hello Python'"
            ],
            "application/vnd.google.colaboratory.intrinsic+json": {
              "type": "string"
            }
          },
          "metadata": {},
          "execution_count": 39
        }
      ]
    },
    {
      "cell_type": "code",
      "source": [
        "'Hello' * 5  # 문자열 * 정수"
      ],
      "metadata": {
        "colab": {
          "base_uri": "https://localhost:8080/",
          "height": 35
        },
        "id": "DyFmG3jjuusX",
        "outputId": "9a6bdb07-84c1-4ee9-b9fd-97b417483607"
      },
      "execution_count": null,
      "outputs": [
        {
          "output_type": "execute_result",
          "data": {
            "text/plain": [
              "'HelloHelloHelloHelloHello'"
            ],
            "application/vnd.google.colaboratory.intrinsic+json": {
              "type": "string"
            }
          },
          "metadata": {},
          "execution_count": 43
        }
      ]
    },
    {
      "cell_type": "code",
      "source": [
        "'안녕' + str(1)  #'안녕' + '1'"
      ],
      "metadata": {
        "colab": {
          "base_uri": "https://localhost:8080/",
          "height": 35
        },
        "id": "mjYhme-YvF3X",
        "outputId": "e34f8ae1-b0e7-4dea-feb8-4418f4f4d675"
      },
      "execution_count": null,
      "outputs": [
        {
          "output_type": "execute_result",
          "data": {
            "text/plain": [
              "'안녕1'"
            ],
            "application/vnd.google.colaboratory.intrinsic+json": {
              "type": "string"
            }
          },
          "metadata": {},
          "execution_count": 47
        }
      ]
    },
    {
      "cell_type": "markdown",
      "source": [
        "## 비교 연산자, 논리 연산자\n",
        "\n",
        "* 비교 연산자: `==, !=, >, >=, <, <=`\n",
        "* 논리 연산자: `and, or, not`"
      ],
      "metadata": {
        "id": "MgBBHrZ2v1oI"
      }
    },
    {
      "cell_type": "code",
      "source": [
        "x, y = 100, 200\n",
        "print(x == y)  # equal to\n",
        "print(x != y)  # not equal to\n",
        "print(x < y)  #greater than\n",
        "print(x > y)  #less than"
      ],
      "metadata": {
        "colab": {
          "base_uri": "https://localhost:8080/"
        },
        "id": "uP0PfXjYw7lA",
        "outputId": "d7804a56-10b1-4027-f5b3-297878ba3bcd"
      },
      "execution_count": null,
      "outputs": [
        {
          "output_type": "stream",
          "name": "stdout",
          "text": [
            "False\n",
            "True\n",
            "True\n",
            "False\n"
          ]
        }
      ]
    },
    {
      "cell_type": "code",
      "source": [
        "print((x > 50) and (x <150))\n",
        "print(x > 100) and (x <200)"
      ],
      "metadata": {
        "colab": {
          "base_uri": "https://localhost:8080/"
        },
        "id": "OhJKM35Exkhv",
        "outputId": "b003b755-55da-4aec-a4bd-0ca183f3a4ae"
      },
      "execution_count": null,
      "outputs": [
        {
          "output_type": "stream",
          "name": "stdout",
          "text": [
            "True\n",
            "False\n"
          ]
        }
      ]
    },
    {
      "cell_type": "markdown",
      "source": [
        "##복합 할당 연산자\n",
        "\n",
        "* 종류: `+=, -=, *=, /=, **=, //=, &=, ...`\n",
        "* 산술 연산자와 할당 연산자를 합쳐서 만들어진 연산자."
      ],
      "metadata": {
        "id": "MJLx-6Zf3PCw"
      }
    },
    {
      "cell_type": "code",
      "source": [
        "x = 10\n",
        "print(x)\n",
        "x = x + 1\n",
        "print(x)"
      ],
      "metadata": {
        "colab": {
          "base_uri": "https://localhost:8080/"
        },
        "id": "fu8PqooN3zIQ",
        "outputId": "d5a1f05e-3946-462b-ffc1-b947d7ca3694"
      },
      "execution_count": null,
      "outputs": [
        {
          "output_type": "stream",
          "name": "stdout",
          "text": [
            "10\n",
            "11\n"
          ]
        }
      ]
    },
    {
      "cell_type": "code",
      "source": [
        "x = 10\n",
        "print(x)\n",
        "x += 1    # (1) x + 1 계산 (2) (1)의 결과를 변수 x에 저장\n",
        "print(x)"
      ],
      "metadata": {
        "colab": {
          "base_uri": "https://localhost:8080/"
        },
        "id": "kHmLCC9w46o4",
        "outputId": "255dfcf3-5048-4995-f99a-2a1ae472e486"
      },
      "execution_count": null,
      "outputs": [
        {
          "output_type": "stream",
          "name": "stdout",
          "text": [
            "10\n",
            "11\n"
          ]
        }
      ]
    },
    {
      "cell_type": "markdown",
      "source": [
        "# 콘솔 입력"
      ],
      "metadata": {
        "id": "uYXLipR85_9o"
      }
    },
    {
      "cell_type": "code",
      "source": [
        "name = input('이름을 입력>>>')  #input 은 항상 문자열\n",
        "print(type(name))\n",
        "print(f'안녕하세요, {name}!')"
      ],
      "metadata": {
        "colab": {
          "base_uri": "https://localhost:8080/"
        },
        "id": "jUjIhXwx6Cgw",
        "outputId": "9977ca43-61d6-4a02-9adc-5dd79aa75816"
      },
      "execution_count": null,
      "outputs": [
        {
          "output_type": "stream",
          "name": "stdout",
          "text": [
            "이름을 입력>>>aaaa\n",
            "<class 'str'>\n",
            "안녕하세요, aaaa!\n"
          ]
        }
      ]
    },
    {
      "cell_type": "markdown",
      "source": [
        "연습문제:\n",
        "* 섭씨 온도를 입력받아서, 화씨 온도로 변환 후 출력하는 코드를 작성.\n",
        "* `화씨 = 섭씨 * 1.8 + 32`"
      ],
      "metadata": {
        "id": "NGxKPWIl8SP4"
      }
    },
    {
      "cell_type": "code",
      "source": [
        "celcius = float(input('섭씨 온도 입력>>>'))\n",
        "print(f'섭씨 {celcius}')\n",
        "fahrenheit = celcius * 1.8 + 32\n",
        "print(f'화씨 {fahrenheit}')"
      ],
      "metadata": {
        "colab": {
          "base_uri": "https://localhost:8080/"
        },
        "id": "-R1vtgqvKgWh",
        "outputId": "e7fa44f1-8768-4c4a-aa8b-f358ad6a2a2a"
      },
      "execution_count": null,
      "outputs": [
        {
          "output_type": "stream",
          "name": "stdout",
          "text": [
            "섭씨 온도 입력>>>90\n",
            "섭씨 90.0\n",
            "화씨 194.0\n"
          ]
        }
      ]
    }
  ]
}