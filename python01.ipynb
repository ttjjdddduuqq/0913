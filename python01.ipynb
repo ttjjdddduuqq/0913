{
  "nbformat": 4,
  "nbformat_minor": 0,
  "metadata": {
    "colab": {
      "provenance": [],
      "authorship_tag": "ABX9TyNR8UzgfMmG7oMlpKBBA5G+",
      "include_colab_link": true
    },
    "kernelspec": {
      "name": "python3",
      "display_name": "Python 3"
    },
    "language_info": {
      "name": "python"
    }
  },
  "cells": [
    {
      "cell_type": "markdown",
      "metadata": {
        "id": "view-in-github",
        "colab_type": "text"
      },
      "source": [
        "<a href=\"https://colab.research.google.com/github/ttjjdddduuqq/0913/blob/main/python01.ipynb\" target=\"_parent\"><img src=\"https://colab.research.google.com/assets/colab-badge.svg\" alt=\"Open In Colab\"/></a>"
      ]
    },
    {
      "cell_type": "markdown",
      "source": [
        "# 파이썬 소개"
      ],
      "metadata": {
        "id": "0L7IzxiaqrTN"
      }
    },
    {
      "cell_type": "code",
      "execution_count": null,
      "metadata": {
        "colab": {
          "base_uri": "https://localhost:8080/"
        },
        "id": "V6eO1UG0oYfM",
        "outputId": "a1f20af7-470e-428f-ccc0-ee9a9b84948a"
      },
      "outputs": [
        {
          "output_type": "stream",
          "name": "stdout",
          "text": [
            "안녕하세요!\n"
          ]
        }
      ],
      "source": [
        "print('안녕하세요!')"
      ]
    },
    {
      "cell_type": "markdown",
      "source": [
        "## 파이썬 버전 확인"
      ],
      "metadata": {
        "id": "Ca4Ff-rwrevM"
      }
    },
    {
      "cell_type": "code",
      "source": [
        "import sys #sys 모듈을 사용.\n",
        "print(sys. version)"
      ],
      "metadata": {
        "colab": {
          "base_uri": "https://localhost:8080/"
        },
        "id": "WoHzcaPtsF18",
        "outputId": "ac6d82b2-da31-4cb3-fdb1-b05c65c4e426"
      },
      "execution_count": null,
      "outputs": [
        {
          "output_type": "stream",
          "name": "stdout",
          "text": [
            "3.11.12 (main, Apr  9 2025, 08:55:54) [GCC 11.4.0]\n"
          ]
        }
      ]
    },
    {
      "cell_type": "markdown",
      "source": [
        "## 여러가지 print 방법"
      ],
      "metadata": {
        "id": "wWCv1GaryxC1"
      }
    },
    {
      "cell_type": "code",
      "source": [
        "print(\"Hello, 파이썬!\")\n",
        "# 파이썬은 문자열을 작은따옴표('') 또는 큰따옴표(\"\")를 사용,"
      ],
      "metadata": {
        "colab": {
          "base_uri": "https://localhost:8080/"
        },
        "id": "q9N72Maqy3HU",
        "outputId": "d9963c6a-77ea-4d7a-fc3b-9e6e36209c67"
      },
      "execution_count": null,
      "outputs": [
        {
          "output_type": "stream",
          "name": "stdout",
          "text": [
            "Hello, 파이썬!\n"
          ]
        }
      ]
    },
    {
      "cell_type": "code",
      "source": [
        "print(\"I'm a boy.\")"
      ],
      "metadata": {
        "colab": {
          "base_uri": "https://localhost:8080/"
        },
        "id": "0vnAvJy9z-QV",
        "outputId": "36e9a949-d0c3-44a6-f65e-89e3a3f97b0c"
      },
      "execution_count": null,
      "outputs": [
        {
          "output_type": "stream",
          "name": "stdout",
          "text": [
            "I'm a boy.\n"
          ]
        }
      ]
    },
    {
      "cell_type": "code",
      "source": [
        "print('I\\'m a girl.')"
      ],
      "metadata": {
        "colab": {
          "base_uri": "https://localhost:8080/"
        },
        "id": "sAAylKvy0zKV",
        "outputId": "8e3d6b31-95d7-4afa-bc15-3876d527fb69"
      },
      "execution_count": null,
      "outputs": [
        {
          "output_type": "stream",
          "name": "stdout",
          "text": [
            "I'm a girl.\n"
          ]
        }
      ]
    },
    {
      "cell_type": "code",
      "source": [
        "print('Hello','안녕','Bon Jour')"
      ],
      "metadata": {
        "colab": {
          "base_uri": "https://localhost:8080/"
        },
        "id": "ZvxdUUhI1fNs",
        "outputId": "6df16cc3-5604-4ba9-f496-f2718efabae6"
      },
      "execution_count": null,
      "outputs": [
        {
          "output_type": "stream",
          "name": "stdout",
          "text": [
            "Hello 안녕 Bon Jour\n"
          ]
        }
      ]
    },
    {
      "cell_type": "markdown",
      "source": [
        "`print()` 함수는 아규먼트(argument)로 전달된 문자열을 화면(콘솔)에 출력.\n",
        "\n",
        "`print()` 함수에 아규먼트 여러개를 전달하면, 각각의 값들을 공백으로 연결해서 출력.\n",
        "\n"
      ],
      "metadata": {
        "id": "quGZBtY714A1"
      }
    },
    {
      "cell_type": "code",
      "source": [
        "print(1,2,3)"
      ],
      "metadata": {
        "colab": {
          "base_uri": "https://localhost:8080/"
        },
        "id": "pPN0szk-3cTl",
        "outputId": "43c400b7-132a-4e62-9b11-508ecac18e95"
      },
      "execution_count": null,
      "outputs": [
        {
          "output_type": "stream",
          "name": "stdout",
          "text": [
            "1 2 3\n"
          ]
        }
      ]
    },
    {
      "cell_type": "code",
      "source": [
        "print(1+2)"
      ],
      "metadata": {
        "colab": {
          "base_uri": "https://localhost:8080/"
        },
        "id": "aE6NlHNi3qaO",
        "outputId": "2ab7efac-ae75-43b7-9dac-b0cdc52f8423"
      },
      "execution_count": null,
      "outputs": [
        {
          "output_type": "stream",
          "name": "stdout",
          "text": [
            "3\n"
          ]
        }
      ]
    },
    {
      "cell_type": "code",
      "source": [
        "print(1, '+', 2, '=', 1+2)"
      ],
      "metadata": {
        "colab": {
          "base_uri": "https://localhost:8080/"
        },
        "id": "lMDQ5I2S4axE",
        "outputId": "1ba02313-624d-4b2e-e804-f8e8219d15ad"
      },
      "execution_count": null,
      "outputs": [
        {
          "output_type": "stream",
          "name": "stdout",
          "text": [
            "1 + 2 = 3\n"
          ]
        }
      ]
    },
    {
      "cell_type": "markdown",
      "source": [
        "placeholder 문자열과 `format()` 함수를 사용한 print"
      ],
      "metadata": {
        "id": "3OrkDIZ943CF"
      }
    },
    {
      "cell_type": "code",
      "source": [
        "print('{} + {} = {}'. format(1, 2, 1 + 2))"
      ],
      "metadata": {
        "colab": {
          "base_uri": "https://localhost:8080/"
        },
        "id": "hWpvgIfO4lSO",
        "outputId": "d9e74c9b-7868-4661-c17b-d13eb8d5b562"
      },
      "execution_count": null,
      "outputs": [
        {
          "output_type": "stream",
          "name": "stdout",
          "text": [
            "1 + 2 = 3\n"
          ]
        }
      ]
    },
    {
      "cell_type": "code",
      "source": [
        "print('{x} + {y} = {z}'.format(x=123, y=456, z=123+456))"
      ],
      "metadata": {
        "colab": {
          "base_uri": "https://localhost:8080/"
        },
        "id": "uozNekDZ6nxm",
        "outputId": "2283c7c1-b2ed-40ee-ec18-ad20567cf9c1"
      },
      "execution_count": null,
      "outputs": [
        {
          "output_type": "stream",
          "name": "stdout",
          "text": [
            "123 + 456 = 579\n"
          ]
        }
      ]
    },
    {
      "cell_type": "markdown",
      "source": [
        "##변수 선언, 초기화\n",
        "\n",
        "\n",
        "*   변수(variable): 값을 저장하는 메모리 공간.\n",
        "*   문법\n",
        "```\n",
        "변수이름 = 값\n",
        "```\n",
        "\n"
      ],
      "metadata": {
        "id": "GQda8d6NMZEv"
      }
    },
    {
      "cell_type": "code",
      "source": [
        " a = 10 # 변수 a에 값 10을 할당(저장)\n",
        " b = 20 # 변수 b에 값 20을 할당\n",
        " print('a =', a)\n",
        "print('b =', b)"
      ],
      "metadata": {
        "colab": {
          "base_uri": "https://localhost:8080/"
        },
        "id": "6iUMU7ZwMWwG",
        "outputId": "a06cea4d-e272-41ae-caf3-f42c0d48bdac"
      },
      "execution_count": null,
      "outputs": [
        {
          "output_type": "stream",
          "name": "stdout",
          "text": [
            "a = 10\n",
            "b = 20\n"
          ]
        }
      ]
    },
    {
      "cell_type": "code",
      "source": [
        "print('{} + {} = {}'. format(a, b, a+b))"
      ],
      "metadata": {
        "colab": {
          "base_uri": "https://localhost:8080/"
        },
        "id": "2fyUb2-lOIuP",
        "outputId": "0857f2e8-438d-4187-a8f9-d9cf504ff321"
      },
      "execution_count": null,
      "outputs": [
        {
          "output_type": "stream",
          "name": "stdout",
          "text": [
            "10 + 20 = 30\n"
          ]
        }
      ]
    },
    {
      "cell_type": "markdown",
      "source": [
        "formatted string(문자열)\n",
        "\n",
        "*파이썬 3.6버전부터 제공되는 문법\n",
        "*문법\n",
        "```\n",
        "f '{변수이름} 문자열 작성 {변수이름}'\n",
        "```"
      ],
      "metadata": {
        "id": "j3MwGwm6PVgP"
      }
    },
    {
      "cell_type": "code",
      "source": [],
      "metadata": {
        "id": "oY5wJbVEP2bX"
      },
      "execution_count": null,
      "outputs": []
    },
    {
      "cell_type": "code",
      "source": [
        "print(f'{a} + {b} = {a+b}')"
      ],
      "metadata": {
        "colab": {
          "base_uri": "https://localhost:8080/"
        },
        "id": "AsSb9BpBOwP3",
        "outputId": "50b86724-282c-4f99-b1ad-8744f292385c"
      },
      "execution_count": null,
      "outputs": [
        {
          "output_type": "stream",
          "name": "stdout",
          "text": [
            "10 + 20 = 30\n"
          ]
        }
      ]
    },
    {
      "cell_type": "code",
      "source": [
        "print(f'{a} x {b} = {a*b} ')"
      ],
      "metadata": {
        "colab": {
          "base_uri": "https://localhost:8080/"
        },
        "id": "CxRQZ8EfP5cX",
        "outputId": "9fde41e0-7875-4b0f-e91f-76b75dbc9e7c"
      },
      "execution_count": null,
      "outputs": [
        {
          "output_type": "stream",
          "name": "stdout",
          "text": [
            "10 x 20 = 200 \n"
          ]
        }
      ]
    },
    {
      "cell_type": "markdown",
      "source": [],
      "metadata": {
        "id": "q-GrffA0QphP"
      }
    },
    {
      "cell_type": "markdown",
      "source": [
        "## `print()` 함수의 파라미터(parameter)\n",
        "*`sep` : separator. 아규먼트와 아큐먼트를 구분하는 구분자. 기본값은 공백 1개(' ').\n",
        "* `end`  : 아규먼트를 출력한 다음에 마지막에 첨부하는 문자열. 기본값은 줄바꿈('\\n)\n",
        "*이탤릭체 텍스트*"
      ],
      "metadata": {
        "id": "vLxRhED3QtBu"
      }
    },
    {
      "cell_type": "code",
      "source": [
        "print(1,2,3)"
      ],
      "metadata": {
        "id": "Fwi9eLrOKtJk",
        "outputId": "57b2bf15-8ed5-48f6-c1f2-657ecae75632",
        "colab": {
          "base_uri": "https://localhost:8080/"
        }
      },
      "execution_count": null,
      "outputs": [
        {
          "output_type": "stream",
          "name": "stdout",
          "text": [
            "1 2 3\n"
          ]
        }
      ]
    },
    {
      "cell_type": "code",
      "source": [
        "print(1, 2, 3, sep=',')"
      ],
      "metadata": {
        "colab": {
          "base_uri": "https://localhost:8080/"
        },
        "id": "AdFdGWEwReG3",
        "outputId": "741e7d99-8ec6-41d5-83bf-5586f2e08b21"
      },
      "execution_count": null,
      "outputs": [
        {
          "output_type": "stream",
          "name": "stdout",
          "text": [
            "1,2,3\n"
          ]
        }
      ]
    },
    {
      "cell_type": "code",
      "source": [
        "print('안녕하세요.')\n",
        "print('여러분.')"
      ],
      "metadata": {
        "colab": {
          "base_uri": "https://localhost:8080/"
        },
        "id": "8CRmdj3vSk3w",
        "outputId": "06b44e40-6766-4de2-dfb0-efd84a31a8ce"
      },
      "execution_count": null,
      "outputs": [
        {
          "output_type": "stream",
          "name": "stdout",
          "text": [
            "안녕하세요.\n",
            "여러분.\n"
          ]
        }
      ]
    },
    {
      "cell_type": "code",
      "source": [
        "print('안녕하세요.', end='::')\n",
        "print('여러분')"
      ],
      "metadata": {
        "colab": {
          "base_uri": "https://localhost:8080/"
        },
        "id": "5vI3FG6qTU7Q",
        "outputId": "add3b90b-2664-427a-ea97-2f29dd7e291d"
      },
      "execution_count": null,
      "outputs": [
        {
          "output_type": "stream",
          "name": "stdout",
          "text": [
            "안녕하세요.::여러분\n"
          ]
        }
      ]
    },
    {
      "cell_type": "markdown",
      "source": [
        "## escpae 문자열\n",
        "* `'\\n'` : 줄바꿈(new line)\n",
        "* `'\\t'` : 탭(tab)"
      ],
      "metadata": {
        "id": "69qS8MVYUIuo"
      }
    },
    {
      "cell_type": "code",
      "source": [
        "print('안녕하세요\\n여러분')"
      ],
      "metadata": {
        "colab": {
          "base_uri": "https://localhost:8080/"
        },
        "id": "n44Nf36LUtO_",
        "outputId": "ceea4c0e-2b25-4c24-f58d-424f5b519175"
      },
      "execution_count": null,
      "outputs": [
        {
          "output_type": "stream",
          "name": "stdout",
          "text": [
            "안녕하세요\n",
            "여러분\n"
          ]
        }
      ]
    },
    {
      "cell_type": "code",
      "source": [
        "print('안녕하세요\\t여러분')"
      ],
      "metadata": {
        "colab": {
          "base_uri": "https://localhost:8080/"
        },
        "id": "35xPNVP2VJp_",
        "outputId": "fc285571-eb75-4ad5-a9d0-8e45e5dce2ce"
      },
      "execution_count": null,
      "outputs": [
        {
          "output_type": "stream",
          "name": "stdout",
          "text": [
            "안녕하세요\t여러분\n"
          ]
        }
      ]
    }
  ]
}