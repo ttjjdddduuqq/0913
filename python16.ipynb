{
  "nbformat": 4,
  "nbformat_minor": 0,
  "metadata": {
    "colab": {
      "provenance": [],
      "mount_file_id": "1MdPG6zntZuT8jy2dezQWNhL8ZmNYgdJ6",
      "authorship_tag": "ABX9TyPoby0kptRTynWiPsUjI+9U",
      "include_colab_link": true
    },
    "kernelspec": {
      "name": "python3",
      "display_name": "Python 3"
    },
    "language_info": {
      "name": "python"
    }
  },
  "cells": [
    {
      "cell_type": "markdown",
      "metadata": {
        "id": "view-in-github",
        "colab_type": "text"
      },
      "source": [
        "<a href=\"https://colab.research.google.com/github/ttjjdddduuqq/0913/blob/main/python16.ipynb\" target=\"_parent\"><img src=\"https://colab.research.google.com/assets/colab-badge.svg\" alt=\"Open In Colab\"/></a>"
      ]
    },
    {
      "cell_type": "markdown",
      "source": [
        "# 파일 쓰기(file write)"
      ],
      "metadata": {
        "id": "euGXWac9DlTE"
      }
    },
    {
      "cell_type": "markdown",
      "source": [
        "1. 파일 열기(file open)\n",
        "2. 파일 쓰기(file write)\n",
        "3. 파일 닫기(file close)\n",
        "\n",
        "```\n",
        "open(file, mode, ...)\n",
        "```\n",
        "*   file: 폴더(디렉토리) 이름을 포함한 전체 파일 이름(경로)\n",
        "    *   폴더 이름 없이 파일 이름만 사용한 경우에는 현재 작업 폴더의 파일을 의미함.\n",
        "*   mode:\n",
        "    *   'r' : read. 읽기 모드. 기본값.\n",
        "    *   'w' : write. 쓰기 모드. 기존에 작성된 모든 내용이 지워지고 처음부터 새로 쓰기 시작.\n",
        "    *   'a' : append. 추가 모드. 기존에 작성된 내용 뒤에 이어서 쓰기.\n",
        "    *   't' : text. 텍스트 모드. 읽기/쓰기에서 텍스트(문자열)을 읽기/쓰기. 기본값. (텍스트 읽기 - 기본값)\n",
        "    *   'b' : binary. 이진 모드. 읽기/쓰기에서 이진 데이터(mp4, mp3, jpg, png, pdf, ...)를 읽기/쓰기."
      ],
      "metadata": {
        "id": "amiUE1q7DpwT"
      }
    },
    {
      "cell_type": "code",
      "execution_count": null,
      "metadata": {
        "id": "gZeS8lGPDgzb"
      },
      "outputs": [],
      "source": [
        "# 1. 파일 열기\n",
        "f = open(file='hello.txt', mode='w')  # 현재 폴더의 hello.txt 파일을 쓰기 모드로 열어서 파일 객체를 리턴.\n",
        "# mode = 'wt' 와 mode='w'는 같은 내용\n",
        "\n",
        "# 2. 파일 내용 작성\n",
        "f.write('hello, python!\\n')\n",
        "f.write('안녕하세요, 파이썬!\\n')\n",
        "f.write('010-0000-0000\\n')\n",
        "\n",
        "# 3. 파일 닫기\n",
        "f.close()"
      ]
    },
    {
      "cell_type": "code",
      "source": [
        "# with open() as 변수:\n",
        "with open(file='hello2.txt', mode='w') as f:\n",
        "    f.write('안녕하세요\\n')\n",
        "    f.write('파이썬 파일 쓰기 기능...\\n')\n",
        "    # with-as 블록이 끝나면 파일 객체(f)의 close() 메서드는 자동으로 호출됨."
      ],
      "metadata": {
        "id": "7CSBaJ9JIji0"
      },
      "execution_count": null,
      "outputs": []
    },
    {
      "cell_type": "markdown",
      "source": [
        "파일을 open할 때 mode 파라미터 값을  'w' 또는  'a' 로 설정하는 경우에\n",
        "*   파일이 없으면, 새로운 파일을 만듦.\n",
        "*   파일이 있으면, 기존 파일을 열어줌.\n",
        "\n",
        "파일을 open할 때 mode 파라미터 값이 'r'인 경우, 파일 없으면 에러가 발생."
      ],
      "metadata": {
        "id": "XOBIffwJKw78"
      }
    },
    {
      "cell_type": "markdown",
      "source": [
        "# 파일 읽기 (file read)"
      ],
      "metadata": {
        "id": "eTIa-vDdLj8L"
      }
    },
    {
      "cell_type": "markdown",
      "source": [
        "1. 파일 열기(open)\n",
        "2. 파일 읽기(read)\n",
        "3. 파일 닫기(close)\n",
        "\n",
        "with-as 구문을 사용하면 파일 닫기(close) 메서드는 자동으로 호출됨."
      ],
      "metadata": {
        "id": "Kh7jAtDkLoeE"
      }
    },
    {
      "cell_type": "code",
      "source": [
        "with open('hello.txt') as f:  # 현재 폴더의 hello.txt 파일을 읽기 모드(r)로 열기\n",
        "    line = f.readline()\n",
        "    print(line.strip())\n",
        "    line = f.readline()\n",
        "    print(line.strip())"
      ],
      "metadata": {
        "colab": {
          "base_uri": "https://localhost:8080/"
        },
        "id": "KG1Q2eIYMA4k",
        "outputId": "d66f2518-7029-4f5e-93fa-84fce0de5807"
      },
      "execution_count": null,
      "outputs": [
        {
          "output_type": "stream",
          "name": "stdout",
          "text": [
            "hello, python!\n",
            "안녕하세요, 파이썬!\n"
          ]
        }
      ]
    },
    {
      "cell_type": "markdown",
      "source": [
        "for-in 구문에서 파일 객체를 사용할 수 있음.\n",
        "~~~\n",
        "for 변수 in file:\n",
        "    블록\n",
        "~~~\n",
        "file의 첫번쨰 줄부터 마지막 줄까지 한 줄씩 읽어서 변수에 할당"
      ],
      "metadata": {
        "id": "DBrmR4s5N6mM"
      }
    },
    {
      "cell_type": "code",
      "source": [
        "with open('hello.txt') as f:\n",
        "    for line in f:\n",
        "        print(line.strip())"
      ],
      "metadata": {
        "colab": {
          "base_uri": "https://localhost:8080/"
        },
        "id": "qv_--ZO5Nf2V",
        "outputId": "8b4e3b27-a65b-4e4f-a1a3-28ad6d89db1a"
      },
      "execution_count": null,
      "outputs": [
        {
          "output_type": "stream",
          "name": "stdout",
          "text": [
            "hello, python!\n",
            "안녕하세요, 파이썬!\n",
            "010-0000-0000\n"
          ]
        }
      ]
    },
    {
      "cell_type": "markdown",
      "source": [
        "# Google Drive에서 파일 쓰기/읽기"
      ],
      "metadata": {
        "id": "0InsrObGTtQ1"
      }
    },
    {
      "cell_type": "markdown",
      "source": [
        "## Google Drive에 파일 쓰기\n"
      ],
      "metadata": {
        "id": "V2tbZSMEWHmt"
      }
    },
    {
      "cell_type": "code",
      "source": [
        "# 구글 드라이브에 저장랄 파일 경로(이름)\n",
        "file_path = '/content/drive/MyDrive/Colab Notebooks 2/emails.txt'"
      ],
      "metadata": {
        "id": "2Zvl4t4BSpSm"
      },
      "execution_count": null,
      "outputs": []
    },
    {
      "cell_type": "code",
      "source": [
        "with open(file_path,'w')as f:\n",
        "    f.write('hgd@naver.com\\n')\n",
        "    f.write('gildong@kakao.com\\n')\n",
        "    f.write('gildong.hong@gmail.com\\n')\n",
        "\n",
        "print('파일 쓰기 종료')"
      ],
      "metadata": {
        "colab": {
          "base_uri": "https://localhost:8080/"
        },
        "id": "tXLXAchwUq29",
        "outputId": "a561aa37-09a4-411e-bb7b-f7121e0ae683"
      },
      "execution_count": null,
      "outputs": [
        {
          "output_type": "stream",
          "name": "stdout",
          "text": [
            "파일 쓰기 종료\n"
          ]
        }
      ]
    },
    {
      "cell_type": "markdown",
      "source": [
        "## Google Drive에서 파일 읽기"
      ],
      "metadata": {
        "id": "Tmz_c-IYWW_1"
      }
    },
    {
      "cell_type": "code",
      "source": [
        "with open(file_path) as f:\n",
        "    for line in f:\n",
        "        print(line.strip())"
      ],
      "metadata": {
        "colab": {
          "base_uri": "https://localhost:8080/"
        },
        "id": "baF42plrWEid",
        "outputId": "91b1c691-61da-4e6c-ea61-84361985b310"
      },
      "execution_count": null,
      "outputs": [
        {
          "output_type": "stream",
          "name": "stdout",
          "text": [
            "hgd@naver.com\n",
            "gildong@kakao.com\n",
            "gildong.hong@gmail.com\n"
          ]
        }
      ]
    },
    {
      "cell_type": "code",
      "source": [
        "# 구글 드라이브의 emails.txt 파일을 한 줄씩 읽으면서 이메일 아이디만 출력.\n",
        "with open(file_path) as f:  # file_path의 파일을 읽기 모드(r)로 열기\n",
        "    for line in f:          # 파일 f에서 한 줄씩 읽으면서 파일 끝(EOF, end-of-file)까지 반복\n",
        "        # idx = line.find('@')\n",
        "        # print(line[:idx])\n",
        "        result = line.split('@')\n",
        "        print(result[0])\n",
        "        # print(line.split('@')[0])"
      ],
      "metadata": {
        "colab": {
          "base_uri": "https://localhost:8080/"
        },
        "id": "wriYc67ZW1kf",
        "outputId": "21ae3494-72f9-4cfd-8e26-a37f43f3e0b5"
      },
      "execution_count": null,
      "outputs": [
        {
          "output_type": "stream",
          "name": "stdout",
          "text": [
            "hgd\n",
            "gildong\n",
            "gildong.hong\n"
          ]
        }
      ]
    }
  ]
}